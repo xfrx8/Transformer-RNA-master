{
 "cells": [
  {
   "cell_type": "markdown",
   "id": "b0aa43a3",
   "metadata": {},
   "source": [
    "# Apply Encoder of Transformer Model (Self Attention) to Explore RNA-Protein Binding"
   ]
  },
  {
   "cell_type": "code",
   "execution_count": 1,
   "id": "febe31d0-34ea-4d56-8394-e46f02165475",
   "metadata": {},
   "outputs": [
    {
     "name": "stderr",
     "output_type": "stream",
     "text": [
      "2024-04-22 15:37:13.780727: I tensorflow/core/platform/cpu_feature_guard.cc:193] This TensorFlow binary is optimized with oneAPI Deep Neural Network Library (oneDNN) to use the following CPU instructions in performance-critical operations:  AVX2 AVX_VNNI FMA\n",
      "To enable them in other operations, rebuild TensorFlow with the appropriate compiler flags.\n",
      "2024-04-22 15:37:13.840627: I tensorflow/core/util/port.cc:104] oneDNN custom operations are on. You may see slightly different numerical results due to floating-point round-off errors from different computation orders. To turn them off, set the environment variable `TF_ENABLE_ONEDNN_OPTS=0`.\n",
      "2024-04-22 15:37:14.149352: W tensorflow/compiler/xla/stream_executor/platform/default/dso_loader.cc:64] Could not load dynamic library 'libnvinfer.so.7'; dlerror: libnvinfer.so.7: cannot open shared object file: No such file or directory; LD_LIBRARY_PATH: /usr/local/cuda-11.3/lib64\n",
      "2024-04-22 15:37:14.149389: W tensorflow/compiler/xla/stream_executor/platform/default/dso_loader.cc:64] Could not load dynamic library 'libnvinfer_plugin.so.7'; dlerror: libnvinfer_plugin.so.7: cannot open shared object file: No such file or directory; LD_LIBRARY_PATH: /usr/local/cuda-11.3/lib64\n",
      "2024-04-22 15:37:14.149391: W tensorflow/compiler/tf2tensorrt/utils/py_utils.cc:38] TF-TRT Warning: Cannot dlopen some TensorRT libraries. If you would like to use Nvidia GPU with TensorRT, please make sure the missing libraries mentioned above are installed properly.\n"
     ]
    }
   ],
   "source": [
    "import pandas as pd\n",
    "import tensorflow as tf\n",
    "from keras import layers\n",
    "import tensorflow_addons as tfa\n",
    "import numpy as np\n",
    "import matplotlib.pyplot as plt\n",
    "import seaborn as sns\n",
    "from sklearn.model_selection import train_test_split\n",
    "from sklearn.preprocessing import MinMaxScaler, Normalizer, KBinsDiscretizer\n",
    "from sklearn.pipeline import Pipeline, make_pipeline\n",
    "import datetime\n",
    "\n",
    "# ignore warnings\n",
    "import warnings\n",
    "warnings.filterwarnings('ignore')\n",
    "tf.get_logger().setLevel('ERROR')"
   ]
  },
  {
   "cell_type": "markdown",
   "id": "33a93be1",
   "metadata": {},
   "source": []
  },
  {
   "cell_type": "markdown",
   "id": "cad2fbca",
   "metadata": {},
   "source": [
    "## Data preparation"
   ]
  },
  {
   "cell_type": "code",
   "execution_count": 2,
   "id": "3f86cc08-c411-4ce1-a04d-c82e7a7558f9",
   "metadata": {},
   "outputs": [
    {
     "data": {
      "text/html": [
       "<div>\n",
       "<style scoped>\n",
       "    .dataframe tbody tr th:only-of-type {\n",
       "        vertical-align: middle;\n",
       "    }\n",
       "\n",
       "    .dataframe tbody tr th {\n",
       "        vertical-align: top;\n",
       "    }\n",
       "\n",
       "    .dataframe thead th {\n",
       "        text-align: right;\n",
       "    }\n",
       "</style>\n",
       "<table border=\"1\" class=\"dataframe\">\n",
       "  <thead>\n",
       "    <tr style=\"text-align: right;\">\n",
       "      <th></th>\n",
       "      <th>Sequence</th>\n",
       "      <th>Structure</th>\n",
       "      <th>MFE</th>\n",
       "      <th>K</th>\n",
       "      <th>KA</th>\n",
       "      <th>RKA</th>\n",
       "      <th>Qc</th>\n",
       "      <th>sevenMer</th>\n",
       "    </tr>\n",
       "  </thead>\n",
       "  <tbody>\n",
       "    <tr>\n",
       "      <th>0</th>\n",
       "      <td>GGAUCCAUUCAAAAAAAGAACGGAUCC</td>\n",
       "      <td>((((((.(((.......))).))))))</td>\n",
       "      <td>-10.5</td>\n",
       "      <td>4.971544</td>\n",
       "      <td>0.201145</td>\n",
       "      <td>0.395847</td>\n",
       "      <td>0</td>\n",
       "      <td>AAAAAAA</td>\n",
       "    </tr>\n",
       "    <tr>\n",
       "      <th>1</th>\n",
       "      <td>GGAUCCAUUCAAAAAACGAACGGAUCC</td>\n",
       "      <td>((((((.(((.......))).))))))</td>\n",
       "      <td>-10.5</td>\n",
       "      <td>4.514383</td>\n",
       "      <td>0.221514</td>\n",
       "      <td>0.435934</td>\n",
       "      <td>0</td>\n",
       "      <td>AAAAAAC</td>\n",
       "    </tr>\n",
       "    <tr>\n",
       "      <th>2</th>\n",
       "      <td>GGAUCCAUUCAAAAAAGGAACGGAUCC</td>\n",
       "      <td>((((((.(((.......))).))))))</td>\n",
       "      <td>-10.4</td>\n",
       "      <td>3.609146</td>\n",
       "      <td>0.277074</td>\n",
       "      <td>0.545273</td>\n",
       "      <td>0</td>\n",
       "      <td>AAAAAAG</td>\n",
       "    </tr>\n",
       "    <tr>\n",
       "      <th>3</th>\n",
       "      <td>GGAUCCAUUCAAAAAAUGAACGGAUCC</td>\n",
       "      <td>((((((.((((.....)))).))))))</td>\n",
       "      <td>-11.7</td>\n",
       "      <td>6.607685</td>\n",
       "      <td>0.151339</td>\n",
       "      <td>0.297831</td>\n",
       "      <td>0</td>\n",
       "      <td>AAAAAAU</td>\n",
       "    </tr>\n",
       "    <tr>\n",
       "      <th>4</th>\n",
       "      <td>GGAUCCAUUCAAAAACAGAACGGAUCC</td>\n",
       "      <td>((((((.(((.......))).))))))</td>\n",
       "      <td>-10.5</td>\n",
       "      <td>3.221327</td>\n",
       "      <td>0.310431</td>\n",
       "      <td>0.610919</td>\n",
       "      <td>0</td>\n",
       "      <td>AAAAACA</td>\n",
       "    </tr>\n",
       "  </tbody>\n",
       "</table>\n",
       "</div>"
      ],
      "text/plain": [
       "                      Sequence                    Structure   MFE         K  \\\n",
       "0  GGAUCCAUUCAAAAAAAGAACGGAUCC  ((((((.(((.......))).)))))) -10.5  4.971544   \n",
       "1  GGAUCCAUUCAAAAAACGAACGGAUCC  ((((((.(((.......))).)))))) -10.5  4.514383   \n",
       "2  GGAUCCAUUCAAAAAAGGAACGGAUCC  ((((((.(((.......))).)))))) -10.4  3.609146   \n",
       "3  GGAUCCAUUCAAAAAAUGAACGGAUCC  ((((((.((((.....)))).)))))) -11.7  6.607685   \n",
       "4  GGAUCCAUUCAAAAACAGAACGGAUCC  ((((((.(((.......))).)))))) -10.5  3.221327   \n",
       "\n",
       "         KA       RKA  Qc sevenMer  \n",
       "0  0.201145  0.395847   0  AAAAAAA  \n",
       "1  0.221514  0.435934   0  AAAAAAC  \n",
       "2  0.277074  0.545273   0  AAAAAAG  \n",
       "3  0.151339  0.297831   0  AAAAAAU  \n",
       "4  0.310431  0.610919   0  AAAAACA  "
      ]
     },
     "execution_count": 2,
     "metadata": {},
     "output_type": "execute_result"
    }
   ],
   "source": [
    "df_preprocess = pd.read_csv(\"data/Result_Structure.csv\")\n",
    "df = df_preprocess[df_preprocess[\"Qc\"]!=1]\n",
    "df.head()"
   ]
  },
  {
   "cell_type": "markdown",
   "id": "6d009b3a",
   "metadata": {},
   "source": [
    "## Set hyper parameters"
   ]
  },
  {
   "cell_type": "code",
   "execution_count": 3,
   "id": "09d15ca1",
   "metadata": {},
   "outputs": [],
   "source": [
    "seq_length=7\n",
    "num_layers=1\n",
    "d_model=9\n",
    "num_heads=3\n",
    "dff=64"
   ]
  },
  {
   "cell_type": "markdown",
   "id": "b5aa0130",
   "metadata": {},
   "source": [
    "## Functions to handle the RNA Inputs"
   ]
  },
  {
   "cell_type": "code",
   "execution_count": 4,
   "id": "6beb6b4e-b7bc-4e30-b047-71a74f098685",
   "metadata": {},
   "outputs": [],
   "source": [
    "def cutWord(x, window=1, length = seq_length):\n",
    "    seq2word = []\n",
    "    for i in range(length):\n",
    "        seq2word.append(x[i*window:i*window+window])\n",
    "    return \" \".join(seq2word)\n",
    "\n",
    "def RKA_bin(x):\n",
    "    if x >= 0.8:\n",
    "        return(1)\n",
    "    else:\n",
    "        return(0)\n",
    "\n",
    "def MFE_bin(x):\n",
    "    if x >= -14.:\n",
    "        return(1)\n",
    "    else:\n",
    "        return(0)"
   ]
  },
  {
   "cell_type": "markdown",
   "id": "2fdcebc1",
   "metadata": {},
   "source": [
    "## Normalization"
   ]
  },
  {
   "cell_type": "code",
   "execution_count": 5,
   "id": "f50dce0e",
   "metadata": {},
   "outputs": [
    {
     "name": "stdout",
     "output_type": "stream",
     "text": [
      "MinMaxScaler()\n"
     ]
    }
   ],
   "source": [
    "from sklearn.preprocessing import MinMaxScaler\n",
    "scaler = MinMaxScaler()\n",
    "print(scaler.fit(df[[\"RKA\"]]))\n",
    "\n",
    "df[\"RKA_norm\"] = scaler.transform(df[[\"RKA\"]])\n",
    "df[[\"RKA_logplus1\"]] = df[[\"RKA\"]].apply(lambda x: np.log(1+x))"
   ]
  },
  {
   "cell_type": "code",
   "execution_count": 6,
   "id": "c20b9904",
   "metadata": {},
   "outputs": [
    {
     "data": {
      "text/plain": [
       "<AxesSubplot:ylabel='Count'>"
      ]
     },
     "execution_count": 6,
     "metadata": {},
     "output_type": "execute_result"
    },
    {
     "data": {
      "image/png": "[encoded data removed]",
      "text/plain": [
       "<Figure size 640x480 with 1 Axes>"
      ]
     },
     "metadata": {},
     "output_type": "display_data"
    }
   ],
   "source": [
    "sns.histplot(df[[\"RKA_logplus1\"]])"
   ]
  },
  {
   "cell_type": "markdown",
   "id": "71ae9562",
   "metadata": {},
   "source": [
    "## Create dataset for Tensorflow model"
   ]
  },
  {
   "cell_type": "code",
   "execution_count": 7,
   "id": "18820a02-89ad-45a1-8de1-44bb348c6fdb",
   "metadata": {},
   "outputs": [
    {
     "name": "stderr",
     "output_type": "stream",
     "text": [
      "2024-04-22 15:37:15.332741: I tensorflow/compiler/xla/stream_executor/cuda/cuda_gpu_executor.cc:981] successful NUMA node read from SysFS had negative value (-1), but there must be at least one NUMA node, so returning NUMA node zero\n",
      "2024-04-22 15:37:15.340199: I tensorflow/compiler/xla/stream_executor/cuda/cuda_gpu_executor.cc:981] successful NUMA node read from SysFS had negative value (-1), but there must be at least one NUMA node, so returning NUMA node zero\n",
      "2024-04-22 15:37:15.340284: I tensorflow/compiler/xla/stream_executor/cuda/cuda_gpu_executor.cc:981] successful NUMA node read from SysFS had negative value (-1), but there must be at least one NUMA node, so returning NUMA node zero\n",
      "2024-04-22 15:37:15.340580: I tensorflow/core/platform/cpu_feature_guard.cc:193] This TensorFlow binary is optimized with oneAPI Deep Neural Network Library (oneDNN) to use the following CPU instructions in performance-critical operations:  AVX2 AVX_VNNI FMA\n",
      "To enable them in other operations, rebuild TensorFlow with the appropriate compiler flags.\n",
      "2024-04-22 15:37:15.342185: I tensorflow/compiler/xla/stream_executor/cuda/cuda_gpu_executor.cc:981] successful NUMA node read from SysFS had negative value (-1), but there must be at least one NUMA node, so returning NUMA node zero\n",
      "2024-04-22 15:37:15.342271: I tensorflow/compiler/xla/stream_executor/cuda/cuda_gpu_executor.cc:981] successful NUMA node read from SysFS had negative value (-1), but there must be at least one NUMA node, so returning NUMA node zero\n",
      "2024-04-22 15:37:15.342313: I tensorflow/compiler/xla/stream_executor/cuda/cuda_gpu_executor.cc:981] successful NUMA node read from SysFS had negative value (-1), but there must be at least one NUMA node, so returning NUMA node zero\n",
      "2024-04-22 15:37:15.617805: I tensorflow/compiler/xla/stream_executor/cuda/cuda_gpu_executor.cc:981] successful NUMA node read from SysFS had negative value (-1), but there must be at least one NUMA node, so returning NUMA node zero\n",
      "2024-04-22 15:37:15.617900: I tensorflow/compiler/xla/stream_executor/cuda/cuda_gpu_executor.cc:981] successful NUMA node read from SysFS had negative value (-1), but there must be at least one NUMA node, so returning NUMA node zero\n",
      "2024-04-22 15:37:15.617948: I tensorflow/compiler/xla/stream_executor/cuda/cuda_gpu_executor.cc:981] successful NUMA node read from SysFS had negative value (-1), but there must be at least one NUMA node, so returning NUMA node zero\n",
      "2024-04-22 15:37:15.617996: I tensorflow/core/common_runtime/gpu/gpu_device.cc:1613] Created device /job:localhost/replica:0/task:0/device:GPU:0 with 20794 MB memory:  -> device: 0, name: NVIDIA RTX A5000, pci bus id: 0000:01:00.0, compute capability: 8.6\n"
     ]
    }
   ],
   "source": [
    "df[\"RKA_level\"] = df.RKA.apply(RKA_bin)\n",
    "df[\"MFE_level\"] = df.RKA.apply(RKA_bin)\n",
    "target = df[[\"MFE_level\",\"RKA_level\"]].copy()\n",
    "sequences = df[[\"sevenMer\"]].copy()\n",
    "seq_spaced = sequences.applymap(cutWord)\n",
    "\n",
    "vectorize_layer = tf.keras.layers.TextVectorization(max_tokens=d_model, standardize='lower_and_strip_punctuation', split='whitespace', ngrams=None, output_mode='int')\n",
    "vectorize_layer.adapt(seq_spaced)\n",
    "\n",
    "#Divide to train and test\n",
    "X_train, X_test, y_train, y_test = train_test_split(seq_spaced, df[\"RKA_logplus1\"], test_size=0.33, random_state=42)\n",
    "#vec_seq = vectorize_layer(X_train)\n",
    "#seq_database = v\n",
    "all_vec_seq = vectorize_layer(seq_spaced)\n",
    "all_vec_seq = tf.data.Dataset.from_tensor_slices(all_vec_seq)\n",
    "#target_database = tf.data.Dataset.from_tensor_slices(y_train)\n",
    "target_database = tf.data.Dataset.from_tensor_slices(df[\"RKA_logplus1\"])\n",
    "x_test_database = vectorize_layer(X_test)\n",
    "x_test_database = tf.data.Dataset.from_tensor_slices(x_test_database)\n",
    "y_test_database = tf.data.Dataset.from_tensor_slices(y_test)"
   ]
  },
  {
   "cell_type": "code",
   "execution_count": 8,
   "id": "eeca1ef5",
   "metadata": {},
   "outputs": [],
   "source": [
    "#train_set = tf.data.Dataset.zip((seq_database, target_database))\n",
    "train_set = tf.data.Dataset.zip((all_vec_seq, target_database))\n",
    "test_dataset = tf.data.Dataset.zip((x_test_database, y_test_database))\n",
    "real_train_set = train_set.batch(50).shuffle(50)\n",
    "test_dataset = test_dataset.batch(50)\n",
    "#next(iter(train_set.batch(10)))"
   ]
  },
  {
   "cell_type": "markdown",
   "id": "93c63d37",
   "metadata": {},
   "source": [
    "## Build Encoder of Transformer model\n",
    "\n",
    "### Self attention"
   ]
  },
  {
   "cell_type": "code",
   "execution_count": 9,
   "id": "b7486e47-19c2-4711-b10d-e75ccf19e07a",
   "metadata": {},
   "outputs": [],
   "source": [
    "def scaled_dot_product_attention(q, k, v, mask=None):\n",
    "    matmul_qk = tf.matmul(q, k, transpose_b=True) # Shape = (..., seq_len_q, seq_len_k)\n",
    "    # scale matmul_qk\n",
    "    dk = tf.cast(tf.shape(k)[-1], tf.float32)\n",
    "    scaled_attention_logits = matmul_qk / tf.math.sqrt(dk)\n",
    "\n",
    "    # add the mask to the scaled tensor.\n",
    "    if mask is not None:\n",
    "        scaled_attention_logits += (mask * -1e9)\n",
    "\n",
    "    # softmax is normalized on the last axis (seq_len_k) so that the scores\n",
    "    # add up to 1.\n",
    "    attention_weights = tf.nn.softmax(scaled_attention_logits, axis=-1)  # (..., seq_len_q, seq_len_k)\n",
    "\n",
    "    # calculate matmul_qk_v\n",
    "    output = tf.matmul(attention_weights, v)  # (..., seq_len_q, depth_v)\n",
    "\n",
    "    return output, attention_weights, matmul_qk\n",
    "\n",
    "#create multi-head attention layer\n",
    "class MultiHeadAttention(tf.keras.layers.Layer):\n",
    "    def __init__(self, d_model, num_heads):\n",
    "        super(MultiHeadAttention, self).__init__()\n",
    "        self.num_heads = num_heads\n",
    "        self.d_model = d_model\n",
    "\n",
    "        #Because for multi-head, head number * depth = multi-head\n",
    "        assert d_model % self.num_heads == 0\n",
    "        self.depth = d_model // self.num_heads\n",
    "\n",
    "        #Set layers for q, k, v\n",
    "        self.wq = tf.keras.layers.Dense(d_model)\n",
    "        self.wk = tf.keras.layers.Dense(d_model)\n",
    "        self.wv = tf.keras.layers.Dense(d_model)\n",
    "\n",
    "        self.dense = tf.keras.layers.Dense(d_model)\n",
    "    \n",
    "    def split_heads(self, x, batch_size):\n",
    "        \"\"\"Split the last dimension into (num_heads, depth).\n",
    "        Transpose the result such that the shape is (batch_size, num_heads, seq_len, depth)\n",
    "        \"\"\"\n",
    "        x = tf.reshape(x, (batch_size, -1, self.num_heads, self.depth)) \n",
    "        return tf.transpose(x, perm=[0, 2, 1, 3]) # shape = (batch_size, num_heads, seq_len, depth)\n",
    "\n",
    "    def call(self, v, k, q, mask):\n",
    "        batch_size = tf.shape(q)[0]\n",
    "        q = self.wq(q)  # (batch_size, seq_len, d_model)\n",
    "        k = self.wk(k)  # (batch_size, seq_len, d_model)\n",
    "        v = self.wv(v)  # (batch_size, seq_len, d_model)\n",
    "\n",
    "        q = self.split_heads(q, batch_size)  # (batch_size, num_heads, seq_len_q, depth)\n",
    "        k = self.split_heads(k, batch_size)  # (batch_size, num_heads, seq_len_k, depth)\n",
    "        v = self.split_heads(v, batch_size)  # (batch_size, num_heads, seq_len_v, depth)\n",
    "\n",
    "        # scaled_attention.shape == (batch_size, num_heads, seq_len_q, depth)\n",
    "        # attention_weights.shape == (batch_size, num_heads, seq_len_q, seq_len_k)\n",
    "        scaled_attention, attention_weights, matmul_qk= scaled_dot_product_attention(\n",
    "            q, k, v, mask)\n",
    "\n",
    "        scaled_attention = tf.transpose(scaled_attention, perm=[0, 2, 1, 3])  # (batch_size, seq_len_q, num_heads, depth)\n",
    "\n",
    "        concat_attention = tf.reshape(scaled_attention,\n",
    "                                  (batch_size, -1, self.d_model))  # (batch_size, seq_len_q, d_model)\n",
    "        output = self.dense(concat_attention)  # (batch_size, seq_len_q, d_model)\n",
    "\n",
    "        return output, attention_weights, matmul_qk"
   ]
  },
  {
   "cell_type": "markdown",
   "id": "51930153",
   "metadata": {},
   "source": [
    "### Fully connected layer and Encoder layer"
   ]
  },
  {
   "cell_type": "code",
   "execution_count": 10,
   "id": "fd1738c8-b834-4375-bf81-bbe3f37cb92e",
   "metadata": {},
   "outputs": [],
   "source": [
    "def point_wise_feed_forward_network(d_model, dff):\n",
    "    return tf.keras.Sequential([\n",
    "        tf.keras.layers.Dense(dff, activation='relu'),  # (batch_size, seq_len, dff)\n",
    "        tf.keras.layers.Dense(d_model)  # (batch_size, seq_len, d_model)\n",
    "        ])\n",
    "        \n",
    "class EncoderLayer(tf.keras.layers.Layer):\n",
    "    def __init__(self, d_model, num_heads, dff, rate=0.1):\n",
    "        super(EncoderLayer, self).__init__()\n",
    "\n",
    "        #define layers\n",
    "        self.mha = MultiHeadAttention(d_model, num_heads)\n",
    "        self.ffn = point_wise_feed_forward_network(d_model, dff)\n",
    "\n",
    "        self.layernorm1 = tf.keras.layers.LayerNormalization(epsilon=1e-6)\n",
    "        self.layernorm2 = tf.keras.layers.LayerNormalization(epsilon=1e-6)\n",
    "\n",
    "        self.dropout1 = tf.keras.layers.Dropout(rate)\n",
    "        self.dropout2 = tf.keras.layers.Dropout(rate)\n",
    "\n",
    "    def call(self, x, training, mask=None):\n",
    "\n",
    "        attn_output, attn_weight, matmul_qk = self.mha(x, x, x, mask)  # (batch_size, input_seq_len, d_model)\n",
    "        attn_output = self.dropout1(attn_output, training=training)\n",
    "        out1 = self.layernorm1(x + attn_output)  # (batch_size, input_seq_len, d_model)\n",
    "\n",
    "        ffn_output = self.ffn(out1)  # (batch_size, input_seq_len, d_model)\n",
    "        ffn_output = self.dropout2(ffn_output, training=training)\n",
    "        out2 = self.layernorm2(out1 + ffn_output)  # (batch_size, input_seq_len, d_model)\n",
    "\n",
    "        return out2, attn_weight, matmul_qk\n"
   ]
  },
  {
   "cell_type": "markdown",
   "id": "3a8ab76d",
   "metadata": {},
   "source": [
    "### Position Encoding"
   ]
  },
  {
   "cell_type": "code",
   "execution_count": 11,
   "id": "b327ace7",
   "metadata": {},
   "outputs": [],
   "source": [
    "def get_angles(pos, i, d_model):\n",
    "    angle_rate = 1/np.power(10000, (2*(i/2))/np.float32(d_model))\n",
    "    return pos*angle_rate\n",
    "\n",
    "def positional_encoding(position, d_model):\n",
    "    angle_rads = get_angles(np.arange(position)[:, np.newaxis],\n",
    "                            np.arange(d_model)[np.newaxis, :]\n",
    "                            ,d_model)\n",
    "    # apply sin to even indices in the array; 2i\n",
    "    angle_rads[:, 0::2] = np.sin(angle_rads[:, 0::2])\n",
    "    # apply cos to odd indices in the array; 2i+1\n",
    "    angle_rads[:, 1::2] = np.cos(angle_rads[:, 1::2])\n",
    "    pos_encoding = angle_rads[np.newaxis, ...]\n",
    "    return tf.cast(pos_encoding, dtype=tf.float32)"
   ]
  },
  {
   "cell_type": "code",
   "execution_count": 12,
   "id": "163b9512",
   "metadata": {},
   "outputs": [
    {
     "data": {
      "text/plain": [
       "<tf.Tensor: shape=(1, 1, 9), dtype=float32, numpy=array([[[0., 1., 0., 1., 0., 1., 0., 1., 0.]]], dtype=float32)>"
      ]
     },
     "execution_count": 12,
     "metadata": {},
     "output_type": "execute_result"
    }
   ],
   "source": [
    "positional_encoding(1, 9)"
   ]
  },
  {
   "cell_type": "markdown",
   "id": "c258082e",
   "metadata": {},
   "source": [
    "### Encoder"
   ]
  },
  {
   "cell_type": "code",
   "execution_count": 13,
   "id": "0e4b9d93-4b89-4f58-9b9e-5d2dbaa5164c",
   "metadata": {},
   "outputs": [],
   "source": [
    "class Encoder(tf.keras.layers.Layer):\n",
    "    def __init__(self, num_layers, d_model, num_heads, dff, input_vocab_size,\n",
    "                 maximum_position_encoding, rate=0.1):\n",
    "        super(Encoder, self).__init__()\n",
    "        self.d_model = d_model\n",
    "        self.num_layers = num_layers #how many encoder layers\n",
    "        self.embedding = tf.keras.layers.Embedding(input_vocab_size, d_model)\n",
    "        self.pos_encoding = positional_encoding(maximum_position_encoding, d_model)\n",
    "        self.enc_layers = [EncoderLayer(d_model, num_heads, dff, rate) for _ in range(num_layers)]\n",
    "        self.dropout = tf.keras.layers.Dropout(rate)\n",
    "        self.attention_weights = {}\n",
    "        self.matmul_qks = {}\n",
    "        \n",
    "    def call(self, x, training, mask=None):\n",
    "        #attention_weights = {}\n",
    "        #encoding and position encoding\n",
    "        seq_len = tf.shape(x)[1]\n",
    "        x = self.embedding(x) # (batch_size, input_seq_len, d_model)\n",
    "        x *= tf.math.sqrt(tf.cast(self.d_model, tf.float32))\n",
    "        \n",
    "        \n",
    "        x += self.pos_encoding[:, :seq_len, :]\n",
    "\n",
    "        x = self.dropout(x, training=training)\n",
    "\n",
    "        for i in range(self.num_layers):\n",
    "            x, block, matmul_qk = self.enc_layers[i](x, training, mask)\n",
    "            self.attention_weights[f'attentions_{i+1}'] = block\n",
    "            self.matmul_qks[f'matmul_qk_{i+1}'] = matmul_qk\n",
    "            \n",
    "        #attention_weights[f'decoder_layer{i+1}_block'] = block\n",
    "        return x, block # (batch_size, input_seq_len, d_model)\n",
    "    \n",
    "    def get_attention(self):\n",
    "        return self.attention_weights\n",
    "    def get_matmul_qks(self):\n",
    "        return self.matmul_qks"
   ]
  },
  {
   "cell_type": "markdown",
   "id": "4284c0a5",
   "metadata": {},
   "source": [
    "### Test of Encoder"
   ]
  },
  {
   "cell_type": "code",
   "execution_count": 14,
   "id": "405a68b4-b50a-443a-8a4d-0092b80bfe07",
   "metadata": {},
   "outputs": [
    {
     "name": "stderr",
     "output_type": "stream",
     "text": [
      "2024-04-22 15:37:16.462785: I tensorflow/compiler/xla/stream_executor/cuda/cuda_blas.cc:630] TensorFloat-32 will be used for the matrix multiplication. This will only be logged once.\n"
     ]
    },
    {
     "data": {
      "text/plain": [
       "TensorShape([7, 7, 5])"
      ]
     },
     "execution_count": 14,
     "metadata": {},
     "output_type": "execute_result"
    }
   ],
   "source": [
    "sample_encoder = Encoder(num_layers=2, d_model=5, num_heads=1,\n",
    "                         dff=dff, input_vocab_size=10,\n",
    "                         maximum_position_encoding=24)\n",
    "temp_input = vectorize_layer(seq_spaced)\n",
    "#temp_input = tf.random.uniform((3, 24), dtype=tf.int64, minval=0, maxval=200)\n",
    "sample_encoder_output = sample_encoder(temp_input[22:29], training=False, mask=None)\n",
    "sample_encoder_output[0].shape"
   ]
  },
  {
   "cell_type": "markdown",
   "id": "f4ced629",
   "metadata": {},
   "source": [
    "## Create model"
   ]
  },
  {
   "cell_type": "code",
   "execution_count": 15,
   "id": "7a21f309-13a3-42f8-9ffb-870055dd21d1",
   "metadata": {},
   "outputs": [],
   "source": [
    "def create_model(seq_length, num_layers, d_model, num_heads, dff, input_vocab_size, maximum_position_encoding, rate=0.1):\n",
    "    input = tf.keras.Input(shape=(seq_length,))\n",
    "    x , aws= Encoder(num_layers, d_model, num_heads, dff,\n",
    "                input_vocab_size, maximum_position_encoding, rate=0.1)(input)\n",
    "    x = tf.keras.layers.Reshape((seq_length*d_model,))(x)\n",
    "    x = tf.keras.layers.Dense(seq_length, activation='relu')(x)\n",
    "    x = tf.keras.layers.Dense(1)(x)\n",
    "    output = tf.squeeze(x)\n",
    "    \n",
    "    return tf.keras.Model(inputs=input, outputs=output)\n",
    "    "
   ]
  },
  {
   "cell_type": "code",
   "execution_count": 16,
   "id": "4ca8b704-a4a7-49be-b52a-bad9eed97073",
   "metadata": {},
   "outputs": [
    {
     "data": {
      "text/plain": [
       "<tf.Tensor: shape=(), dtype=float32, numpy=1.1558361>"
      ]
     },
     "execution_count": 16,
     "metadata": {},
     "output_type": "execute_result"
    }
   ],
   "source": [
    "model = create_model(seq_length=seq_length, num_layers= num_layers, d_model=d_model, num_heads=num_heads,\n",
    "                         dff=dff, input_vocab_size=10,\n",
    "                         maximum_position_encoding=7)\n",
    "p = vectorize_layer(seq_spaced.iloc[17])\n",
    "model(p)"
   ]
  },
  {
   "cell_type": "code",
   "execution_count": 17,
   "id": "7b453f05",
   "metadata": {},
   "outputs": [
    {
     "name": "stdout",
     "output_type": "stream",
     "text": [
      "Model: \"model\"\n",
      "_________________________________________________________________\n",
      " Layer (type)                Output Shape              Param #   \n",
      "=================================================================\n",
      " input_1 (InputLayer)        [(None, 7)]               0         \n",
      "                                                                 \n",
      " encoder_1 (Encoder)         ((None, 7, 9),            1711      \n",
      "                              (None, 3, None, None))             \n",
      "                                                                 \n",
      " reshape (Reshape)           (None, 63)                0         \n",
      "                                                                 \n",
      " dense_18 (Dense)            (None, 7)                 448       \n",
      "                                                                 \n",
      " dense_19 (Dense)            (None, 1)                 8         \n",
      "                                                                 \n",
      " tf.compat.v1.squeeze (TFOpL  None                     0         \n",
      " ambda)                                                          \n",
      "                                                                 \n",
      "=================================================================\n",
      "Total params: 2,167\n",
      "Trainable params: 2,167\n",
      "Non-trainable params: 0\n",
      "_________________________________________________________________\n"
     ]
    }
   ],
   "source": [
    "model.summary()"
   ]
  },
  {
   "cell_type": "markdown",
   "id": "5367f182",
   "metadata": {},
   "source": [
    "## Test our model to see if it can work and get the attention matrix"
   ]
  },
  {
   "cell_type": "code",
   "execution_count": 18,
   "id": "3ee88c5d-55dc-4a82-94ab-c8c12a161840",
   "metadata": {},
   "outputs": [
    {
     "data": {
      "text/plain": [
       "<AxesSubplot:>"
      ]
     },
     "execution_count": 18,
     "metadata": {},
     "output_type": "execute_result"
    },
    {
     "data": {
      "image/png": "[encoded data removed]",
      "text/plain": [
       "<Figure size 640x480 with 2 Axes>"
      ]
     },
     "metadata": {},
     "output_type": "display_data"
    }
   ],
   "source": [
    "for i in real_train_set.take(1):\n",
    "    q = model(i[0])\n",
    "att = model.layers[1].get_attention()['attentions_1']\n",
    "qk = model.layers[1].get_matmul_qks()['matmul_qk_1']\n",
    "#forheat = tf.squeeze(att).numpy()\n",
    "sns.heatmap(qk[(0,0)])"
   ]
  },
  {
   "cell_type": "markdown",
   "id": "bc7cedcf",
   "metadata": {},
   "source": [
    "## Custom Schedule/ Accuracy/ Loss functions"
   ]
  },
  {
   "cell_type": "code",
   "execution_count": 19,
   "id": "29255630",
   "metadata": {},
   "outputs": [],
   "source": [
    "class CustomSchedule(tf.keras.optimizers.schedules.LearningRateSchedule):\n",
    "    def __init__(self, d_model, warmup_steps=4000):\n",
    "        super(CustomSchedule, self).__init__()\n",
    "        self.d_model = d_model\n",
    "        self.d_model = tf.cast(self.d_model, tf.float32)\n",
    "        self.warmup_steps = warmup_steps\n",
    "    \n",
    "    def __call__(self, step):\n",
    "        step = tf.cast(step, tf.float32)\n",
    "        arg1 = tf.math.rsqrt(step)\n",
    "        arg2 = step * (self.warmup_steps ** -1.5)\n",
    "        return tf.math.rsqrt(self.d_model) * tf.math.minimum(arg1, arg2)\n",
    "\n",
    "learning_rate = CustomSchedule(d_model)\n",
    "\n",
    "optimizer = tf.keras.optimizers.Adam(learning_rate, beta_1=0.9, beta_2=0.98,\n",
    "                                     epsilon=1e-9)\n",
    "#optimizer = tf.keras.optimizers.Adam()\n",
    "\n",
    "#loss_object = tf.keras.losses.SparseCategoricalCrossentropy(from_logits=False, reduction='none')\n",
    "loss_object = loss=tf.keras.losses.MeanAbsoluteError()\n",
    "\n",
    "def loss_function(real, pred):\n",
    "    #mask = tf.math.logical_not(tf.math.equal(real, 0))\n",
    "    loss_ = loss_object(real, pred)\n",
    "    #mask = tf.cast(mask, dtype=loss_.dtype)\n",
    "    #loss_ *= mask\n",
    "    #return tf.reduce_sum(loss_)/tf.reduce_sum(mask)\n",
    "    return tf.reduce_sum(loss_)\n",
    "\n",
    "\n",
    "def accuracy_function(real, pred):\n",
    "    accuracies = loss_object(real, pred)\n",
    "    #accuracies = tf.equal(real, tf.argmax(pred, axis=2))\n",
    "    #accuracies = tf.keras.losses.MeanAbsoluteError(real, pred)\n",
    "    #mask = tf.math.logical_not(tf.math.equal(real, 0))\n",
    "    #accuracies = tf.math.logical_and(mask, accuracies)\n",
    "    #accuracies = tf.cast(accuracies, dtype=tf.float32)\n",
    "    #mask = tf.cast(mask, dtype=tf.float32)\n",
    "    #return tf.reduce_sum(accuracies)/tf.reduce_sum(mask)\n",
    "    return tf.reduce_sum(accuracies)\n",
    "\n",
    "train_metric = tfa.metrics.r_square.RSquare()\n",
    "test_metric = tfa.metrics.r_square.RSquare()\n",
    "\n",
    "train_loss = tf.keras.metrics.Mean(name='train_loss')\n",
    "test_loss = tf.keras.metrics.Mean(name='test_loss')\n",
    "train_accuracy = tf.keras.metrics.Mean(name='train_accuracy')\n",
    "test_accuracy = tf.keras.metrics.Mean(name='test_accuracy')"
   ]
  },
  {
   "cell_type": "code",
   "execution_count": 20,
   "id": "d9f60aa4",
   "metadata": {},
   "outputs": [
    {
     "name": "stdout",
     "output_type": "stream",
     "text": [
      "Latest checkpoint restored!!\n"
     ]
    }
   ],
   "source": [
    "checkpoint_path = \"./checkpoints_64_21_pos/new\"\n",
    "\n",
    "ckpt = tf.train.Checkpoint(transformer=model,\n",
    "                           optimizer=optimizer)\n",
    "\n",
    "ckpt_manager = tf.train.CheckpointManager(ckpt, checkpoint_path, max_to_keep=5)\n",
    "\n",
    "# if a checkpoint exists, restore the latest checkpoint.\n",
    "if ckpt_manager.latest_checkpoint:\n",
    "  ckpt.restore(ckpt_manager.latest_checkpoint)\n",
    "  print('Latest checkpoint restored!!')"
   ]
  },
  {
   "attachments": {},
   "cell_type": "markdown",
   "id": "80d4085f",
   "metadata": {},
   "source": [
    "## Customized Train/Test steps\n",
    "\n",
    "If you face some type mismatch, please use pip install typeguard==2.13.3.\n",
    "typeguard 3.0.0 version was released recently that's the reason why it's not working.\n",
    "\n",
    "Source: https://stackoverflow.com/questions/75759597/typeerror-isinstance-arg-2-must-be-a-type-or-tuple-of-types-in-tensorflow-add"
   ]
  },
  {
   "cell_type": "code",
   "execution_count": 21,
   "id": "62b97135-299c-4559-8941-40c2c000a158",
   "metadata": {},
   "outputs": [],
   "source": [
    "# The @tf.function trace-compiles train_step into a TF graph for faster\n",
    "# execution. The function specializes to the precise shape of the argument\n",
    "# tensors. To avoid re-tracing due to the variable sequence lengths or variable\n",
    "# batch sizes (the last batch is smaller), use input_signature to specify\n",
    "# more generic shapes.\n",
    "\n",
    "#train_step_signature = [\n",
    "#    tf.TensorSpec(shape=(None, None), dtype=tf.int64),\n",
    "#    tf.TensorSpec(shape=(None), dtype=tf.int64),\n",
    "#]\n",
    "\n",
    "\n",
    "#@tf.function(input_signature=train_step_signature)\n",
    "def train_step(inp, tar):\n",
    "    #inp = inp\n",
    "    target = tar\n",
    "\n",
    "    with tf.GradientTape() as tape:\n",
    "        predictions = model(inp, training = True)\n",
    "        loss = loss_function(target, predictions)\n",
    "\n",
    "    gradients = tape.gradient(loss, model.trainable_variables)\n",
    "    optimizer.apply_gradients(zip(gradients, model.trainable_variables))\n",
    "    \n",
    "    train_loss(loss)\n",
    "\n",
    "    train_metric.update_state(target, predictions)\n",
    "    #result = metric.result()\n",
    "    #train_accuracy(result)\n",
    "    #train_accuracy(accuracy_function(target, predictions))\n",
    "    \n",
    "def test_step(model, inp, tar):\n",
    "    #inp = inp\n",
    "    target = tar\n",
    "    predictions = model(inp)\n",
    "    testloss = loss_function(tar, predictions)\n",
    "    test_loss(testloss)\n",
    "    test_metric.update_state(target, predictions)\n",
    "\n",
    "    #result = metric.result()\n",
    "    #test_accuracy(result)\n",
    "\n",
    "    #train_accuracy(accuracy_function(target, predictions))\n",
    "\n",
    "current_time = datetime.datetime.now().strftime(\"%Y%m%d-%H%M%S\")\n",
    "train_log_dir = 'logs/gradient_tape/' + current_time + '/train'\n",
    "test_log_dir = 'logs/gradient_tape/' + current_time + '/test'\n",
    "train_summary_writer = tf.summary.create_file_writer(train_log_dir)\n",
    "test_summary_writer = tf.summary.create_file_writer(test_log_dir)"
   ]
  },
  {
   "cell_type": "markdown",
   "id": "bc5c7f33",
   "metadata": {},
   "source": [
    "## Train loop"
   ]
  },
  {
   "cell_type": "code",
   "execution_count": 22,
   "id": "c180ff22-68d6-4461-91f9-6a784a977175",
   "metadata": {},
   "outputs": [
    {
     "name": "stderr",
     "output_type": "stream",
     "text": [
      "2024-04-22 15:37:17.025915: I tensorflow/compiler/xla/service/service.cc:173] XLA service 0x694634b0 initialized for platform CUDA (this does not guarantee that XLA will be used). Devices:\n",
      "2024-04-22 15:37:17.025933: I tensorflow/compiler/xla/service/service.cc:181]   StreamExecutor device (0): NVIDIA RTX A5000, Compute Capability 8.6\n",
      "2024-04-22 15:37:17.028713: I tensorflow/compiler/mlir/tensorflow/utils/dump_mlir_util.cc:268] disabling MLIR crash reproducer, set env var `MLIR_CRASH_REPRODUCER_DIRECTORY` to enable.\n",
      "2024-04-22 15:37:17.097589: I tensorflow/compiler/jit/xla_compilation_cache.cc:477] Compiled cluster using XLA!  This line is logged at most once for the lifetime of the process.\n"
     ]
    },
    {
     "name": "stdout",
     "output_type": "stream",
     "text": [
      "Epoch 1 Batch 0 Loss 0.0608 Accuracy 0.6795\n",
      "Epoch 1 Batch 300 Loss 0.0693 Accuracy 0.5418\n",
      "Epoch 1, Loss: 0.06961669772863388, Test Loss: 0.06638073176145554, Test R^2: 0.5871281623840332\n",
      "Epoch 2 Batch 0 Loss 0.0870 Accuracy 0.5373\n",
      "Epoch 2 Batch 300 Loss 0.0696 Accuracy 0.5373\n",
      "Epoch 2, Loss: 0.06942771375179291, Test Loss: 0.06661354750394821, Test R^2: 0.5874031186103821\n",
      "Epoch 3 Batch 0 Loss 0.0616 Accuracy 0.5373\n",
      "Epoch 3 Batch 300 Loss 0.0689 Accuracy 0.5392\n",
      "Epoch 3, Loss: 0.06903368979692459, Test Loss: 0.06734780222177505, Test R^2: 0.5733217000961304\n",
      "Epoch 4 Batch 0 Loss 0.1106 Accuracy 0.5379\n",
      "Epoch 4 Batch 300 Loss 0.0702 Accuracy 0.5354\n",
      "Epoch 4, Loss: 0.06997249275445938, Test Loss: 0.06706275790929794, Test R^2: 0.5822749137878418\n",
      "Epoch 5 Batch 0 Loss 0.0591 Accuracy 0.5360\n",
      "Epoch 5 Batch 300 Loss 0.0691 Accuracy 0.5381\n",
      "Epoch 5, Loss: 0.0689636692404747, Test Loss: 0.06700749695301056, Test R^2: 0.5793014764785767\n",
      "Saving checkpoint for epoch 5 at ./checkpoints_64_21_pos/new/ckpt-21\n",
      "Epoch 5 Loss 0.0690 Accuracy 0.5382\n",
      "Time taken for 1 epoch: 5.95 secs\n",
      "\n",
      "Epoch 6 Batch 0 Loss 0.0858 Accuracy 0.5381\n",
      "Epoch 6 Batch 300 Loss 0.0693 Accuracy 0.5386\n",
      "Epoch 6, Loss: 0.06921170651912689, Test Loss: 0.06713409721851349, Test R^2: 0.575846791267395\n",
      "Epoch 7 Batch 0 Loss 0.0612 Accuracy 0.5387\n",
      "Epoch 7 Batch 300 Loss 0.0690 Accuracy 0.5395\n",
      "Epoch 7, Loss: 0.06888854503631592, Test Loss: 0.0668407529592514, Test R^2: 0.578900933265686\n",
      "Epoch 8 Batch 0 Loss 0.0698 Accuracy 0.5396\n",
      "Epoch 8 Batch 300 Loss 0.0693 Accuracy 0.5395\n",
      "Epoch 8, Loss: 0.06932654976844788, Test Loss: 0.06681157648563385, Test R^2: 0.5784857273101807\n",
      "Epoch 9 Batch 0 Loss 0.0617 Accuracy 0.5396\n",
      "Epoch 9 Batch 300 Loss 0.0693 Accuracy 0.5399\n",
      "Epoch 9, Loss: 0.06933940947055817, Test Loss: 0.06643792241811752, Test R^2: 0.5829697251319885\n",
      "Epoch 10 Batch 0 Loss 0.0570 Accuracy 0.5399\n",
      "Epoch 10 Batch 300 Loss 0.0691 Accuracy 0.5404\n",
      "Epoch 10, Loss: 0.0691559761762619, Test Loss: 0.06616663187742233, Test R^2: 0.5853878259658813\n",
      "Saving checkpoint for epoch 10 at ./checkpoints_64_21_pos/new/ckpt-22\n",
      "Epoch 10 Loss 0.0692 Accuracy 0.5402\n",
      "Time taken for 1 epoch: 6.02 secs\n",
      "\n",
      "Epoch 11 Batch 0 Loss 0.0600 Accuracy 0.5402\n",
      "Epoch 11 Batch 300 Loss 0.0682 Accuracy 0.5411\n",
      "Epoch 11, Loss: 0.06856641918420792, Test Loss: 0.06583493947982788, Test R^2: 0.5888469219207764\n",
      "Epoch 12 Batch 0 Loss 0.0750 Accuracy 0.5413\n",
      "Epoch 12 Batch 300 Loss 0.0679 Accuracy 0.5423\n",
      "Epoch 12, Loss: 0.06820084154605865, Test Loss: 0.06566958129405975, Test R^2: 0.5915782451629639\n",
      "Epoch 13 Batch 0 Loss 0.0587 Accuracy 0.5421\n",
      "Epoch 13 Batch 300 Loss 0.0689 Accuracy 0.5425\n",
      "Epoch 13, Loss: 0.06866063177585602, Test Loss: 0.06567151844501495, Test R^2: 0.5904831886291504\n",
      "Epoch 14 Batch 0 Loss 0.0865 Accuracy 0.5426\n",
      "Epoch 14 Batch 300 Loss 0.0687 Accuracy 0.5427\n",
      "Epoch 14, Loss: 0.06851121038198471, Test Loss: 0.06558142602443695, Test R^2: 0.5921214818954468\n",
      "Epoch 15 Batch 0 Loss 0.0584 Accuracy 0.5427\n",
      "Epoch 15 Batch 300 Loss 0.0689 Accuracy 0.5429\n",
      "Epoch 15, Loss: 0.06856923550367355, Test Loss: 0.0657944306731224, Test R^2: 0.5885797739028931\n",
      "Saving checkpoint for epoch 15 at ./checkpoints_64_21_pos/new/ckpt-23\n",
      "Epoch 15 Loss 0.0686 Accuracy 0.5429\n",
      "Time taken for 1 epoch: 6.08 secs\n",
      "\n",
      "Epoch 16 Batch 0 Loss 0.0409 Accuracy 0.5429\n",
      "Epoch 16 Batch 300 Loss 0.0684 Accuracy 0.5433\n",
      "Epoch 16, Loss: 0.06836969405412674, Test Loss: 0.06559330224990845, Test R^2: 0.59074866771698\n",
      "Epoch 17 Batch 0 Loss 0.0581 Accuracy 0.5433\n",
      "Epoch 17 Batch 300 Loss 0.0684 Accuracy 0.5439\n",
      "Epoch 17, Loss: 0.06834380328655243, Test Loss: 0.06550001353025436, Test R^2: 0.5917313098907471\n",
      "Epoch 18 Batch 0 Loss 0.0819 Accuracy 0.5437\n",
      "Epoch 18 Batch 300 Loss 0.0679 Accuracy 0.5444\n",
      "Epoch 18, Loss: 0.06792960315942764, Test Loss: 0.06542503833770752, Test R^2: 0.5924596190452576\n",
      "Epoch 19 Batch 0 Loss 0.0854 Accuracy 0.5443\n",
      "Epoch 19 Batch 300 Loss 0.0684 Accuracy 0.5447\n",
      "Epoch 19, Loss: 0.06830979883670807, Test Loss: 0.06524837762117386, Test R^2: 0.5943248271942139\n",
      "Epoch 20 Batch 0 Loss 0.0455 Accuracy 0.5446\n",
      "Epoch 20 Batch 300 Loss 0.0687 Accuracy 0.5448\n",
      "Epoch 20, Loss: 0.06840839236974716, Test Loss: 0.06520992517471313, Test R^2: 0.5943021178245544\n",
      "Saving checkpoint for epoch 20 at ./checkpoints_64_21_pos/new/ckpt-24\n",
      "Epoch 20 Loss 0.0684 Accuracy 0.5448\n",
      "Time taken for 1 epoch: 5.91 secs\n",
      "\n",
      "Epoch 21 Batch 0 Loss 0.0623 Accuracy 0.5448\n",
      "Epoch 21 Batch 300 Loss 0.0687 Accuracy 0.5451\n",
      "Epoch 21, Loss: 0.0683734118938446, Test Loss: 0.06511671096086502, Test R^2: 0.5953775644302368\n",
      "Epoch 22 Batch 0 Loss 0.0553 Accuracy 0.5452\n",
      "Epoch 22 Batch 300 Loss 0.0690 Accuracy 0.5452\n",
      "Epoch 22, Loss: 0.06901837140321732, Test Loss: 0.06498510390520096, Test R^2: 0.5968621969223022\n",
      "Epoch 23 Batch 0 Loss 0.0746 Accuracy 0.5451\n",
      "Epoch 23 Batch 300 Loss 0.0677 Accuracy 0.5456\n",
      "Epoch 23, Loss: 0.06757552921772003, Test Loss: 0.06489482522010803, Test R^2: 0.5983194708824158\n",
      "Epoch 24 Batch 0 Loss 0.0551 Accuracy 0.5456\n",
      "Epoch 24 Batch 300 Loss 0.0673 Accuracy 0.5465\n",
      "Epoch 24, Loss: 0.06729936599731445, Test Loss: 0.06486321240663528, Test R^2: 0.5989868640899658\n",
      "Epoch 25 Batch 0 Loss 0.0553 Accuracy 0.5465\n",
      "Epoch 25 Batch 300 Loss 0.0680 Accuracy 0.5469\n",
      "Epoch 25, Loss: 0.06805994361639023, Test Loss: 0.0650104209780693, Test R^2: 0.5987975597381592\n",
      "Saving checkpoint for epoch 25 at ./checkpoints_64_21_pos/new/ckpt-25\n",
      "Epoch 25 Loss 0.0681 Accuracy 0.5468\n",
      "Time taken for 1 epoch: 5.91 secs\n",
      "\n",
      "Epoch 26 Batch 0 Loss 0.0720 Accuracy 0.5468\n",
      "Epoch 26 Batch 300 Loss 0.0679 Accuracy 0.5472\n",
      "Epoch 26, Loss: 0.06769424676895142, Test Loss: 0.06490286439657211, Test R^2: 0.5996825098991394\n",
      "Epoch 27 Batch 0 Loss 0.0577 Accuracy 0.5473\n",
      "Epoch 27 Batch 300 Loss 0.0677 Accuracy 0.5477\n",
      "Epoch 27, Loss: 0.06751322746276855, Test Loss: 0.06484919041395187, Test R^2: 0.5999221801757812\n",
      "Epoch 28 Batch 0 Loss 0.0495 Accuracy 0.5477\n",
      "Epoch 28 Batch 300 Loss 0.0672 Accuracy 0.5483\n",
      "Epoch 28, Loss: 0.0671735405921936, Test Loss: 0.06477601081132889, Test R^2: 0.6009066104888916\n",
      "Epoch 29 Batch 0 Loss 0.0631 Accuracy 0.5484\n",
      "Epoch 29 Batch 300 Loss 0.0680 Accuracy 0.5487\n",
      "Epoch 29, Loss: 0.06774985790252686, Test Loss: 0.06469755619764328, Test R^2: 0.601515531539917\n",
      "Epoch 30 Batch 0 Loss 0.0764 Accuracy 0.5487\n",
      "Epoch 30 Batch 300 Loss 0.0671 Accuracy 0.5494\n",
      "Epoch 30, Loss: 0.06698881834745407, Test Loss: 0.06460954248905182, Test R^2: 0.6024160385131836\n",
      "Saving checkpoint for epoch 30 at ./checkpoints_64_21_pos/new/ckpt-26\n",
      "Epoch 30 Loss 0.0670 Accuracy 0.5494\n",
      "Time taken for 1 epoch: 6.19 secs\n",
      "\n",
      "Epoch 31 Batch 0 Loss 0.0611 Accuracy 0.5494\n",
      "Epoch 31 Batch 300 Loss 0.0674 Accuracy 0.5499\n",
      "Epoch 31, Loss: 0.06736629456281662, Test Loss: 0.06453090906143188, Test R^2: 0.6033350229263306\n",
      "Epoch 32 Batch 0 Loss 0.0550 Accuracy 0.5499\n",
      "Epoch 32 Batch 300 Loss 0.0671 Accuracy 0.5505\n",
      "Epoch 32, Loss: 0.06711901724338531, Test Loss: 0.06445997208356857, Test R^2: 0.6044967174530029\n",
      "Epoch 33 Batch 0 Loss 0.0756 Accuracy 0.5504\n",
      "Epoch 33 Batch 300 Loss 0.0672 Accuracy 0.5509\n",
      "Epoch 33, Loss: 0.06723518669605255, Test Loss: 0.06436709314584732, Test R^2: 0.6055393815040588\n",
      "Epoch 34 Batch 0 Loss 0.0573 Accuracy 0.5508\n",
      "Epoch 34 Batch 300 Loss 0.0676 Accuracy 0.5513\n",
      "Epoch 34, Loss: 0.06737343221902847, Test Loss: 0.06428451836109161, Test R^2: 0.6062734127044678\n",
      "Epoch 35 Batch 0 Loss 0.0575 Accuracy 0.5513\n",
      "Epoch 35 Batch 300 Loss 0.0675 Accuracy 0.5516\n",
      "Epoch 35, Loss: 0.06745429337024689, Test Loss: 0.06423283368349075, Test R^2: 0.6071058511734009\n",
      "Saving checkpoint for epoch 35 at ./checkpoints_64_21_pos/new/ckpt-27\n",
      "Epoch 35 Loss 0.0675 Accuracy 0.5516\n",
      "Time taken for 1 epoch: 6.44 secs\n",
      "\n",
      "Epoch 36 Batch 0 Loss 0.0615 Accuracy 0.5516\n",
      "Epoch 36 Batch 300 Loss 0.0668 Accuracy 0.5520\n",
      "Epoch 36, Loss: 0.06694815307855606, Test Loss: 0.06415606290102005, Test R^2: 0.6079803109169006\n",
      "Epoch 37 Batch 0 Loss 0.0504 Accuracy 0.5520\n",
      "Epoch 37 Batch 300 Loss 0.0669 Accuracy 0.5526\n",
      "Epoch 37, Loss: 0.06670897454023361, Test Loss: 0.0640721470117569, Test R^2: 0.6087961196899414\n",
      "Epoch 38 Batch 0 Loss 0.0504 Accuracy 0.5526\n",
      "Epoch 38 Batch 300 Loss 0.0665 Accuracy 0.5531\n",
      "Epoch 38, Loss: 0.0667831227183342, Test Loss: 0.06399822235107422, Test R^2: 0.6096359491348267\n",
      "Epoch 39 Batch 0 Loss 0.0464 Accuracy 0.5530\n",
      "Epoch 39 Batch 300 Loss 0.0674 Accuracy 0.5533\n",
      "Epoch 39, Loss: 0.06727668642997742, Test Loss: 0.0639335960149765, Test R^2: 0.6103695034980774\n",
      "Epoch 40 Batch 0 Loss 0.0839 Accuracy 0.5534\n",
      "Epoch 40 Batch 300 Loss 0.0670 Accuracy 0.5538\n",
      "Epoch 40, Loss: 0.06706737726926804, Test Loss: 0.06386984884738922, Test R^2: 0.6112369298934937\n",
      "Saving checkpoint for epoch 40 at ./checkpoints_64_21_pos/new/ckpt-28\n",
      "Epoch 40 Loss 0.0671 Accuracy 0.5538\n",
      "Time taken for 1 epoch: 6.12 secs\n",
      "\n",
      "Epoch 41 Batch 0 Loss 0.0521 Accuracy 0.5538\n",
      "Epoch 41 Batch 300 Loss 0.0665 Accuracy 0.5543\n",
      "Epoch 41, Loss: 0.06649783998727798, Test Loss: 0.0638265609741211, Test R^2: 0.6115741729736328\n",
      "Epoch 42 Batch 0 Loss 0.0766 Accuracy 0.5542\n",
      "Epoch 42 Batch 300 Loss 0.0670 Accuracy 0.5545\n",
      "Epoch 42, Loss: 0.0671197846531868, Test Loss: 0.06377016007900238, Test R^2: 0.6122177243232727\n",
      "Epoch 43 Batch 0 Loss 0.0636 Accuracy 0.5545\n",
      "Epoch 43 Batch 300 Loss 0.0670 Accuracy 0.5548\n",
      "Epoch 43, Loss: 0.06683427840471268, Test Loss: 0.06372559070587158, Test R^2: 0.612647533416748\n",
      "Epoch 44 Batch 0 Loss 0.0551 Accuracy 0.5549\n",
      "Epoch 44 Batch 300 Loss 0.0665 Accuracy 0.5554\n",
      "Epoch 44, Loss: 0.06648026406764984, Test Loss: 0.06368809193372726, Test R^2: 0.6129025816917419\n",
      "Epoch 45 Batch 0 Loss 0.0572 Accuracy 0.5554\n",
      "Epoch 45 Batch 300 Loss 0.0664 Accuracy 0.5558\n",
      "Epoch 45, Loss: 0.06646575033664703, Test Loss: 0.0636473074555397, Test R^2: 0.6132408380508423\n",
      "Saving checkpoint for epoch 45 at ./checkpoints_64_21_pos/new/ckpt-29\n",
      "Epoch 45 Loss 0.0665 Accuracy 0.5558\n",
      "Time taken for 1 epoch: 6.57 secs\n",
      "\n",
      "Epoch 46 Batch 0 Loss 0.0474 Accuracy 0.5558\n",
      "Epoch 46 Batch 300 Loss 0.0668 Accuracy 0.5561\n",
      "Epoch 46, Loss: 0.06672246009111404, Test Loss: 0.06362241506576538, Test R^2: 0.6137562990188599\n",
      "Epoch 47 Batch 0 Loss 0.0899 Accuracy 0.5561\n",
      "Epoch 47 Batch 300 Loss 0.0661 Accuracy 0.5565\n",
      "Epoch 47, Loss: 0.06635484099388123, Test Loss: 0.06356954574584961, Test R^2: 0.6141484975814819\n",
      "Epoch 48 Batch 0 Loss 0.0748 Accuracy 0.5565\n",
      "Epoch 48 Batch 300 Loss 0.0666 Accuracy 0.5569\n",
      "Epoch 48, Loss: 0.06657028943300247, Test Loss: 0.06351813673973083, Test R^2: 0.6146186590194702\n",
      "Epoch 49 Batch 0 Loss 0.0555 Accuracy 0.5569\n",
      "Epoch 49 Batch 300 Loss 0.0667 Accuracy 0.5571\n",
      "Epoch 49, Loss: 0.06651778519153595, Test Loss: 0.06350850313901901, Test R^2: 0.6145116090774536\n",
      "Epoch 50 Batch 0 Loss 0.0624 Accuracy 0.5572\n",
      "Epoch 50 Batch 300 Loss 0.0665 Accuracy 0.5574\n",
      "Epoch 50, Loss: 0.0666639506816864, Test Loss: 0.06349688023328781, Test R^2: 0.6148132085800171\n",
      "Saving checkpoint for epoch 50 at ./checkpoints_64_21_pos/new/ckpt-30\n",
      "Epoch 50 Loss 0.0667 Accuracy 0.5574\n",
      "Time taken for 1 epoch: 6.28 secs\n",
      "\n",
      "Epoch 51 Batch 0 Loss 0.0760 Accuracy 0.5574\n",
      "Epoch 51 Batch 300 Loss 0.0668 Accuracy 0.5577\n",
      "Epoch 51, Loss: 0.06656990200281143, Test Loss: 0.06345457583665848, Test R^2: 0.6152962446212769\n",
      "Epoch 52 Batch 0 Loss 0.0575 Accuracy 0.5577\n",
      "Epoch 52 Batch 300 Loss 0.0667 Accuracy 0.5580\n",
      "Epoch 52, Loss: 0.06639659404754639, Test Loss: 0.06341861933469772, Test R^2: 0.6156857013702393\n",
      "Epoch 53 Batch 0 Loss 0.0675 Accuracy 0.5580\n",
      "Epoch 53 Batch 300 Loss 0.0663 Accuracy 0.5584\n",
      "Epoch 53, Loss: 0.06609407067298889, Test Loss: 0.06338929384946823, Test R^2: 0.6160372495651245\n",
      "Epoch 54 Batch 0 Loss 0.0913 Accuracy 0.5584\n",
      "Epoch 54 Batch 300 Loss 0.0665 Accuracy 0.5587\n",
      "Epoch 54, Loss: 0.0663815513253212, Test Loss: 0.06334824860095978, Test R^2: 0.6164159774780273\n",
      "Epoch 55 Batch 0 Loss 0.0532 Accuracy 0.5588\n",
      "Epoch 55 Batch 300 Loss 0.0666 Accuracy 0.5590\n",
      "Epoch 55, Loss: 0.06647076457738876, Test Loss: 0.06330735981464386, Test R^2: 0.6168498396873474\n",
      "Saving checkpoint for epoch 55 at ./checkpoints_64_21_pos/new/ckpt-31\n",
      "Epoch 55 Loss 0.0665 Accuracy 0.5590\n",
      "Time taken for 1 epoch: 6.24 secs\n",
      "\n",
      "Epoch 56 Batch 0 Loss 0.0712 Accuracy 0.5590\n",
      "Epoch 56 Batch 300 Loss 0.0665 Accuracy 0.5593\n",
      "Epoch 56, Loss: 0.06647192686796188, Test Loss: 0.06326640397310257, Test R^2: 0.6172000169754028\n",
      "Epoch 57 Batch 0 Loss 0.0744 Accuracy 0.5593\n",
      "Epoch 57 Batch 300 Loss 0.0663 Accuracy 0.5596\n",
      "Epoch 57, Loss: 0.06635435670614243, Test Loss: 0.06323228776454926, Test R^2: 0.6175203323364258\n",
      "Epoch 58 Batch 0 Loss 0.0594 Accuracy 0.5596\n",
      "Epoch 58 Batch 300 Loss 0.0668 Accuracy 0.5598\n",
      "Epoch 58, Loss: 0.06671833992004395, Test Loss: 0.0631987452507019, Test R^2: 0.6179336905479431\n",
      "Epoch 59 Batch 0 Loss 0.0554 Accuracy 0.5598\n",
      "Epoch 59 Batch 300 Loss 0.0666 Accuracy 0.5600\n",
      "Epoch 59, Loss: 0.06654178351163864, Test Loss: 0.06315913796424866, Test R^2: 0.6183224320411682\n",
      "Epoch 60 Batch 0 Loss 0.0901 Accuracy 0.5600\n",
      "Epoch 60 Batch 300 Loss 0.0674 Accuracy 0.5602\n",
      "Epoch 60, Loss: 0.0670563206076622, Test Loss: 0.06313211470842361, Test R^2: 0.6185556054115295\n",
      "Saving checkpoint for epoch 60 at ./checkpoints_64_21_pos/new/ckpt-32\n",
      "Epoch 60 Loss 0.0671 Accuracy 0.5602\n",
      "Time taken for 1 epoch: 6.02 secs\n",
      "\n",
      "Epoch 61 Batch 0 Loss 0.0640 Accuracy 0.5602\n",
      "Epoch 61 Batch 300 Loss 0.0665 Accuracy 0.5604\n",
      "Epoch 61, Loss: 0.06645456701517105, Test Loss: 0.06311158090829849, Test R^2: 0.6187684535980225\n",
      "Epoch 62 Batch 0 Loss 0.0574 Accuracy 0.5604\n",
      "Epoch 62 Batch 300 Loss 0.0662 Accuracy 0.5607\n",
      "Epoch 62, Loss: 0.06633422523736954, Test Loss: 0.06306906789541245, Test R^2: 0.6192437410354614\n",
      "Epoch 63 Batch 0 Loss 0.0465 Accuracy 0.5606\n",
      "Epoch 63 Batch 300 Loss 0.0666 Accuracy 0.5609\n",
      "Epoch 63, Loss: 0.06651357561349869, Test Loss: 0.06306211650371552, Test R^2: 0.6192137002944946\n",
      "Epoch 64 Batch 0 Loss 0.0658 Accuracy 0.5609\n",
      "Epoch 64 Batch 300 Loss 0.0661 Accuracy 0.5612\n",
      "Epoch 64, Loss: 0.06599951535463333, Test Loss: 0.06304658949375153, Test R^2: 0.6193006634712219\n",
      "Epoch 65 Batch 0 Loss 0.0858 Accuracy 0.5612\n",
      "Epoch 65 Batch 300 Loss 0.0667 Accuracy 0.5613\n",
      "Epoch 65, Loss: 0.06650219112634659, Test Loss: 0.06301925331354141, Test R^2: 0.619492769241333\n",
      "Saving checkpoint for epoch 65 at ./checkpoints_64_21_pos/new/ckpt-33\n",
      "Epoch 65 Loss 0.0665 Accuracy 0.5613\n",
      "Time taken for 1 epoch: 5.95 secs\n",
      "\n",
      "Epoch 66 Batch 0 Loss 0.0841 Accuracy 0.5613\n",
      "Epoch 66 Batch 300 Loss 0.0658 Accuracy 0.5617\n",
      "Epoch 66, Loss: 0.06622617691755295, Test Loss: 0.06299648433923721, Test R^2: 0.6196532845497131\n",
      "Epoch 67 Batch 0 Loss 0.0682 Accuracy 0.5616\n",
      "Epoch 67 Batch 300 Loss 0.0659 Accuracy 0.5619\n",
      "Epoch 67, Loss: 0.06579803675413132, Test Loss: 0.06297051161527634, Test R^2: 0.6199724674224854\n",
      "Epoch 68 Batch 0 Loss 0.0770 Accuracy 0.5619\n",
      "Epoch 68 Batch 300 Loss 0.0661 Accuracy 0.5621\n",
      "Epoch 68, Loss: 0.06590773165225983, Test Loss: 0.0629427507519722, Test R^2: 0.6203869581222534\n",
      "Epoch 69 Batch 0 Loss 0.0799 Accuracy 0.5621\n",
      "Epoch 69 Batch 300 Loss 0.0662 Accuracy 0.5624\n",
      "Epoch 69, Loss: 0.06614696234464645, Test Loss: 0.06290785223245621, Test R^2: 0.6207672357559204\n",
      "Epoch 70 Batch 0 Loss 0.0473 Accuracy 0.5624\n",
      "Epoch 70 Batch 300 Loss 0.0659 Accuracy 0.5627\n",
      "Epoch 70, Loss: 0.06582102924585342, Test Loss: 0.06288564205169678, Test R^2: 0.6209248304367065\n",
      "Saving checkpoint for epoch 70 at ./checkpoints_64_21_pos/new/ckpt-34\n",
      "Epoch 70 Loss 0.0658 Accuracy 0.5627\n",
      "Time taken for 1 epoch: 5.98 secs\n",
      "\n",
      "Epoch 71 Batch 0 Loss 0.0642 Accuracy 0.5627\n",
      "Epoch 71 Batch 300 Loss 0.0660 Accuracy 0.5629\n",
      "Epoch 71, Loss: 0.06586508452892303, Test Loss: 0.06285152584314346, Test R^2: 0.6213563680648804\n",
      "Epoch 72 Batch 0 Loss 0.0717 Accuracy 0.5630\n",
      "Epoch 72 Batch 300 Loss 0.0660 Accuracy 0.5633\n",
      "Epoch 72, Loss: 0.06592157483100891, Test Loss: 0.06283292174339294, Test R^2: 0.62156742811203\n",
      "Epoch 73 Batch 0 Loss 0.0799 Accuracy 0.5633\n",
      "Epoch 73 Batch 300 Loss 0.0664 Accuracy 0.5635\n",
      "Epoch 73, Loss: 0.06618694216012955, Test Loss: 0.06281475722789764, Test R^2: 0.6216245293617249\n",
      "Epoch 74 Batch 0 Loss 0.0634 Accuracy 0.5635\n",
      "Epoch 74 Batch 300 Loss 0.0656 Accuracy 0.5638\n",
      "Epoch 74, Loss: 0.06567885726690292, Test Loss: 0.06280682235956192, Test R^2: 0.6216551661491394\n",
      "Epoch 75 Batch 0 Loss 0.0456 Accuracy 0.5638\n",
      "Epoch 75 Batch 300 Loss 0.0657 Accuracy 0.5640\n",
      "Epoch 75, Loss: 0.06564889848232269, Test Loss: 0.06279810518026352, Test R^2: 0.6216736435890198\n",
      "Saving checkpoint for epoch 75 at ./checkpoints_64_21_pos/new/ckpt-35\n",
      "Epoch 75 Loss 0.0656 Accuracy 0.5640\n",
      "Time taken for 1 epoch: 6.04 secs\n",
      "\n",
      "Epoch 76 Batch 0 Loss 0.0473 Accuracy 0.5640\n",
      "Epoch 76 Batch 300 Loss 0.0660 Accuracy 0.5642\n",
      "Epoch 76, Loss: 0.06600377708673477, Test Loss: 0.06277602910995483, Test R^2: 0.6218903064727783\n",
      "Epoch 77 Batch 0 Loss 0.0364 Accuracy 0.5642\n",
      "Epoch 77 Batch 300 Loss 0.0661 Accuracy 0.5644\n",
      "Epoch 77, Loss: 0.06603233516216278, Test Loss: 0.06275234371423721, Test R^2: 0.6222285032272339\n",
      "Epoch 78 Batch 0 Loss 0.0485 Accuracy 0.5644\n",
      "Epoch 78 Batch 300 Loss 0.0660 Accuracy 0.5646\n",
      "Epoch 78, Loss: 0.0657137781381607, Test Loss: 0.06272104382514954, Test R^2: 0.6226041316986084\n",
      "Epoch 79 Batch 0 Loss 0.0590 Accuracy 0.5646\n",
      "Epoch 79 Batch 300 Loss 0.0669 Accuracy 0.5648\n",
      "Epoch 79, Loss: 0.0665907934308052, Test Loss: 0.06269919127225876, Test R^2: 0.6228243112564087\n",
      "Epoch 80 Batch 0 Loss 0.0843 Accuracy 0.5648\n",
      "Epoch 80 Batch 300 Loss 0.0658 Accuracy 0.5650\n",
      "Epoch 80, Loss: 0.06556058675050735, Test Loss: 0.06267224997282028, Test R^2: 0.6230466365814209\n",
      "Saving checkpoint for epoch 80 at ./checkpoints_64_21_pos/new/ckpt-36\n",
      "Epoch 80 Loss 0.0656 Accuracy 0.5650\n",
      "Time taken for 1 epoch: 5.93 secs\n",
      "\n",
      "Epoch 81 Batch 0 Loss 0.0440 Accuracy 0.5650\n",
      "Epoch 81 Batch 300 Loss 0.0656 Accuracy 0.5653\n",
      "Epoch 81, Loss: 0.06554510444402695, Test Loss: 0.06264214217662811, Test R^2: 0.6234269142150879\n",
      "Epoch 82 Batch 0 Loss 0.0393 Accuracy 0.5653\n",
      "Epoch 82 Batch 300 Loss 0.0659 Accuracy 0.5655\n",
      "Epoch 82, Loss: 0.0657973438501358, Test Loss: 0.06262603402137756, Test R^2: 0.6235638856887817\n",
      "Epoch 83 Batch 0 Loss 0.0491 Accuracy 0.5655\n",
      "Epoch 83 Batch 300 Loss 0.0657 Accuracy 0.5657\n",
      "Epoch 83, Loss: 0.0656791403889656, Test Loss: 0.06259362399578094, Test R^2: 0.6239821910858154\n",
      "Epoch 84 Batch 0 Loss 0.0546 Accuracy 0.5657\n",
      "Epoch 84 Batch 300 Loss 0.0656 Accuracy 0.5659\n",
      "Epoch 84, Loss: 0.06561536341905594, Test Loss: 0.06259799748659134, Test R^2: 0.6238266229629517\n",
      "Epoch 85 Batch 0 Loss 0.0427 Accuracy 0.5659\n",
      "Epoch 85 Batch 300 Loss 0.0662 Accuracy 0.5660\n",
      "Epoch 85, Loss: 0.06621641665697098, Test Loss: 0.06257455796003342, Test R^2: 0.6241836547851562\n",
      "Saving checkpoint for epoch 85 at ./checkpoints_64_21_pos/new/ckpt-37\n",
      "Epoch 85 Loss 0.0662 Accuracy 0.5660\n",
      "Time taken for 1 epoch: 5.99 secs\n",
      "\n",
      "Epoch 86 Batch 0 Loss 0.0663 Accuracy 0.5660\n",
      "Epoch 86 Batch 300 Loss 0.0655 Accuracy 0.5662\n",
      "Epoch 86, Loss: 0.06566811352968216, Test Loss: 0.06254736334085464, Test R^2: 0.6244337558746338\n",
      "Epoch 87 Batch 0 Loss 0.0650 Accuracy 0.5662\n",
      "Epoch 87 Batch 300 Loss 0.0660 Accuracy 0.5664\n",
      "Epoch 87, Loss: 0.0659542977809906, Test Loss: 0.06251990795135498, Test R^2: 0.6246980428695679\n",
      "Epoch 88 Batch 0 Loss 0.0667 Accuracy 0.5664\n",
      "Epoch 88 Batch 300 Loss 0.0657 Accuracy 0.5666\n",
      "Epoch 88, Loss: 0.06561051309108734, Test Loss: 0.06249527260661125, Test R^2: 0.624969482421875\n",
      "Epoch 89 Batch 0 Loss 0.0548 Accuracy 0.5666\n",
      "Epoch 89 Batch 300 Loss 0.0652 Accuracy 0.5669\n",
      "Epoch 89, Loss: 0.06512901186943054, Test Loss: 0.062468595802783966, Test R^2: 0.6251660585403442\n",
      "Epoch 90 Batch 0 Loss 0.0680 Accuracy 0.5669\n",
      "Epoch 90 Batch 300 Loss 0.0655 Accuracy 0.5671\n",
      "Epoch 90, Loss: 0.0655294805765152, Test Loss: 0.06244645267724991, Test R^2: 0.6254466772079468\n",
      "Saving checkpoint for epoch 90 at ./checkpoints_64_21_pos/new/ckpt-38\n",
      "Epoch 90 Loss 0.0655 Accuracy 0.5671\n",
      "Time taken for 1 epoch: 5.99 secs\n",
      "\n",
      "Epoch 91 Batch 0 Loss 0.0611 Accuracy 0.5671\n",
      "Epoch 91 Batch 300 Loss 0.0653 Accuracy 0.5673\n",
      "Epoch 91, Loss: 0.06523548066616058, Test Loss: 0.06242240592837334, Test R^2: 0.6256451606750488\n",
      "Epoch 92 Batch 0 Loss 0.0515 Accuracy 0.5673\n",
      "Epoch 92 Batch 300 Loss 0.0656 Accuracy 0.5676\n",
      "Epoch 92, Loss: 0.06561803072690964, Test Loss: 0.062397416681051254, Test R^2: 0.625990629196167\n",
      "Epoch 93 Batch 0 Loss 0.0724 Accuracy 0.5675\n",
      "Epoch 93 Batch 300 Loss 0.0653 Accuracy 0.5678\n",
      "Epoch 93, Loss: 0.06512540578842163, Test Loss: 0.06238268315792084, Test R^2: 0.626055121421814\n",
      "Epoch 94 Batch 0 Loss 0.0709 Accuracy 0.5678\n",
      "Epoch 94 Batch 300 Loss 0.0658 Accuracy 0.5679\n",
      "Epoch 94, Loss: 0.06578943133354187, Test Loss: 0.06236352398991585, Test R^2: 0.626254677772522\n",
      "Epoch 95 Batch 0 Loss 0.0457 Accuracy 0.5679\n",
      "Epoch 95 Batch 300 Loss 0.0658 Accuracy 0.5681\n",
      "Epoch 95, Loss: 0.06563600152730942, Test Loss: 0.06234074756503105, Test R^2: 0.6264661550521851\n",
      "Saving checkpoint for epoch 95 at ./checkpoints_64_21_pos/new/ckpt-39\n",
      "Epoch 95 Loss 0.0656 Accuracy 0.5681\n",
      "Time taken for 1 epoch: 5.96 secs\n",
      "\n",
      "Epoch 96 Batch 0 Loss 0.0686 Accuracy 0.5681\n",
      "Epoch 96 Batch 300 Loss 0.0657 Accuracy 0.5683\n",
      "Epoch 96, Loss: 0.06568265706300735, Test Loss: 0.06232022866606712, Test R^2: 0.6266230344772339\n",
      "Epoch 97 Batch 0 Loss 0.0817 Accuracy 0.5683\n",
      "Epoch 97 Batch 300 Loss 0.0650 Accuracy 0.5685\n",
      "Epoch 97, Loss: 0.06534984707832336, Test Loss: 0.062292397022247314, Test R^2: 0.6269239783287048\n",
      "Epoch 98 Batch 0 Loss 0.0875 Accuracy 0.5684\n",
      "Epoch 98 Batch 300 Loss 0.0653 Accuracy 0.5686\n",
      "Epoch 98, Loss: 0.06514880806207657, Test Loss: 0.06226073205471039, Test R^2: 0.6272454261779785\n",
      "Epoch 99 Batch 0 Loss 0.0380 Accuracy 0.5687\n",
      "Epoch 99 Batch 300 Loss 0.0654 Accuracy 0.5688\n",
      "Epoch 99, Loss: 0.06537461280822754, Test Loss: 0.06225575506687164, Test R^2: 0.6273161172866821\n",
      "Epoch 100 Batch 0 Loss 0.0642 Accuracy 0.5688\n",
      "Epoch 100 Batch 300 Loss 0.0654 Accuracy 0.5691\n",
      "Epoch 100, Loss: 0.06565318256616592, Test Loss: 0.06222967430949211, Test R^2: 0.6275690793991089\n",
      "Saving checkpoint for epoch 100 at ./checkpoints_64_21_pos/new/ckpt-40\n",
      "Epoch 100 Loss 0.0657 Accuracy 0.5690\n",
      "Time taken for 1 epoch: 5.94 secs\n",
      "\n"
     ]
    }
   ],
   "source": [
    "import time\n",
    "EPOCHS=100\n",
    "for epoch in range(EPOCHS):\n",
    "  start = time.time()\n",
    "\n",
    "  train_loss.reset_states()\n",
    "  train_accuracy.reset_states()\n",
    "\n",
    "\n",
    "  for (batch, (inp, tar)) in enumerate(real_train_set):\n",
    "    train_step(inp, tar)\n",
    "    if batch % 300 == 0:\n",
    "      print(f'Epoch {epoch + 1} Batch {batch} Loss {train_loss.result():.4f} Accuracy {train_metric.result():.4f}')\n",
    "\n",
    "  with train_summary_writer.as_default():\n",
    "    tf.summary.scalar('loss', train_loss.result(), step=epoch)\n",
    "    tf.summary.scalar('accuracy', train_metric.result(), step=epoch)\n",
    "\n",
    "  for (batch, (inp, tar)) in enumerate(test_dataset):\n",
    "    test_step(model, inp, tar)\n",
    "\n",
    "  with test_summary_writer.as_default():\n",
    "    #tf.summary.scalar('loss', test_loss.result(), step=epoch)\n",
    "    tf.summary.scalar('accuracy', test_metric.result(), step=epoch)\n",
    "\n",
    "  template = 'Epoch {}, Loss: {}, Test Loss: {}, Test R^2: {}'\n",
    "  print (template.format(epoch+1,\n",
    "                         train_loss.result(),\n",
    "                         test_loss.result(),\n",
    "                         test_metric.result()\n",
    "                         ))\n",
    "  #Print out information\n",
    " \n",
    "\n",
    "  if (epoch + 1) % 5 == 0:\n",
    "    ckpt_save_path = ckpt_manager.save()\n",
    "    print(f'Saving checkpoint for epoch {epoch+1} at {ckpt_save_path}')\n",
    "    print(f'Epoch {epoch + 1} Loss {train_loss.result():.4f} Accuracy {train_metric.result():.4f}')\n",
    "    print(f'Time taken for 1 epoch: {time.time() - start:.2f} secs\\n')"
   ]
  },
  {
   "cell_type": "markdown",
   "id": "ddbb1e38",
   "metadata": {},
   "source": [
    "## Visualize attentions"
   ]
  },
  {
   "cell_type": "code",
   "execution_count": 23,
   "id": "1537784c",
   "metadata": {},
   "outputs": [],
   "source": [
    "df[\"seq_spaced\"] = seq_spaced\n",
    "def visualize_attention(heads, labels, attention):\n",
    "    plt.rcParams[\"figure.figsize\"] = (20,5)\n",
    "    fig, axs = plt.subplots(1,heads)\n",
    "    plt.set_cmap('bwr')\n",
    "    for i in range(heads):\n",
    "        ax = axs[i]\n",
    "        cax = ax.matshow(attention[i])\n",
    "        ax.set_xticks(range(len(labels)))\n",
    "        ax.set_yticks(range(len(labels)))\n",
    "        #labels = [label for label in R.to_numpy()[0]]\n",
    "        ax.set_xticklabels(labels, rotation=90)\n",
    "        #labels = [label for label in R.to_numpy()[0]]\n",
    "        ax.set_yticklabels(labels)\n",
    "        print(f\"head{i}: {tf.reduce_max(attention[i])}\")\n",
    "        print(f\"head{i}: {tf.reduce_min(attention[i])}\")\n",
    "    cbar = fig.colorbar(cax)\n",
    "\n",
    "def plot_attention_head(sequence, attention, heads):\n",
    "    # The plot is of the attention when a token was generated.\n",
    "    # # The model didn't generate `<START>` in the output. Skip it.\n",
    "    labels = [label for label in sequence.to_numpy()[0]]\n",
    "    #translated_tokens = translated_tokens[1:]\n",
    "    #ax = plt.gca()\n",
    "    visualize_attention(heads = heads, labels=labels, attention=attention)\n",
    "    \n",
    "   "
   ]
  },
  {
   "cell_type": "markdown",
   "id": "db8e11ed",
   "metadata": {},
   "source": [
    "## Test individual sequence"
   ]
  },
  {
   "cell_type": "code",
   "execution_count": 24,
   "id": "8f4b2d8c",
   "metadata": {},
   "outputs": [
    {
     "name": "stdout",
     "output_type": "stream",
     "text": [
      "head0: 4.726103782653809\n",
      "head0: -4.9154558181762695\n",
      "head1: 4.284719944000244\n",
      "head1: -6.325801849365234\n",
      "head2: 2.9092159271240234\n",
      "head2: -10.35399341583252\n",
      "sequence:  ['U A G U A G U']\n",
      "predicted RKA: 0.6040844917297363, real RKA 13003    0.782336\n",
      "Name: RKA_logplus1, dtype: float64\n"
     ]
    },
    {
     "data": {
      "image/png": "[encoded data removed]",
      "text/plain": [
       "<Figure size 2000x500 with 4 Axes>"
      ]
     },
     "metadata": {},
     "output_type": "display_data"
    }
   ],
   "source": [
    "seq = 'UAGUAGU'\n",
    "sequence_demo = df[df.sevenMer == seq].seq_spaced\n",
    "rka_for_show = df[df.sevenMer == seq].RKA_logplus1\n",
    "p = vectorize_layer(sequence_demo)\n",
    "result = model(p)\n",
    "att = model.layers[1].get_attention()['attentions_1'][0]\n",
    "matmul_qk_s = model.layers[1].get_matmul_qks()['matmul_qk_1'][0]\n",
    "R = sequence_demo.str.split(\" \")\n",
    "\n",
    "plot_attention_head(R,matmul_qk_s, num_heads)\n",
    "print('sequence: ', sequence_demo.to_numpy())\n",
    "print(f'predicted RKA: {result.numpy()}, real RKA {rka_for_show}')\n"
   ]
  },
  {
   "cell_type": "code",
   "execution_count": 25,
   "id": "c609e6a6",
   "metadata": {},
   "outputs": [
    {
     "name": "stdout",
     "output_type": "stream",
     "text": [
      "head0: 0.7195295095443726\n",
      "head0: 0.004191569983959198\n",
      "head1: 0.852201521396637\n",
      "head1: 0.002433630172163248\n",
      "head2: 0.5271916389465332\n",
      "head2: 0.0006474782130680978\n",
      "sequence:  ['U A G U A G U']\n",
      "predicted RKA: 0.6040844917297363, real RKA 13003    0.782336\n",
      "Name: RKA_logplus1, dtype: float64\n"
     ]
    },
    {
     "data": {
      "image/png": "[encoded data removed]",
      "text/plain": [
       "<Figure size 2000x500 with 4 Axes>"
      ]
     },
     "metadata": {},
     "output_type": "display_data"
    }
   ],
   "source": [
    "seq = 'UAGUAGU'\n",
    "sequence_demo = df[df.sevenMer == seq].seq_spaced\n",
    "rka_for_show = df[df.sevenMer == seq].RKA_logplus1\n",
    "p = vectorize_layer(sequence_demo)\n",
    "result = model(p)\n",
    "att = model.layers[1].get_attention()['attentions_1'][0]\n",
    "R = sequence_demo.str.split(\" \")\n",
    "\n",
    "plot_attention_head(R,att, num_heads)\n",
    "print('sequence: ', sequence_demo.to_numpy())\n",
    "print(f'predicted RKA: {result.numpy()}, real RKA {rka_for_show}')"
   ]
  },
  {
   "cell_type": "markdown",
   "id": "36b54b3d",
   "metadata": {},
   "source": [
    "## Verify the predicted result"
   ]
  },
  {
   "cell_type": "code",
   "execution_count": 26,
   "id": "585e15f1",
   "metadata": {},
   "outputs": [
    {
     "name": "stdout",
     "output_type": "stream",
     "text": [
      "51/51 [==============================] - 0s 1ms/step\n"
     ]
    },
    {
     "data": {
      "text/plain": [
       "(5100,)"
      ]
     },
     "execution_count": 26,
     "metadata": {},
     "output_type": "execute_result"
    }
   ],
   "source": [
    "result = model.predict(x_test_database.batch(100))\n",
    "result.shape"
   ]
  },
  {
   "cell_type": "code",
   "execution_count": 27,
   "id": "bfc33748",
   "metadata": {},
   "outputs": [
    {
     "data": {
      "text/plain": [
       "<AxesSubplot:xlabel='RKA_logplus1'>"
      ]
     },
     "execution_count": 27,
     "metadata": {},
     "output_type": "execute_result"
    },
    {
     "data": {
      "image/png": "[encoded data removed]",
      "text/plain": [
       "<Figure size 600x500 with 1 Axes>"
      ]
     },
     "metadata": {},
     "output_type": "display_data"
    }
   ],
   "source": [
    "plt.rcParams[\"figure.figsize\"] = (6,5)\n",
    "sns.scatterplot(x=y_test, y=result)"
   ]
  },
  {
   "cell_type": "code",
   "execution_count": 28,
   "id": "07484671",
   "metadata": {},
   "outputs": [
    {
     "data": {
      "text/plain": [
       "0.6525307253447452"
      ]
     },
     "execution_count": 28,
     "metadata": {},
     "output_type": "execute_result"
    }
   ],
   "source": [
    "# Calculate R^2\n",
    "from sklearn.metrics import r2_score\n",
    "r2_score(y_test, result)"
   ]
  },
  {
   "cell_type": "code",
   "execution_count": 29,
   "id": "45e4ab20",
   "metadata": {},
   "outputs": [
    {
     "data": {
      "text/plain": [
       "<AxesSubplot:xlabel='RKA_logplus1', ylabel='Count'>"
      ]
     },
     "execution_count": 29,
     "metadata": {},
     "output_type": "execute_result"
    },
    {
     "data": {
      "image/png": "[encoded data removed]",
      "text/plain": [
       "<Figure size 600x500 with 1 Axes>"
      ]
     },
     "metadata": {},
     "output_type": "display_data"
    }
   ],
   "source": [
    "sns.histplot(y_test, color = \"orange\")\n",
    "sns.histplot(result, color = \"blue\")\n",
    "# # 绘制y_test和result的cdf曲线图\n",
    "# sns.kdeplot(y_test, cumulative=True)\n",
    "# sns.kdeplot(result, cumulative=True)\n"
   ]
  }
 ],
 "metadata": {
  "interpreter": {
   "hash": "43609d96788f9f207c5e22c650b4a13ebb7a351aa95d515be949d18331f6c071"
  },
  "kernelspec": {
   "display_name": "Python 3 (ipykernel)",
   "language": "python",
   "name": "python3"
  },
  "language_info": {
   "codemirror_mode": {
    "name": "ipython",
    "version": 3
   },
   "file_extension": ".py",
   "mimetype": "text/x-python",
   "name": "python",
   "nbconvert_exporter": "python",
   "pygments_lexer": "ipython3",
   "version": "3.7.16"
  }
 },
 "nbformat": 4,
 "nbformat_minor": 5
}
