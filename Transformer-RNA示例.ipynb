{
 "cells": [
  {
   "cell_type": "markdown",
   "id": "b0aa43a3",
   "metadata": {},
   "source": [
    "# Apply Encoder of Transformer Model (Self Attention) to Explore RNA-Protein Binding"
   ]
  },
  {
   "cell_type": "code",
   "execution_count": 23,
   "id": "febe31d0-34ea-4d56-8394-e46f02165475",
   "metadata": {},
   "outputs": [],
   "source": [
    "import pandas as pd\n",
    "import tensorflow as tf\n",
    "from keras import layers\n",
    "import tensorflow_addons as tfa\n",
    "import numpy as np\n",
    "import matplotlib.pyplot as plt\n",
    "import seaborn as sns\n",
    "from sklearn.model_selection import train_test_split\n",
    "from sklearn.preprocessing import MinMaxScaler, Normalizer, KBinsDiscretizer\n",
    "from sklearn.pipeline import Pipeline, make_pipeline\n",
    "import datetime\n",
    "\n",
    "# ignore warnings\n",
    "import warnings\n",
    "warnings.filterwarnings('ignore')\n",
    "tf.get_logger().setLevel('ERROR')"
   ]
  },
  {
   "cell_type": "markdown",
   "id": "33a93be1",
   "metadata": {},
   "source": []
  },
  {
   "cell_type": "markdown",
   "id": "cad2fbca",
   "metadata": {},
   "source": [
    "## Data preparation"
   ]
  },
  {
   "cell_type": "code",
   "execution_count": 24,
   "id": "3f86cc08-c411-4ce1-a04d-c82e7a7558f9",
   "metadata": {},
   "outputs": [
    {
     "data": {
      "text/html": [
       "<div>\n",
       "<style scoped>\n",
       "    .dataframe tbody tr th:only-of-type {\n",
       "        vertical-align: middle;\n",
       "    }\n",
       "\n",
       "    .dataframe tbody tr th {\n",
       "        vertical-align: top;\n",
       "    }\n",
       "\n",
       "    .dataframe thead th {\n",
       "        text-align: right;\n",
       "    }\n",
       "</style>\n",
       "<table border=\"1\" class=\"dataframe\">\n",
       "  <thead>\n",
       "    <tr style=\"text-align: right;\">\n",
       "      <th></th>\n",
       "      <th>Sequence</th>\n",
       "      <th>Structure</th>\n",
       "      <th>MFE</th>\n",
       "      <th>K</th>\n",
       "      <th>KA</th>\n",
       "      <th>RKA</th>\n",
       "      <th>Qc</th>\n",
       "      <th>sevenMer</th>\n",
       "    </tr>\n",
       "  </thead>\n",
       "  <tbody>\n",
       "    <tr>\n",
       "      <th>0</th>\n",
       "      <td>GGAUCCAUUCAAAAAAAGAACGGAUCC</td>\n",
       "      <td>((((((.(((.......))).))))))</td>\n",
       "      <td>-10.5</td>\n",
       "      <td>4.971544</td>\n",
       "      <td>0.201145</td>\n",
       "      <td>0.395847</td>\n",
       "      <td>0</td>\n",
       "      <td>AAAAAAA</td>\n",
       "    </tr>\n",
       "    <tr>\n",
       "      <th>1</th>\n",
       "      <td>GGAUCCAUUCAAAAAACGAACGGAUCC</td>\n",
       "      <td>((((((.(((.......))).))))))</td>\n",
       "      <td>-10.5</td>\n",
       "      <td>4.514383</td>\n",
       "      <td>0.221514</td>\n",
       "      <td>0.435934</td>\n",
       "      <td>0</td>\n",
       "      <td>AAAAAAC</td>\n",
       "    </tr>\n",
       "    <tr>\n",
       "      <th>2</th>\n",
       "      <td>GGAUCCAUUCAAAAAAGGAACGGAUCC</td>\n",
       "      <td>((((((.(((.......))).))))))</td>\n",
       "      <td>-10.4</td>\n",
       "      <td>3.609146</td>\n",
       "      <td>0.277074</td>\n",
       "      <td>0.545273</td>\n",
       "      <td>0</td>\n",
       "      <td>AAAAAAG</td>\n",
       "    </tr>\n",
       "    <tr>\n",
       "      <th>3</th>\n",
       "      <td>GGAUCCAUUCAAAAAAUGAACGGAUCC</td>\n",
       "      <td>((((((.((((.....)))).))))))</td>\n",
       "      <td>-11.7</td>\n",
       "      <td>6.607685</td>\n",
       "      <td>0.151339</td>\n",
       "      <td>0.297831</td>\n",
       "      <td>0</td>\n",
       "      <td>AAAAAAU</td>\n",
       "    </tr>\n",
       "    <tr>\n",
       "      <th>4</th>\n",
       "      <td>GGAUCCAUUCAAAAACAGAACGGAUCC</td>\n",
       "      <td>((((((.(((.......))).))))))</td>\n",
       "      <td>-10.5</td>\n",
       "      <td>3.221327</td>\n",
       "      <td>0.310431</td>\n",
       "      <td>0.610919</td>\n",
       "      <td>0</td>\n",
       "      <td>AAAAACA</td>\n",
       "    </tr>\n",
       "  </tbody>\n",
       "</table>\n",
       "</div>"
      ],
      "text/plain": [
       "                      Sequence                    Structure   MFE         K  \\\n",
       "0  GGAUCCAUUCAAAAAAAGAACGGAUCC  ((((((.(((.......))).)))))) -10.5  4.971544   \n",
       "1  GGAUCCAUUCAAAAAACGAACGGAUCC  ((((((.(((.......))).)))))) -10.5  4.514383   \n",
       "2  GGAUCCAUUCAAAAAAGGAACGGAUCC  ((((((.(((.......))).)))))) -10.4  3.609146   \n",
       "3  GGAUCCAUUCAAAAAAUGAACGGAUCC  ((((((.((((.....)))).)))))) -11.7  6.607685   \n",
       "4  GGAUCCAUUCAAAAACAGAACGGAUCC  ((((((.(((.......))).)))))) -10.5  3.221327   \n",
       "\n",
       "         KA       RKA  Qc sevenMer  \n",
       "0  0.201145  0.395847   0  AAAAAAA  \n",
       "1  0.221514  0.435934   0  AAAAAAC  \n",
       "2  0.277074  0.545273   0  AAAAAAG  \n",
       "3  0.151339  0.297831   0  AAAAAAU  \n",
       "4  0.310431  0.610919   0  AAAAACA  "
      ]
     },
     "execution_count": 24,
     "metadata": {},
     "output_type": "execute_result"
    }
   ],
   "source": [
    "df_preprocess = pd.read_csv(\"data/Result_Structure.csv\")\n",
    "df = df_preprocess[df_preprocess[\"Qc\"]!=1]\n",
    "df.head()"
   ]
  },
  {
   "cell_type": "markdown",
   "id": "6d009b3a",
   "metadata": {},
   "source": [
    "## Set hyper parameters"
   ]
  },
  {
   "cell_type": "code",
   "execution_count": 25,
   "id": "09d15ca1",
   "metadata": {},
   "outputs": [],
   "source": [
    "seq_length=7\n",
    "num_layers=1\n",
    "d_model=9\n",
    "num_heads=3\n",
    "dff=64"
   ]
  },
  {
   "cell_type": "markdown",
   "id": "b5aa0130",
   "metadata": {},
   "source": [
    "## Functions to handle the RNA Inputs"
   ]
  },
  {
   "cell_type": "code",
   "execution_count": 26,
   "id": "6beb6b4e-b7bc-4e30-b047-71a74f098685",
   "metadata": {},
   "outputs": [],
   "source": [
    "def cutWord(x, window=1, length = seq_length):\n",
    "    seq2word = []\n",
    "    for i in range(length):\n",
    "        seq2word.append(x[i*window:i*window+window])\n",
    "    return \" \".join(seq2word)\n",
    "\n",
    "def RKA_bin(x):\n",
    "    if x >= 0.8:\n",
    "        return(1)\n",
    "    else:\n",
    "        return(0)\n",
    "\n",
    "def MFE_bin(x):\n",
    "    if x >= -14.:\n",
    "        return(1)\n",
    "    else:\n",
    "        return(0)"
   ]
  },
  {
   "cell_type": "markdown",
   "id": "2fdcebc1",
   "metadata": {},
   "source": [
    "## Normalization"
   ]
  },
  {
   "cell_type": "code",
   "execution_count": 27,
   "id": "f50dce0e",
   "metadata": {},
   "outputs": [
    {
     "name": "stdout",
     "output_type": "stream",
     "text": [
      "MinMaxScaler()\n"
     ]
    }
   ],
   "source": [
    "from sklearn.preprocessing import MinMaxScaler\n",
    "scaler = MinMaxScaler()\n",
    "print(scaler.fit(df[[\"RKA\"]]))\n",
    "\n",
    "df[\"RKA_norm\"] = scaler.transform(df[[\"RKA\"]])\n",
    "df[[\"RKA_logplus1\"]] = df[[\"RKA\"]].apply(lambda x: np.log(1+x))"
   ]
  },
  {
   "cell_type": "code",
   "execution_count": 28,
   "id": "c20b9904",
   "metadata": {},
   "outputs": [
    {
     "data": {
      "text/plain": [
       "<Axes: ylabel='Count'>"
      ]
     },
     "execution_count": 28,
     "metadata": {},
     "output_type": "execute_result"
    },
    {
     "data": {
      "image/png": "[encoded data removed]",
      "text/plain": [
       "<Figure size 640x480 with 1 Axes>"
      ]
     },
     "metadata": {},
     "output_type": "display_data"
    }
   ],
   "source": [
    "sns.histplot(df[[\"RKA_logplus1\"]])"
   ]
  },
  {
   "cell_type": "markdown",
   "id": "71ae9562",
   "metadata": {},
   "source": [
    "## Create dataset for Tensorflow model"
   ]
  },
  {
   "cell_type": "code",
   "execution_count": 29,
   "id": "18820a02-89ad-45a1-8de1-44bb348c6fdb",
   "metadata": {},
   "outputs": [],
   "source": [
    "df[\"RKA_level\"] = df.RKA.apply(RKA_bin)\n",
    "df[\"MFE_level\"] = df.RKA.apply(RKA_bin)\n",
    "target = df[[\"MFE_level\",\"RKA_level\"]].copy()\n",
    "sequences = df[[\"sevenMer\"]].copy()\n",
    "seq_spaced = sequences.applymap(cutWord)\n",
    "\n",
    "vectorize_layer = tf.keras.layers.TextVectorization(max_tokens=d_model, standardize='lower_and_strip_punctuation', split='whitespace', ngrams=None, output_mode='int')\n",
    "vectorize_layer.adapt(seq_spaced)\n",
    "\n",
    "#Divide to train and test\n",
    "X_train, X_test, y_train, y_test = train_test_split(seq_spaced, df[\"RKA_logplus1\"], test_size=0.33, random_state=42)\n",
    "#vec_seq = vectorize_layer(X_train)\n",
    "#seq_database = v\n",
    "all_vec_seq = vectorize_layer(seq_spaced)\n",
    "all_vec_seq = tf.data.Dataset.from_tensor_slices(all_vec_seq)\n",
    "#target_database = tf.data.Dataset.from_tensor_slices(y_train)\n",
    "target_database = tf.data.Dataset.from_tensor_slices(df[\"RKA_logplus1\"])\n",
    "x_test_database = vectorize_layer(X_test)\n",
    "x_test_database = tf.data.Dataset.from_tensor_slices(x_test_database)\n",
    "y_test_database = tf.data.Dataset.from_tensor_slices(y_test)"
   ]
  },
  {
   "cell_type": "code",
   "execution_count": 30,
   "id": "eeca1ef5",
   "metadata": {},
   "outputs": [],
   "source": [
    "#train_set = tf.data.Dataset.zip((seq_database, target_database))\n",
    "train_set = tf.data.Dataset.zip((all_vec_seq, target_database))\n",
    "test_dataset = tf.data.Dataset.zip((x_test_database, y_test_database))\n",
    "real_train_set = train_set.batch(50).shuffle(50)\n",
    "test_dataset = test_dataset.batch(50)\n",
    "#next(iter(train_set.batch(10)))"
   ]
  },
  {
   "cell_type": "markdown",
   "id": "93c63d37",
   "metadata": {},
   "source": [
    "## Build Encoder of Transformer model\n",
    "\n",
    "### Self attention"
   ]
  },
  {
   "cell_type": "code",
   "execution_count": 31,
   "id": "b7486e47-19c2-4711-b10d-e75ccf19e07a",
   "metadata": {},
   "outputs": [],
   "source": [
    "def scaled_dot_product_attention(q, k, v, mask=None):\n",
    "    matmul_qk = tf.matmul(q, k, transpose_b=True) # Shape = (..., seq_len_q, seq_len_k)\n",
    "    # scale matmul_qk\n",
    "    dk = tf.cast(tf.shape(k)[-1], tf.float32)\n",
    "    scaled_attention_logits = matmul_qk / tf.math.sqrt(dk)\n",
    "\n",
    "    # add the mask to the scaled tensor.\n",
    "    if mask is not None:\n",
    "        scaled_attention_logits += (mask * -1e9)\n",
    "\n",
    "    # softmax is normalized on the last axis (seq_len_k) so that the scores\n",
    "    # add up to 1.\n",
    "    attention_weights = tf.nn.softmax(scaled_attention_logits, axis=-1)  # (..., seq_len_q, seq_len_k)\n",
    "\n",
    "    # calculate matmul_qk_v\n",
    "    output = tf.matmul(attention_weights, v)  # (..., seq_len_q, depth_v)\n",
    "\n",
    "    return output, attention_weights, matmul_qk\n",
    "\n",
    "#create multi-head attention layer\n",
    "class MultiHeadAttention(tf.keras.layers.Layer):\n",
    "    def __init__(self, d_model, num_heads):\n",
    "        super(MultiHeadAttention, self).__init__()\n",
    "        self.num_heads = num_heads\n",
    "        self.d_model = d_model\n",
    "\n",
    "        #Because for multi-head, head number * depth = multi-head\n",
    "        assert d_model % self.num_heads == 0\n",
    "        self.depth = d_model // self.num_heads\n",
    "\n",
    "        #Set layers for q, k, v\n",
    "        self.wq = tf.keras.layers.Dense(d_model)\n",
    "        self.wk = tf.keras.layers.Dense(d_model)\n",
    "        self.wv = tf.keras.layers.Dense(d_model)\n",
    "\n",
    "        self.dense = tf.keras.layers.Dense(d_model)\n",
    "    \n",
    "    def split_heads(self, x, batch_size):\n",
    "        \"\"\"Split the last dimension into (num_heads, depth).\n",
    "        Transpose the result such that the shape is (batch_size, num_heads, seq_len, depth)\n",
    "        \"\"\"\n",
    "        x = tf.reshape(x, (batch_size, -1, self.num_heads, self.depth)) \n",
    "        return tf.transpose(x, perm=[0, 2, 1, 3]) # shape = (batch_size, num_heads, seq_len, depth)\n",
    "\n",
    "    def call(self, v, k, q, mask):\n",
    "        batch_size = tf.shape(q)[0]\n",
    "        q = self.wq(q)  # (batch_size, seq_len, d_model)\n",
    "        k = self.wk(k)  # (batch_size, seq_len, d_model)\n",
    "        v = self.wv(v)  # (batch_size, seq_len, d_model)\n",
    "\n",
    "        q = self.split_heads(q, batch_size)  # (batch_size, num_heads, seq_len_q, depth)\n",
    "        k = self.split_heads(k, batch_size)  # (batch_size, num_heads, seq_len_k, depth)\n",
    "        v = self.split_heads(v, batch_size)  # (batch_size, num_heads, seq_len_v, depth)\n",
    "\n",
    "        # scaled_attention.shape == (batch_size, num_heads, seq_len_q, depth)\n",
    "        # attention_weights.shape == (batch_size, num_heads, seq_len_q, seq_len_k)\n",
    "        scaled_attention, attention_weights, matmul_qk= scaled_dot_product_attention(\n",
    "            q, k, v, mask)\n",
    "\n",
    "        scaled_attention = tf.transpose(scaled_attention, perm=[0, 2, 1, 3])  # (batch_size, seq_len_q, num_heads, depth)\n",
    "\n",
    "        concat_attention = tf.reshape(scaled_attention,\n",
    "                                  (batch_size, -1, self.d_model))  # (batch_size, seq_len_q, d_model)\n",
    "        output = self.dense(concat_attention)  # (batch_size, seq_len_q, d_model)\n",
    "\n",
    "        return output, attention_weights, matmul_qk"
   ]
  },
  {
   "cell_type": "markdown",
   "id": "51930153",
   "metadata": {},
   "source": [
    "### Fully connected layer and Encoder layer"
   ]
  },
  {
   "cell_type": "code",
   "execution_count": 32,
   "id": "fd1738c8-b834-4375-bf81-bbe3f37cb92e",
   "metadata": {},
   "outputs": [],
   "source": [
    "def point_wise_feed_forward_network(d_model, dff):\n",
    "    return tf.keras.Sequential([\n",
    "        tf.keras.layers.Dense(dff, activation='relu'),  # (batch_size, seq_len, dff)\n",
    "        tf.keras.layers.Dense(d_model)  # (batch_size, seq_len, d_model)\n",
    "        ])\n",
    "        \n",
    "class EncoderLayer(tf.keras.layers.Layer):\n",
    "    def __init__(self, d_model, num_heads, dff, rate=0.1):\n",
    "        super(EncoderLayer, self).__init__()\n",
    "\n",
    "        #define layers\n",
    "        self.mha = MultiHeadAttention(d_model, num_heads)\n",
    "        self.ffn = point_wise_feed_forward_network(d_model, dff)\n",
    "\n",
    "        self.layernorm1 = tf.keras.layers.LayerNormalization(epsilon=1e-6)\n",
    "        self.layernorm2 = tf.keras.layers.LayerNormalization(epsilon=1e-6)\n",
    "\n",
    "        self.dropout1 = tf.keras.layers.Dropout(rate)\n",
    "        self.dropout2 = tf.keras.layers.Dropout(rate)\n",
    "\n",
    "    def call(self, x, training, mask=None):\n",
    "\n",
    "        attn_output, attn_weight, matmul_qk = self.mha(x, x, x, mask)  # (batch_size, input_seq_len, d_model)\n",
    "        attn_output = self.dropout1(attn_output, training=training)\n",
    "        out1 = self.layernorm1(x + attn_output)  # (batch_size, input_seq_len, d_model)\n",
    "\n",
    "        ffn_output = self.ffn(out1)  # (batch_size, input_seq_len, d_model)\n",
    "        ffn_output = self.dropout2(ffn_output, training=training)\n",
    "        out2 = self.layernorm2(out1 + ffn_output)  # (batch_size, input_seq_len, d_model)\n",
    "\n",
    "        return out2, attn_weight, matmul_qk\n"
   ]
  },
  {
   "cell_type": "markdown",
   "id": "3a8ab76d",
   "metadata": {},
   "source": [
    "### Position Encoding"
   ]
  },
  {
   "cell_type": "code",
   "execution_count": 33,
   "id": "b327ace7",
   "metadata": {},
   "outputs": [],
   "source": [
    "def get_angles(pos, i, d_model):\n",
    "    angle_rate = 1/np.power(10000, (2*(i/2))/np.float32(d_model))\n",
    "    return pos*angle_rate\n",
    "\n",
    "def positional_encoding(position, d_model):\n",
    "    angle_rads = get_angles(np.arange(position)[:, np.newaxis],\n",
    "                            np.arange(d_model)[np.newaxis, :]\n",
    "                            ,d_model)\n",
    "    # apply sin to even indices in the array; 2i\n",
    "    angle_rads[:, 0::2] = np.sin(angle_rads[:, 0::2])\n",
    "    # apply cos to odd indices in the array; 2i+1\n",
    "    angle_rads[:, 1::2] = np.cos(angle_rads[:, 1::2])\n",
    "    pos_encoding = angle_rads[np.newaxis, ...]\n",
    "    return tf.cast(pos_encoding, dtype=tf.float32)"
   ]
  },
  {
   "cell_type": "code",
   "execution_count": 34,
   "id": "163b9512",
   "metadata": {},
   "outputs": [
    {
     "data": {
      "text/plain": [
       "<tf.Tensor: shape=(1, 1, 9), dtype=float32, numpy=array([[[0., 1., 0., 1., 0., 1., 0., 1., 0.]]], dtype=float32)>"
      ]
     },
     "execution_count": 34,
     "metadata": {},
     "output_type": "execute_result"
    }
   ],
   "source": [
    "positional_encoding(1, 9)"
   ]
  },
  {
   "cell_type": "markdown",
   "id": "c258082e",
   "metadata": {},
   "source": [
    "### Encoder"
   ]
  },
  {
   "cell_type": "code",
   "execution_count": 35,
   "id": "0e4b9d93-4b89-4f58-9b9e-5d2dbaa5164c",
   "metadata": {},
   "outputs": [],
   "source": [
    "class Encoder(tf.keras.layers.Layer):\n",
    "    def __init__(self, num_layers, d_model, num_heads, dff, input_vocab_size,\n",
    "                 maximum_position_encoding, rate=0.1):\n",
    "        super(Encoder, self).__init__()\n",
    "        self.d_model = d_model\n",
    "        self.num_layers = num_layers #how many encoder layers\n",
    "        self.embedding = tf.keras.layers.Embedding(input_vocab_size, d_model)\n",
    "        self.pos_encoding = positional_encoding(maximum_position_encoding, d_model)\n",
    "        self.enc_layers = [EncoderLayer(d_model, num_heads, dff, rate) for _ in range(num_layers)]\n",
    "        self.dropout = tf.keras.layers.Dropout(rate)\n",
    "        self.attention_weights = {}\n",
    "        self.matmul_qks = {}\n",
    "        \n",
    "    def call(self, x, training, mask=None):\n",
    "        #attention_weights = {}\n",
    "        #encoding and position encoding\n",
    "        seq_len = tf.shape(x)[1]\n",
    "        x = self.embedding(x) # (batch_size, input_seq_len, d_model)\n",
    "        x *= tf.math.sqrt(tf.cast(self.d_model, tf.float32))\n",
    "        \n",
    "        \n",
    "        x += self.pos_encoding[:, :seq_len, :]\n",
    "\n",
    "        x = self.dropout(x, training=training)\n",
    "\n",
    "        for i in range(self.num_layers):\n",
    "            x, block, matmul_qk = self.enc_layers[i](x, training, mask)\n",
    "            self.attention_weights[f'attentions_{i+1}'] = block\n",
    "            self.matmul_qks[f'matmul_qk_{i+1}'] = matmul_qk\n",
    "            \n",
    "        #attention_weights[f'decoder_layer{i+1}_block'] = block\n",
    "        return x, block # (batch_size, input_seq_len, d_model)\n",
    "    \n",
    "    def get_attention(self):\n",
    "        return self.attention_weights\n",
    "    def get_matmul_qks(self):\n",
    "        return self.matmul_qks"
   ]
  },
  {
   "cell_type": "markdown",
   "id": "4284c0a5",
   "metadata": {},
   "source": [
    "### Test of Encoder"
   ]
  },
  {
   "cell_type": "code",
   "execution_count": 36,
   "id": "405a68b4-b50a-443a-8a4d-0092b80bfe07",
   "metadata": {},
   "outputs": [
    {
     "data": {
      "text/plain": [
       "TensorShape([7, 7, 5])"
      ]
     },
     "execution_count": 36,
     "metadata": {},
     "output_type": "execute_result"
    }
   ],
   "source": [
    "sample_encoder = Encoder(num_layers=2, d_model=5, num_heads=1,\n",
    "                         dff=dff, input_vocab_size=10,\n",
    "                         maximum_position_encoding=24)\n",
    "temp_input = vectorize_layer(seq_spaced)\n",
    "#temp_input = tf.random.uniform((3, 24), dtype=tf.int64, minval=0, maxval=200)\n",
    "sample_encoder_output = sample_encoder(temp_input[22:29], training=False, mask=None)\n",
    "sample_encoder_output[0].shape"
   ]
  },
  {
   "cell_type": "markdown",
   "id": "f4ced629",
   "metadata": {},
   "source": [
    "## Create model"
   ]
  },
  {
   "cell_type": "code",
   "execution_count": 37,
   "id": "7a21f309-13a3-42f8-9ffb-870055dd21d1",
   "metadata": {},
   "outputs": [],
   "source": [
    "def create_model(seq_length, num_layers, d_model, num_heads, dff, input_vocab_size, maximum_position_encoding, rate=0.1):\n",
    "    input = tf.keras.Input(shape=(seq_length,))\n",
    "    x , aws= Encoder(num_layers, d_model, num_heads, dff,\n",
    "                input_vocab_size, maximum_position_encoding, rate=0.1)(input)\n",
    "    x = tf.keras.layers.Reshape((seq_length*d_model,))(x)\n",
    "    x = tf.keras.layers.Dense(seq_length, activation='relu')(x)\n",
    "    x = tf.keras.layers.Dense(1)(x)\n",
    "    output = tf.squeeze(x)\n",
    "    \n",
    "    return tf.keras.Model(inputs=input, outputs=output)\n",
    "    "
   ]
  },
  {
   "cell_type": "code",
   "execution_count": 38,
   "id": "4ca8b704-a4a7-49be-b52a-bad9eed97073",
   "metadata": {},
   "outputs": [
    {
     "data": {
      "text/plain": [
       "<tf.Tensor: shape=(), dtype=float32, numpy=1.0746756>"
      ]
     },
     "execution_count": 38,
     "metadata": {},
     "output_type": "execute_result"
    }
   ],
   "source": [
    "model = create_model(seq_length=seq_length, num_layers= num_layers, d_model=d_model, num_heads=num_heads,\n",
    "                         dff=dff, input_vocab_size=10,\n",
    "                         maximum_position_encoding=7)\n",
    "p = vectorize_layer(seq_spaced.iloc[17])\n",
    "model(p)"
   ]
  },
  {
   "cell_type": "code",
   "execution_count": 39,
   "id": "7b453f05",
   "metadata": {},
   "outputs": [
    {
     "name": "stdout",
     "output_type": "stream",
     "text": [
      "Model: \"model_1\"\n",
      "_________________________________________________________________\n",
      " Layer (type)                Output Shape              Param #   \n",
      "=================================================================\n",
      " input_2 (InputLayer)        [(None, 7)]               0         \n",
      "                                                                 \n",
      " encoder_3 (Encoder)         ((None, 7, 9),            1711      \n",
      "                              (None, 3, None, None))             \n",
      "                                                                 \n",
      " reshape_1 (Reshape)         (None, 63)                0         \n",
      "                                                                 \n",
      " dense_38 (Dense)            (None, 7)                 448       \n",
      "                                                                 \n",
      " dense_39 (Dense)            (None, 1)                 8         \n",
      "                                                                 \n",
      " tf.compat.v1.squeeze_1 (TFO  None                     0         \n",
      " pLambda)                                                        \n",
      "                                                                 \n",
      "=================================================================\n",
      "Total params: 2,167\n",
      "Trainable params: 2,167\n",
      "Non-trainable params: 0\n",
      "_________________________________________________________________\n"
     ]
    }
   ],
   "source": [
    "model.summary()"
   ]
  },
  {
   "cell_type": "markdown",
   "id": "5367f182",
   "metadata": {},
   "source": [
    "## Test our model to see if it can work and get the attention matrix"
   ]
  },
  {
   "cell_type": "code",
   "execution_count": 40,
   "id": "3ee88c5d-55dc-4a82-94ab-c8c12a161840",
   "metadata": {},
   "outputs": [
    {
     "name": "stderr",
     "output_type": "stream",
     "text": [
      "2023-11-15 12:55:17.520778: I tensorflow/core/common_runtime/executor.cc:1197] [/device:CPU:0] (DEBUG INFO) Executor start aborting (this does not indicate an error and you can ignore this message): INVALID_ARGUMENT: You must feed a value for placeholder tensor 'Placeholder/_0' with dtype int64 and shape [10354,7]\n",
      "\t [[{{node Placeholder/_0}}]]\n",
      "2023-11-15 12:55:17.520895: I tensorflow/core/common_runtime/executor.cc:1197] [/device:CPU:0] (DEBUG INFO) Executor start aborting (this does not indicate an error and you can ignore this message): INVALID_ARGUMENT: You must feed a value for placeholder tensor 'Placeholder/_2' with dtype double and shape [10354]\n",
      "\t [[{{node Placeholder/_2}}]]\n"
     ]
    },
    {
     "data": {
      "text/plain": [
       "<Axes: >"
      ]
     },
     "execution_count": 40,
     "metadata": {},
     "output_type": "execute_result"
    },
    {
     "data": {
      "image/png": "[encoded data removed]",
      "text/plain": [
       "<Figure size 640x480 with 2 Axes>"
      ]
     },
     "metadata": {},
     "output_type": "display_data"
    }
   ],
   "source": [
    "for i in real_train_set.take(1):\n",
    "    q = model(i[0])\n",
    "att = model.layers[1].get_attention()['attentions_1']\n",
    "qk = model.layers[1].get_matmul_qks()['matmul_qk_1']\n",
    "#forheat = tf.squeeze(att).numpy()\n",
    "sns.heatmap(qk[(0,0)])"
   ]
  },
  {
   "cell_type": "markdown",
   "id": "bc7cedcf",
   "metadata": {},
   "source": [
    "## Custom Schedule/ Accuracy/ Loss functions"
   ]
  },
  {
   "cell_type": "code",
   "execution_count": 41,
   "id": "29255630",
   "metadata": {},
   "outputs": [],
   "source": [
    "class CustomSchedule(tf.keras.optimizers.schedules.LearningRateSchedule):\n",
    "    def __init__(self, d_model, warmup_steps=4000):\n",
    "        super(CustomSchedule, self).__init__()\n",
    "        self.d_model = d_model\n",
    "        self.d_model = tf.cast(self.d_model, tf.float32)\n",
    "        self.warmup_steps = warmup_steps\n",
    "    \n",
    "    def __call__(self, step):\n",
    "        step = tf.cast(step, tf.float32)\n",
    "        arg1 = tf.math.rsqrt(step)\n",
    "        arg2 = step * (self.warmup_steps ** -1.5)\n",
    "        return tf.math.rsqrt(self.d_model) * tf.math.minimum(arg1, arg2)\n",
    "\n",
    "learning_rate = CustomSchedule(d_model)\n",
    "\n",
    "optimizer = tf.keras.optimizers.Adam(learning_rate, beta_1=0.9, beta_2=0.98,\n",
    "                                     epsilon=1e-9)\n",
    "#optimizer = tf.keras.optimizers.Adam()\n",
    "\n",
    "#loss_object = tf.keras.losses.SparseCategoricalCrossentropy(from_logits=False, reduction='none')\n",
    "loss_object = loss=tf.keras.losses.MeanAbsoluteError()\n",
    "\n",
    "def loss_function(real, pred):\n",
    "    #mask = tf.math.logical_not(tf.math.equal(real, 0))\n",
    "    loss_ = loss_object(real, pred)\n",
    "    #mask = tf.cast(mask, dtype=loss_.dtype)\n",
    "    #loss_ *= mask\n",
    "    #return tf.reduce_sum(loss_)/tf.reduce_sum(mask)\n",
    "    return tf.reduce_sum(loss_)\n",
    "\n",
    "\n",
    "def accuracy_function(real, pred):\n",
    "    accuracies = loss_object(real, pred)\n",
    "    #accuracies = tf.equal(real, tf.argmax(pred, axis=2))\n",
    "    #accuracies = tf.keras.losses.MeanAbsoluteError(real, pred)\n",
    "    #mask = tf.math.logical_not(tf.math.equal(real, 0))\n",
    "    #accuracies = tf.math.logical_and(mask, accuracies)\n",
    "    #accuracies = tf.cast(accuracies, dtype=tf.float32)\n",
    "    #mask = tf.cast(mask, dtype=tf.float32)\n",
    "    #return tf.reduce_sum(accuracies)/tf.reduce_sum(mask)\n",
    "    return tf.reduce_sum(accuracies)\n",
    "\n",
    "train_metric = tfa.metrics.r_square.RSquare()\n",
    "test_metric = tfa.metrics.r_square.RSquare()\n",
    "\n",
    "train_loss = tf.keras.metrics.Mean(name='train_loss')\n",
    "test_loss = tf.keras.metrics.Mean(name='test_loss')\n",
    "train_accuracy = tf.keras.metrics.Mean(name='train_accuracy')\n",
    "test_accuracy = tf.keras.metrics.Mean(name='test_accuracy')"
   ]
  },
  {
   "cell_type": "code",
   "execution_count": 42,
   "id": "d9f60aa4",
   "metadata": {},
   "outputs": [],
   "source": [
    "checkpoint_path = \"./checkpoints_64_21_pos/new\"\n",
    "\n",
    "ckpt = tf.train.Checkpoint(transformer=model,\n",
    "                           optimizer=optimizer)\n",
    "\n",
    "ckpt_manager = tf.train.CheckpointManager(ckpt, checkpoint_path, max_to_keep=5)\n",
    "\n",
    "# if a checkpoint exists, restore the latest checkpoint.\n",
    "if ckpt_manager.latest_checkpoint:\n",
    "  ckpt.restore(ckpt_manager.latest_checkpoint)\n",
    "  print('Latest checkpoint restored!!')"
   ]
  },
  {
   "attachments": {},
   "cell_type": "markdown",
   "id": "80d4085f",
   "metadata": {},
   "source": [
    "## Customized Train/Test steps\n",
    "\n",
    "If you face some type mismatch, please use pip install typeguard==2.13.3.\n",
    "typeguard 3.0.0 version was released recently that's the reason why it's not working.\n",
    "\n",
    "Source: https://stackoverflow.com/questions/75759597/typeerror-isinstance-arg-2-must-be-a-type-or-tuple-of-types-in-tensorflow-add"
   ]
  },
  {
   "cell_type": "code",
   "execution_count": 43,
   "id": "62b97135-299c-4559-8941-40c2c000a158",
   "metadata": {},
   "outputs": [],
   "source": [
    "# The @tf.function trace-compiles train_step into a TF graph for faster\n",
    "# execution. The function specializes to the precise shape of the argument\n",
    "# tensors. To avoid re-tracing due to the variable sequence lengths or variable\n",
    "# batch sizes (the last batch is smaller), use input_signature to specify\n",
    "# more generic shapes.\n",
    "\n",
    "#train_step_signature = [\n",
    "#    tf.TensorSpec(shape=(None, None), dtype=tf.int64),\n",
    "#    tf.TensorSpec(shape=(None), dtype=tf.int64),\n",
    "#]\n",
    "\n",
    "\n",
    "#@tf.function(input_signature=train_step_signature)\n",
    "def train_step(inp, tar):\n",
    "    #inp = inp\n",
    "    target = tar\n",
    "\n",
    "    with tf.GradientTape() as tape:\n",
    "        predictions = model(inp, training = True)\n",
    "        loss = loss_function(target, predictions)\n",
    "\n",
    "    gradients = tape.gradient(loss, model.trainable_variables)\n",
    "    optimizer.apply_gradients(zip(gradients, model.trainable_variables))\n",
    "    \n",
    "    train_loss(loss)\n",
    "\n",
    "    train_metric.update_state(target, predictions)\n",
    "    #result = metric.result()\n",
    "    #train_accuracy(result)\n",
    "    #train_accuracy(accuracy_function(target, predictions))\n",
    "    \n",
    "def test_step(model, inp, tar):\n",
    "    #inp = inp\n",
    "    target = tar\n",
    "    predictions = model(inp)\n",
    "    testloss = loss_function(tar, predictions)\n",
    "    test_loss(testloss)\n",
    "    test_metric.update_state(target, predictions)\n",
    "\n",
    "    #result = metric.result()\n",
    "    #test_accuracy(result)\n",
    "\n",
    "    #train_accuracy(accuracy_function(target, predictions))\n",
    "\n",
    "current_time = datetime.datetime.now().strftime(\"%Y%m%d-%H%M%S\")\n",
    "train_log_dir = 'logs/gradient_tape/' + current_time + '/train'\n",
    "test_log_dir = 'logs/gradient_tape/' + current_time + '/test'\n",
    "train_summary_writer = tf.summary.create_file_writer(train_log_dir)\n",
    "test_summary_writer = tf.summary.create_file_writer(test_log_dir)"
   ]
  },
  {
   "cell_type": "markdown",
   "id": "bc5c7f33",
   "metadata": {},
   "source": [
    "## Train loop"
   ]
  },
  {
   "cell_type": "code",
   "execution_count": 44,
   "id": "c180ff22-68d6-4461-91f9-6a784a977175",
   "metadata": {},
   "outputs": [
    {
     "name": "stderr",
     "output_type": "stream",
     "text": [
      "2023-11-15 12:55:17.638984: I tensorflow/core/common_runtime/executor.cc:1197] [/device:CPU:0] (DEBUG INFO) Executor start aborting (this does not indicate an error and you can ignore this message): INVALID_ARGUMENT: You must feed a value for placeholder tensor 'Placeholder/_2' with dtype double and shape [10354]\n",
      "\t [[{{node Placeholder/_2}}]]\n",
      "2023-11-15 12:55:17.639100: I tensorflow/core/common_runtime/executor.cc:1197] [/device:CPU:0] (DEBUG INFO) Executor start aborting (this does not indicate an error and you can ignore this message): INVALID_ARGUMENT: You must feed a value for placeholder tensor 'Placeholder/_2' with dtype double and shape [10354]\n",
      "\t [[{{node Placeholder/_2}}]]\n"
     ]
    },
    {
     "name": "stdout",
     "output_type": "stream",
     "text": [
      "Epoch 1 Batch 0 Loss 0.6537 Accuracy -21.3507\n"
     ]
    },
    {
     "name": "stderr",
     "output_type": "stream",
     "text": [
      "2023-11-15 12:55:22.165632: I tensorflow/core/common_runtime/executor.cc:1197] [/device:CPU:0] (DEBUG INFO) Executor start aborting (this does not indicate an error and you can ignore this message): INVALID_ARGUMENT: You must feed a value for placeholder tensor 'Placeholder/_2' with dtype double and shape [5100]\n",
      "\t [[{{node Placeholder/_2}}]]\n"
     ]
    },
    {
     "name": "stdout",
     "output_type": "stream",
     "text": [
      "Epoch 1, Loss: 0.51138836145401, Test Loss: 0.1289898306131363, Test R^2: -0.3253854513168335\n",
      "Epoch 2 Batch 0 Loss 0.2655 Accuracy -21.3340\n",
      "Epoch 2, Loss: 0.1985202133655548, Test Loss: 0.12625953555107117, Test R^2: -0.24923110008239746\n",
      "Epoch 3 Batch 0 Loss 0.1258 Accuracy -11.9212\n",
      "Epoch 3, Loss: 0.12758323550224304, Test Loss: 0.12102086842060089, Test R^2: -0.16273820400238037\n",
      "Epoch 4 Batch 0 Loss 0.0879 Accuracy -8.1001\n",
      "Epoch 4, Loss: 0.11102572083473206, Test Loss: 0.11769569665193558, Test R^2: -0.1085963249206543\n",
      "Epoch 5 Batch 0 Loss 0.0909 Accuracy -6.1037\n",
      "Epoch 5, Loss: 0.10531996935606003, Test Loss: 0.11408709734678268, Test R^2: -0.05856180191040039\n",
      "Saving checkpoint for epoch 5 at ./checkpoints_64_21_pos/new/ckpt-1\n",
      "Epoch 5 Loss 0.1053 Accuracy -4.8899\n",
      "Time taken for 1 epoch: 4.21 secs\n",
      "\n",
      "Epoch 6 Batch 0 Loss 0.1000 Accuracy -4.8853\n",
      "Epoch 6, Loss: 0.1009170189499855, Test Loss: 0.11217239499092102, Test R^2: -0.053438782691955566\n",
      "Epoch 7 Batch 0 Loss 0.1020 Accuracy -4.0633\n",
      "Epoch 7, Loss: 0.10140310227870941, Test Loss: 0.10952159017324448, Test R^2: -0.017143607139587402\n",
      "Epoch 8 Batch 0 Loss 0.1064 Accuracy -3.4763\n",
      "Epoch 8, Loss: 0.0983697846531868, Test Loss: 0.10720682144165039, Test R^2: 0.014741897583007812\n",
      "Epoch 9 Batch 0 Loss 0.0867 Accuracy -3.0297\n",
      "Epoch 9, Loss: 0.09613071382045746, Test Loss: 0.10533313453197479, Test R^2: 0.0413932204246521\n",
      "Epoch 10 Batch 0 Loss 0.0961 Accuracy -2.6782\n",
      "Epoch 10, Loss: 0.09403198212385178, Test Loss: 0.10357674211263657, Test R^2: 0.06613177061080933\n",
      "Saving checkpoint for epoch 10 at ./checkpoints_64_21_pos/new/ckpt-2\n",
      "Epoch 10 Loss 0.0940 Accuracy -2.3960\n",
      "Time taken for 1 epoch: 4.31 secs\n",
      "\n",
      "Epoch 11 Batch 0 Loss 0.0978 Accuracy -2.3942\n",
      "Epoch 11, Loss: 0.09083323180675507, Test Loss: 0.10173259675502777, Test R^2: 0.09054279327392578\n",
      "Epoch 12 Batch 0 Loss 0.0864 Accuracy -2.1578\n",
      "Epoch 12, Loss: 0.08973051607608795, Test Loss: 0.10046534985303879, Test R^2: 0.11144191026687622\n",
      "Epoch 13 Batch 0 Loss 0.0988 Accuracy -1.9586\n",
      "Epoch 13, Loss: 0.08789437264204025, Test Loss: 0.09908207505941391, Test R^2: 0.12827688455581665\n",
      "Epoch 14 Batch 0 Loss 0.0858 Accuracy -1.7891\n",
      "Epoch 14, Loss: 0.08565060794353485, Test Loss: 0.09769855439662933, Test R^2: 0.14618414640426636\n",
      "Epoch 15 Batch 0 Loss 0.0859 Accuracy -1.6411\n",
      "Epoch 15, Loss: 0.08566617965698242, Test Loss: 0.09643890708684921, Test R^2: 0.16357237100601196\n",
      "Saving checkpoint for epoch 15 at ./checkpoints_64_21_pos/new/ckpt-3\n",
      "Epoch 15 Loss 0.0857 Accuracy -1.5136\n",
      "Time taken for 1 epoch: 4.22 secs\n",
      "\n",
      "Epoch 16 Batch 0 Loss 0.0892 Accuracy -1.5128\n",
      "Epoch 16, Loss: 0.08516060560941696, Test Loss: 0.09565331041812897, Test R^2: 0.171423077583313\n",
      "Epoch 17 Batch 0 Loss 0.0921 Accuracy -1.4005\n",
      "Epoch 17, Loss: 0.083760567009449, Test Loss: 0.09464315325021744, Test R^2: 0.18454062938690186\n",
      "Epoch 18 Batch 0 Loss 0.0656 Accuracy -1.3003\n",
      "Epoch 18, Loss: 0.08310241252183914, Test Loss: 0.09413544833660126, Test R^2: 0.1950056552886963\n",
      "Epoch 19 Batch 0 Loss 0.0797 Accuracy -1.2101\n",
      "Epoch 19, Loss: 0.08276152610778809, Test Loss: 0.09338555485010147, Test R^2: 0.20369988679885864\n",
      "Epoch 20 Batch 0 Loss 0.0701 Accuracy -1.1291\n",
      "Epoch 20, Loss: 0.08255917578935623, Test Loss: 0.09256722033023834, Test R^2: 0.21528631448745728\n",
      "Saving checkpoint for epoch 20 at ./checkpoints_64_21_pos/new/ckpt-4\n",
      "Epoch 20 Loss 0.0826 Accuracy -1.0566\n",
      "Time taken for 1 epoch: 4.22 secs\n",
      "\n",
      "Epoch 21 Batch 0 Loss 0.0861 Accuracy -1.0560\n",
      "Epoch 21, Loss: 0.08183137327432632, Test Loss: 0.09196740388870239, Test R^2: 0.2252504825592041\n",
      "Epoch 22 Batch 0 Loss 0.0824 Accuracy -0.9898\n",
      "Epoch 22, Loss: 0.08095254004001617, Test Loss: 0.09118828922510147, Test R^2: 0.23523259162902832\n",
      "Epoch 23 Batch 0 Loss 0.0720 Accuracy -0.9289\n",
      "Epoch 23, Loss: 0.08054189383983612, Test Loss: 0.09050653129816055, Test R^2: 0.2440807819366455\n",
      "Epoch 24 Batch 0 Loss 0.0802 Accuracy -0.8728\n",
      "Epoch 24, Loss: 0.07998248189687729, Test Loss: 0.08982691168785095, Test R^2: 0.2530216574668884\n",
      "Epoch 25 Batch 0 Loss 0.0902 Accuracy -0.8213\n",
      "Epoch 25, Loss: 0.0799703299999237, Test Loss: 0.08920276910066605, Test R^2: 0.26150715351104736\n",
      "Saving checkpoint for epoch 25 at ./checkpoints_64_21_pos/new/ckpt-5\n",
      "Epoch 25 Loss 0.0800 Accuracy -0.7739\n",
      "Time taken for 1 epoch: 4.25 secs\n",
      "\n",
      "Epoch 26 Batch 0 Loss 0.0864 Accuracy -0.7735\n",
      "Epoch 26, Loss: 0.07947400957345963, Test Loss: 0.08871904760599136, Test R^2: 0.2682322859764099\n",
      "Epoch 27 Batch 0 Loss 0.0742 Accuracy -0.7294\n",
      "Epoch 27, Loss: 0.07888905704021454, Test Loss: 0.08821233361959457, Test R^2: 0.2745174169540405\n",
      "Epoch 28 Batch 0 Loss 0.0768 Accuracy -0.6880\n",
      "Epoch 28, Loss: 0.07947519421577454, Test Loss: 0.0877523422241211, Test R^2: 0.281840443611145\n",
      "Epoch 29 Batch 0 Loss 0.0905 Accuracy -0.6497\n",
      "Epoch 29, Loss: 0.0785190537571907, Test Loss: 0.08724246919155121, Test R^2: 0.28850990533828735\n",
      "Epoch 30 Batch 0 Loss 0.0742 Accuracy -0.6138\n",
      "Epoch 30, Loss: 0.07797710597515106, Test Loss: 0.08685199171304703, Test R^2: 0.29329758882522583\n",
      "Saving checkpoint for epoch 30 at ./checkpoints_64_21_pos/new/ckpt-6\n",
      "Epoch 30 Loss 0.0780 Accuracy -0.5803\n",
      "Time taken for 1 epoch: 4.42 secs\n",
      "\n",
      "Epoch 31 Batch 0 Loss 0.0582 Accuracy -0.5802\n",
      "Epoch 31, Loss: 0.07748916745185852, Test Loss: 0.08642414957284927, Test R^2: 0.299751877784729\n",
      "Epoch 32 Batch 0 Loss 0.0836 Accuracy -0.5482\n",
      "Epoch 32, Loss: 0.07762951403856277, Test Loss: 0.08606972545385361, Test R^2: 0.3043990731239319\n",
      "Epoch 33 Batch 0 Loss 0.0852 Accuracy -0.5187\n",
      "Epoch 33, Loss: 0.07716143131256104, Test Loss: 0.08563400059938431, Test R^2: 0.31031161546707153\n",
      "Epoch 34 Batch 0 Loss 0.0702 Accuracy -0.4905\n",
      "Epoch 34, Loss: 0.07769474387168884, Test Loss: 0.08529055118560791, Test R^2: 0.31465476751327515\n",
      "Epoch 35 Batch 0 Loss 0.0719 Accuracy -0.4642\n",
      "Epoch 35, Loss: 0.07705499231815338, Test Loss: 0.08493820577859879, Test R^2: 0.3196753263473511\n",
      "Saving checkpoint for epoch 35 at ./checkpoints_64_21_pos/new/ckpt-7\n",
      "Epoch 35 Loss 0.0771 Accuracy -0.4390\n",
      "Time taken for 1 epoch: 4.40 secs\n",
      "\n",
      "Epoch 36 Batch 0 Loss 0.0655 Accuracy -0.4389\n",
      "Epoch 36, Loss: 0.07632828503847122, Test Loss: 0.08458824455738068, Test R^2: 0.32467538118362427\n",
      "Epoch 37 Batch 0 Loss 0.0678 Accuracy -0.4149\n",
      "Epoch 37, Loss: 0.0762471854686737, Test Loss: 0.08432184159755707, Test R^2: 0.3292567729949951\n",
      "Epoch 38 Batch 0 Loss 0.0648 Accuracy -0.3923\n",
      "Epoch 38, Loss: 0.07663679122924805, Test Loss: 0.08396854996681213, Test R^2: 0.33388835191726685\n",
      "Epoch 39 Batch 0 Loss 0.0612 Accuracy -0.3710\n",
      "Epoch 39, Loss: 0.07580959796905518, Test Loss: 0.08370605111122131, Test R^2: 0.3380677103996277\n",
      "Epoch 40 Batch 0 Loss 0.0704 Accuracy -0.3503\n",
      "Epoch 40, Loss: 0.07533290982246399, Test Loss: 0.08340883255004883, Test R^2: 0.3421856760978699\n",
      "Saving checkpoint for epoch 40 at ./checkpoints_64_21_pos/new/ckpt-8\n",
      "Epoch 40 Loss 0.0753 Accuracy -0.3306\n",
      "Time taken for 1 epoch: 4.24 secs\n",
      "\n",
      "Epoch 41 Batch 0 Loss 0.0806 Accuracy -0.3305\n",
      "Epoch 41, Loss: 0.07475589215755463, Test Loss: 0.08314255625009537, Test R^2: 0.345608115196228\n",
      "Epoch 42 Batch 0 Loss 0.0656 Accuracy -0.3114\n",
      "Epoch 42, Loss: 0.07395404577255249, Test Loss: 0.0828334242105484, Test R^2: 0.35013437271118164\n",
      "Epoch 43 Batch 0 Loss 0.0736 Accuracy -0.2929\n",
      "Epoch 43, Loss: 0.07401411235332489, Test Loss: 0.082577183842659, Test R^2: 0.35380566120147705\n",
      "Epoch 44 Batch 0 Loss 0.0817 Accuracy -0.2754\n",
      "Epoch 44, Loss: 0.07459422945976257, Test Loss: 0.08230634033679962, Test R^2: 0.35804420709609985\n",
      "Epoch 45 Batch 0 Loss 0.0666 Accuracy -0.2587\n",
      "Epoch 45, Loss: 0.07404099404811859, Test Loss: 0.0820431038737297, Test R^2: 0.36195236444473267\n",
      "Saving checkpoint for epoch 45 at ./checkpoints_64_21_pos/new/ckpt-9\n",
      "Epoch 45 Loss 0.0740 Accuracy -0.2425\n",
      "Time taken for 1 epoch: 4.20 secs\n",
      "\n",
      "Epoch 46 Batch 0 Loss 0.0696 Accuracy -0.2424\n",
      "Epoch 46, Loss: 0.07349831610918045, Test Loss: 0.08179298788309097, Test R^2: 0.36593711376190186\n",
      "Epoch 47 Batch 0 Loss 0.0789 Accuracy -0.2268\n",
      "Epoch 47, Loss: 0.07354705035686493, Test Loss: 0.08156359940767288, Test R^2: 0.3698357343673706\n",
      "Epoch 48 Batch 0 Loss 0.0669 Accuracy -0.2121\n",
      "Epoch 48, Loss: 0.073021799325943, Test Loss: 0.08133608847856522, Test R^2: 0.3729597330093384\n",
      "Epoch 49 Batch 0 Loss 0.0550 Accuracy -0.1976\n",
      "Epoch 49, Loss: 0.07324492186307907, Test Loss: 0.08109819889068604, Test R^2: 0.37659305334091187\n",
      "Epoch 50 Batch 0 Loss 0.0795 Accuracy -0.1837\n",
      "Epoch 50, Loss: 0.073529914021492, Test Loss: 0.08085852861404419, Test R^2: 0.37997686862945557\n",
      "Saving checkpoint for epoch 50 at ./checkpoints_64_21_pos/new/ckpt-10\n",
      "Epoch 50 Loss 0.0735 Accuracy -0.1707\n",
      "Time taken for 1 epoch: 4.37 secs\n",
      "\n",
      "Epoch 51 Batch 0 Loss 0.0740 Accuracy -0.1706\n",
      "Epoch 51, Loss: 0.07377112656831741, Test Loss: 0.08063320815563202, Test R^2: 0.3830236792564392\n",
      "Epoch 52 Batch 0 Loss 0.0779 Accuracy -0.1579\n",
      "Epoch 52, Loss: 0.07276327908039093, Test Loss: 0.0804024487733841, Test R^2: 0.3863018751144409\n",
      "Epoch 53 Batch 0 Loss 0.0613 Accuracy -0.1456\n",
      "Epoch 53, Loss: 0.0725797489285469, Test Loss: 0.08018320798873901, Test R^2: 0.3894963264465332\n",
      "Epoch 54 Batch 0 Loss 0.0670 Accuracy -0.1337\n",
      "Epoch 54, Loss: 0.07335037738084793, Test Loss: 0.07998283952474594, Test R^2: 0.3925243616104126\n",
      "Epoch 55 Batch 0 Loss 0.0816 Accuracy -0.1223\n",
      "Epoch 55, Loss: 0.07239589095115662, Test Loss: 0.07978837937116623, Test R^2: 0.3952275514602661\n",
      "Saving checkpoint for epoch 55 at ./checkpoints_64_21_pos/new/ckpt-11\n",
      "Epoch 55 Loss 0.0724 Accuracy -0.1113\n",
      "Time taken for 1 epoch: 4.22 secs\n",
      "\n",
      "Epoch 56 Batch 0 Loss 0.0607 Accuracy -0.1112\n",
      "Epoch 56, Loss: 0.07303032279014587, Test Loss: 0.07959391176700592, Test R^2: 0.39811044931411743\n",
      "Epoch 57 Batch 0 Loss 0.0565 Accuracy -0.1006\n",
      "Epoch 57, Loss: 0.07286759465932846, Test Loss: 0.07940326631069183, Test R^2: 0.40080398321151733\n",
      "Epoch 58 Batch 0 Loss 0.0765 Accuracy -0.0903\n",
      "Epoch 58, Loss: 0.07272019982337952, Test Loss: 0.07924262434244156, Test R^2: 0.40320926904678345\n",
      "Epoch 59 Batch 0 Loss 0.0633 Accuracy -0.0804\n",
      "Epoch 59, Loss: 0.07254970818758011, Test Loss: 0.07905317097902298, Test R^2: 0.40591156482696533\n",
      "Epoch 60 Batch 0 Loss 0.0685 Accuracy -0.0708\n",
      "Epoch 60, Loss: 0.07202836871147156, Test Loss: 0.07887867093086243, Test R^2: 0.40848737955093384\n",
      "Saving checkpoint for epoch 60 at ./checkpoints_64_21_pos/new/ckpt-12\n",
      "Epoch 60 Loss 0.0720 Accuracy -0.0613\n",
      "Time taken for 1 epoch: 4.21 secs\n",
      "\n",
      "Epoch 61 Batch 0 Loss 0.0617 Accuracy -0.0613\n",
      "Epoch 61, Loss: 0.0720575749874115, Test Loss: 0.07872407138347626, Test R^2: 0.4105260372161865\n",
      "Epoch 62 Batch 0 Loss 0.0736 Accuracy -0.0522\n",
      "Epoch 62, Loss: 0.0722011998295784, Test Loss: 0.07855594903230667, Test R^2: 0.41313642263412476\n",
      "Epoch 63 Batch 0 Loss 0.0733 Accuracy -0.0434\n",
      "Epoch 63, Loss: 0.07237570732831955, Test Loss: 0.07839418947696686, Test R^2: 0.41564422845840454\n",
      "Epoch 64 Batch 0 Loss 0.0654 Accuracy -0.0349\n",
      "Epoch 64, Loss: 0.07202877849340439, Test Loss: 0.07825520634651184, Test R^2: 0.417741596698761\n",
      "Epoch 65 Batch 0 Loss 0.0665 Accuracy -0.0266\n",
      "Epoch 65, Loss: 0.07198090851306915, Test Loss: 0.07812074571847916, Test R^2: 0.4196140766143799\n",
      "Saving checkpoint for epoch 65 at ./checkpoints_64_21_pos/new/ckpt-13\n",
      "Epoch 65 Loss 0.0720 Accuracy -0.0186\n",
      "Time taken for 1 epoch: 4.19 secs\n",
      "\n",
      "Epoch 66 Batch 0 Loss 0.0785 Accuracy -0.0186\n",
      "Epoch 66, Loss: 0.07124632596969604, Test Loss: 0.07796163856983185, Test R^2: 0.4219236969947815\n",
      "Epoch 67 Batch 0 Loss 0.0638 Accuracy -0.0107\n",
      "Epoch 67, Loss: 0.07131367176771164, Test Loss: 0.07781239598989487, Test R^2: 0.4239926338195801\n",
      "Epoch 68 Batch 0 Loss 0.0614 Accuracy -0.0030\n",
      "Epoch 68, Loss: 0.07172128558158875, Test Loss: 0.07767823338508606, Test R^2: 0.42594408988952637\n",
      "Epoch 69 Batch 0 Loss 0.0823 Accuracy 0.0045\n",
      "Epoch 69, Loss: 0.07197073847055435, Test Loss: 0.0775383859872818, Test R^2: 0.42795753479003906\n",
      "Epoch 70 Batch 0 Loss 0.0816 Accuracy 0.0116\n",
      "Epoch 70, Loss: 0.07219137251377106, Test Loss: 0.07744201272726059, Test R^2: 0.4291195869445801\n",
      "Saving checkpoint for epoch 70 at ./checkpoints_64_21_pos/new/ckpt-14\n",
      "Epoch 70 Loss 0.0722 Accuracy 0.0186\n",
      "Time taken for 1 epoch: 4.21 secs\n",
      "\n",
      "Epoch 71 Batch 0 Loss 0.0894 Accuracy 0.0186\n",
      "Epoch 71, Loss: 0.07154356688261032, Test Loss: 0.07733006775379181, Test R^2: 0.430700421333313\n",
      "Epoch 72 Batch 0 Loss 0.0657 Accuracy 0.0254\n",
      "Epoch 72, Loss: 0.07152167707681656, Test Loss: 0.07724720239639282, Test R^2: 0.4318099617958069\n",
      "Epoch 73 Batch 0 Loss 0.0725 Accuracy 0.0320\n",
      "Epoch 73, Loss: 0.07103477418422699, Test Loss: 0.07710634917020798, Test R^2: 0.4337739944458008\n",
      "Epoch 74 Batch 0 Loss 0.0794 Accuracy 0.0386\n",
      "Epoch 74, Loss: 0.0712580755352974, Test Loss: 0.07697295397520065, Test R^2: 0.4357202649116516\n",
      "Epoch 75 Batch 0 Loss 0.0795 Accuracy 0.0449\n",
      "Epoch 75, Loss: 0.07149408757686615, Test Loss: 0.07684319466352463, Test R^2: 0.4375220537185669\n",
      "Saving checkpoint for epoch 75 at ./checkpoints_64_21_pos/new/ckpt-15\n",
      "Epoch 75 Loss 0.0715 Accuracy 0.0510\n",
      "Time taken for 1 epoch: 4.24 secs\n",
      "\n",
      "Epoch 76 Batch 0 Loss 0.0763 Accuracy 0.0510\n",
      "Epoch 76, Loss: 0.07130128145217896, Test Loss: 0.07671750336885452, Test R^2: 0.43934810161590576\n",
      "Epoch 77 Batch 0 Loss 0.0862 Accuracy 0.0570\n",
      "Epoch 77, Loss: 0.07167588919401169, Test Loss: 0.07660683989524841, Test R^2: 0.44085854291915894\n",
      "Epoch 78 Batch 0 Loss 0.0759 Accuracy 0.0629\n",
      "Epoch 78, Loss: 0.0713733360171318, Test Loss: 0.07648562639951706, Test R^2: 0.44253814220428467\n",
      "Epoch 79 Batch 0 Loss 0.0648 Accuracy 0.0686\n",
      "Epoch 79, Loss: 0.07162542641162872, Test Loss: 0.07637783885002136, Test R^2: 0.4439401626586914\n",
      "Epoch 80 Batch 0 Loss 0.0777 Accuracy 0.0742\n",
      "Epoch 80, Loss: 0.07168205082416534, Test Loss: 0.07625966519117355, Test R^2: 0.44552379846572876\n",
      "Saving checkpoint for epoch 80 at ./checkpoints_64_21_pos/new/ckpt-16\n",
      "Epoch 80 Loss 0.0717 Accuracy 0.0795\n",
      "Time taken for 1 epoch: 4.19 secs\n",
      "\n",
      "Epoch 81 Batch 0 Loss 0.0822 Accuracy 0.0795\n",
      "Epoch 81, Loss: 0.07159395515918732, Test Loss: 0.07615140825510025, Test R^2: 0.4470510482788086\n",
      "Epoch 82 Batch 0 Loss 0.0770 Accuracy 0.0848\n",
      "Epoch 82, Loss: 0.07114206999540329, Test Loss: 0.0760270208120346, Test R^2: 0.44876450300216675\n",
      "Epoch 83 Batch 0 Loss 0.0615 Accuracy 0.0900\n",
      "Epoch 83, Loss: 0.0718262642621994, Test Loss: 0.07592648267745972, Test R^2: 0.45028501749038696\n",
      "Epoch 84 Batch 0 Loss 0.0845 Accuracy 0.0950\n",
      "Epoch 84, Loss: 0.07127556204795837, Test Loss: 0.07581872493028641, Test R^2: 0.4516926407814026\n",
      "Epoch 85 Batch 0 Loss 0.0611 Accuracy 0.0999\n",
      "Epoch 85, Loss: 0.07117415219545364, Test Loss: 0.07573442906141281, Test R^2: 0.4529486298561096\n",
      "Saving checkpoint for epoch 85 at ./checkpoints_64_21_pos/new/ckpt-17\n",
      "Epoch 85 Loss 0.0712 Accuracy 0.1047\n",
      "Time taken for 1 epoch: 4.19 secs\n",
      "\n",
      "Epoch 86 Batch 0 Loss 0.0767 Accuracy 0.1048\n",
      "Epoch 86, Loss: 0.07094456255435944, Test Loss: 0.07565367221832275, Test R^2: 0.45408523082733154\n",
      "Epoch 87 Batch 0 Loss 0.0739 Accuracy 0.1095\n",
      "Epoch 87, Loss: 0.07094172388315201, Test Loss: 0.07556276768445969, Test R^2: 0.45532530546188354\n",
      "Epoch 88 Batch 0 Loss 0.0676 Accuracy 0.1142\n",
      "Epoch 88, Loss: 0.07051250338554382, Test Loss: 0.07546516507863998, Test R^2: 0.45668643712997437\n",
      "Epoch 89 Batch 0 Loss 0.0741 Accuracy 0.1187\n",
      "Epoch 89, Loss: 0.07039341330528259, Test Loss: 0.07536254823207855, Test R^2: 0.4581279754638672\n",
      "Epoch 90 Batch 0 Loss 0.0790 Accuracy 0.1232\n",
      "Epoch 90, Loss: 0.07058915495872498, Test Loss: 0.07527460157871246, Test R^2: 0.45933157205581665\n",
      "Saving checkpoint for epoch 90 at ./checkpoints_64_21_pos/new/ckpt-18\n",
      "Epoch 90 Loss 0.0706 Accuracy 0.1277\n",
      "Time taken for 1 epoch: 4.18 secs\n",
      "\n",
      "Epoch 91 Batch 0 Loss 0.0817 Accuracy 0.1277\n",
      "Epoch 91, Loss: 0.07067786902189255, Test Loss: 0.07518322765827179, Test R^2: 0.46061158180236816\n",
      "Epoch 92 Batch 0 Loss 0.0676 Accuracy 0.1319\n",
      "Epoch 92, Loss: 0.0709143653512001, Test Loss: 0.0750856101512909, Test R^2: 0.461993932723999\n",
      "Epoch 93 Batch 0 Loss 0.0655 Accuracy 0.1361\n",
      "Epoch 93, Loss: 0.07052724808454514, Test Loss: 0.07501222938299179, Test R^2: 0.46296101808547974\n",
      "Epoch 94 Batch 0 Loss 0.0702 Accuracy 0.1402\n",
      "Epoch 94, Loss: 0.07030119001865387, Test Loss: 0.074910469353199, Test R^2: 0.46428805589675903\n",
      "Epoch 95 Batch 0 Loss 0.0742 Accuracy 0.1442\n",
      "Epoch 95, Loss: 0.0695500448346138, Test Loss: 0.07481019198894501, Test R^2: 0.4656941890716553\n",
      "Saving checkpoint for epoch 95 at ./checkpoints_64_21_pos/new/ckpt-19\n",
      "Epoch 95 Loss 0.0696 Accuracy 0.1483\n",
      "Time taken for 1 epoch: 4.29 secs\n",
      "\n",
      "Epoch 96 Batch 0 Loss 0.0664 Accuracy 0.1483\n",
      "Epoch 96, Loss: 0.06982780247926712, Test Loss: 0.07471241801977158, Test R^2: 0.46715664863586426\n",
      "Epoch 97 Batch 0 Loss 0.0847 Accuracy 0.1523\n",
      "Epoch 97, Loss: 0.07005497813224792, Test Loss: 0.07461950927972794, Test R^2: 0.46861374378204346\n",
      "Epoch 98 Batch 0 Loss 0.0722 Accuracy 0.1561\n",
      "Epoch 98, Loss: 0.06991451233625412, Test Loss: 0.07452859729528427, Test R^2: 0.46996641159057617\n",
      "Epoch 99 Batch 0 Loss 0.0720 Accuracy 0.1599\n",
      "Epoch 99, Loss: 0.06874123960733414, Test Loss: 0.07443162053823471, Test R^2: 0.4713273048400879\n",
      "Epoch 100 Batch 0 Loss 0.0811 Accuracy 0.1638\n",
      "Epoch 100, Loss: 0.06897486001253128, Test Loss: 0.0743384063243866, Test R^2: 0.47274452447891235\n",
      "Saving checkpoint for epoch 100 at ./checkpoints_64_21_pos/new/ckpt-20\n",
      "Epoch 100 Loss 0.0690 Accuracy 0.1676\n",
      "Time taken for 1 epoch: 4.21 secs\n",
      "\n"
     ]
    }
   ],
   "source": [
    "import time\n",
    "EPOCHS=100\n",
    "for epoch in range(EPOCHS):\n",
    "  start = time.time()\n",
    "\n",
    "  train_loss.reset_states()\n",
    "  train_accuracy.reset_states()\n",
    "\n",
    "\n",
    "  for (batch, (inp, tar)) in enumerate(real_train_set):\n",
    "    train_step(inp, tar)\n",
    "    if batch % 300 == 0:\n",
    "      print(f'Epoch {epoch + 1} Batch {batch} Loss {train_loss.result():.4f} Accuracy {train_metric.result():.4f}')\n",
    "\n",
    "  with train_summary_writer.as_default():\n",
    "    tf.summary.scalar('loss', train_loss.result(), step=epoch)\n",
    "    tf.summary.scalar('accuracy', train_metric.result(), step=epoch)\n",
    "\n",
    "  for (batch, (inp, tar)) in enumerate(test_dataset):\n",
    "    test_step(model, inp, tar)\n",
    "\n",
    "  with test_summary_writer.as_default():\n",
    "    #tf.summary.scalar('loss', test_loss.result(), step=epoch)\n",
    "    tf.summary.scalar('accuracy', test_metric.result(), step=epoch)\n",
    "\n",
    "  template = 'Epoch {}, Loss: {}, Test Loss: {}, Test R^2: {}'\n",
    "  print (template.format(epoch+1,\n",
    "                         train_loss.result(),\n",
    "                         test_loss.result(),\n",
    "                         test_metric.result()\n",
    "                         ))\n",
    "  #Print out information\n",
    " \n",
    "\n",
    "  if (epoch + 1) % 5 == 0:\n",
    "    ckpt_save_path = ckpt_manager.save()\n",
    "    print(f'Saving checkpoint for epoch {epoch+1} at {ckpt_save_path}')\n",
    "    print(f'Epoch {epoch + 1} Loss {train_loss.result():.4f} Accuracy {train_metric.result():.4f}')\n",
    "    print(f'Time taken for 1 epoch: {time.time() - start:.2f} secs\\n')"
   ]
  },
  {
   "cell_type": "markdown",
   "id": "ddbb1e38",
   "metadata": {},
   "source": [
    "## Visualize attentions"
   ]
  },
  {
   "cell_type": "code",
   "execution_count": 45,
   "id": "1537784c",
   "metadata": {},
   "outputs": [],
   "source": [
    "df[\"seq_spaced\"] = seq_spaced\n",
    "def visualize_attention(heads, labels, attention):\n",
    "    plt.rcParams[\"figure.figsize\"] = (20,5)\n",
    "    fig, axs = plt.subplots(1,heads)\n",
    "    plt.set_cmap('bwr')\n",
    "    for i in range(heads):\n",
    "        ax = axs[i]\n",
    "        cax = ax.matshow(attention[i])\n",
    "        ax.set_xticks(range(len(labels)))\n",
    "        ax.set_yticks(range(len(labels)))\n",
    "        #labels = [label for label in R.to_numpy()[0]]\n",
    "        ax.set_xticklabels(labels, rotation=90)\n",
    "        #labels = [label for label in R.to_numpy()[0]]\n",
    "        ax.set_yticklabels(labels)\n",
    "        print(f\"head{i}: {tf.reduce_max(attention[i])}\")\n",
    "        print(f\"head{i}: {tf.reduce_min(attention[i])}\")\n",
    "    cbar = fig.colorbar(cax)\n",
    "\n",
    "def plot_attention_head(sequence, attention, heads):\n",
    "    # The plot is of the attention when a token was generated.\n",
    "    # # The model didn't generate `<START>` in the output. Skip it.\n",
    "    labels = [label for label in sequence.to_numpy()[0]]\n",
    "    #translated_tokens = translated_tokens[1:]\n",
    "    #ax = plt.gca()\n",
    "    visualize_attention(heads = heads, labels=labels, attention=attention)\n",
    "    \n",
    "   "
   ]
  },
  {
   "cell_type": "markdown",
   "id": "db8e11ed",
   "metadata": {},
   "source": [
    "## Test individual sequence"
   ]
  },
  {
   "cell_type": "code",
   "execution_count": 46,
   "id": "8f4b2d8c",
   "metadata": {},
   "outputs": [
    {
     "name": "stdout",
     "output_type": "stream",
     "text": [
      "head0: 7.599725723266602\n",
      "head0: -8.390060424804688\n",
      "head1: 4.321410179138184\n",
      "head1: -4.572572231292725\n",
      "head2: 6.56087064743042\n",
      "head2: -9.677009582519531\n",
      "sequence:  ['U A G U A G U']\n",
      "predicted RKA: 0.6429065465927124, real RKA 13003    0.782336\n",
      "Name: RKA_logplus1, dtype: float64\n"
     ]
    },
    {
     "data": {
      "image/png": "[encoded data removed]",
      "text/plain": [
       "<Figure size 2000x500 with 4 Axes>"
      ]
     },
     "metadata": {},
     "output_type": "display_data"
    }
   ],
   "source": [
    "seq = 'UAGUAGU'\n",
    "sequence_demo = df[df.sevenMer == seq].seq_spaced\n",
    "rka_for_show = df[df.sevenMer == seq].RKA_logplus1\n",
    "p = vectorize_layer(sequence_demo)\n",
    "result = model(p)\n",
    "att = model.layers[1].get_attention()['attentions_1'][0]\n",
    "matmul_qk_s = model.layers[1].get_matmul_qks()['matmul_qk_1'][0]\n",
    "R = sequence_demo.str.split(\" \")\n",
    "\n",
    "plot_attention_head(R,matmul_qk_s, num_heads)\n",
    "print('sequence: ', sequence_demo.to_numpy())\n",
    "print(f'predicted RKA: {result.numpy()}, real RKA {rka_for_show}')\n"
   ]
  },
  {
   "cell_type": "code",
   "execution_count": 47,
   "id": "c609e6a6",
   "metadata": {},
   "outputs": [
    {
     "name": "stdout",
     "output_type": "stream",
     "text": [
      "head0: 0.4937060475349426\n",
      "head0: 0.000597791513428092\n",
      "head1: 0.7619814872741699\n",
      "head1: 0.006309149786829948\n",
      "head2: 0.5698340535163879\n",
      "head2: 0.00015956925926730037\n",
      "sequence:  ['U A G U A G U']\n",
      "predicted RKA: 0.6429065465927124, real RKA 13003    0.782336\n",
      "Name: RKA_logplus1, dtype: float64\n"
     ]
    },
    {
     "data": {
      "image/png": "[encoded data removed]",
      "text/plain": [
       "<Figure size 2000x500 with 4 Axes>"
      ]
     },
     "metadata": {},
     "output_type": "display_data"
    }
   ],
   "source": [
    "seq = 'UAGUAGU'\n",
    "sequence_demo = df[df.sevenMer == seq].seq_spaced\n",
    "rka_for_show = df[df.sevenMer == seq].RKA_logplus1\n",
    "p = vectorize_layer(sequence_demo)\n",
    "result = model(p)\n",
    "att = model.layers[1].get_attention()['attentions_1'][0]\n",
    "R = sequence_demo.str.split(\" \")\n",
    "\n",
    "plot_attention_head(R,att, num_heads)\n",
    "print('sequence: ', sequence_demo.to_numpy())\n",
    "print(f'predicted RKA: {result.numpy()}, real RKA {rka_for_show}')"
   ]
  },
  {
   "cell_type": "markdown",
   "id": "36b54b3d",
   "metadata": {},
   "source": [
    "## Verify the predicted result"
   ]
  },
  {
   "cell_type": "code",
   "execution_count": 48,
   "id": "585e15f1",
   "metadata": {},
   "outputs": [
    {
     "name": "stdout",
     "output_type": "stream",
     "text": [
      "51/51 [==============================] - 0s 1ms/step\n"
     ]
    },
    {
     "name": "stderr",
     "output_type": "stream",
     "text": [
      "2023-11-15 13:02:22.160526: I tensorflow/core/common_runtime/executor.cc:1197] [/device:CPU:0] (DEBUG INFO) Executor start aborting (this does not indicate an error and you can ignore this message): INVALID_ARGUMENT: You must feed a value for placeholder tensor 'Placeholder/_0' with dtype int64 and shape [5100,7]\n",
      "\t [[{{node Placeholder/_0}}]]\n"
     ]
    },
    {
     "data": {
      "text/plain": [
       "(5100,)"
      ]
     },
     "execution_count": 48,
     "metadata": {},
     "output_type": "execute_result"
    }
   ],
   "source": [
    "result = model.predict(x_test_database.batch(100))\n",
    "result.shape"
   ]
  },
  {
   "cell_type": "code",
   "execution_count": 49,
   "id": "bfc33748",
   "metadata": {},
   "outputs": [
    {
     "data": {
      "text/plain": [
       "<Axes: xlabel='RKA_logplus1'>"
      ]
     },
     "execution_count": 49,
     "metadata": {},
     "output_type": "execute_result"
    },
    {
     "data": {
      "image/png": "[encoded data removed]",
      "text/plain": [
       "<Figure size 600x500 with 1 Axes>"
      ]
     },
     "metadata": {},
     "output_type": "display_data"
    }
   ],
   "source": [
    "plt.rcParams[\"figure.figsize\"] = (6,5)\n",
    "sns.scatterplot(x=y_test, y=result)"
   ]
  },
  {
   "cell_type": "code",
   "execution_count": 50,
   "id": "07484671",
   "metadata": {},
   "outputs": [
    {
     "data": {
      "text/plain": [
       "0.6129530803476695"
      ]
     },
     "execution_count": 50,
     "metadata": {},
     "output_type": "execute_result"
    }
   ],
   "source": [
    "# Calculate R^2\n",
    "from sklearn.metrics import r2_score\n",
    "r2_score(y_test, result)"
   ]
  },
  {
   "cell_type": "code",
   "execution_count": 51,
   "id": "45e4ab20",
   "metadata": {},
   "outputs": [
    {
     "data": {
      "text/plain": [
       "<Axes: xlabel='RKA_logplus1', ylabel='Count'>"
      ]
     },
     "execution_count": 51,
     "metadata": {},
     "output_type": "execute_result"
    },
    {
     "data": {
      "image/png": "[encoded data removed]",
      "text/plain": [
       "<Figure size 600x500 with 1 Axes>"
      ]
     },
     "metadata": {},
     "output_type": "display_data"
    },
    {
     "ename": "",
     "evalue": "",
     "output_type": "error",
     "traceback": [
      "\u001b[1;31mThe Kernel crashed while executing code in the the current cell or a previous cell. Please review the code in the cell(s) to identify a possible cause of the failure. Click <a href='https://aka.ms/vscodeJupyterKernelCrash'>here</a> for more info. View Jupyter <a href='command:jupyter.viewOutput'>log</a> for further details."
     ]
    }
   ],
   "source": [
    "sns.histplot(y_test, color = \"orange\")\n",
    "sns.histplot(result, color = \"blue\")\n",
    "# # 绘制y_test和result的cdf曲线图\n",
    "# sns.kdeplot(y_test, cumulative=True)\n",
    "# sns.kdeplot(result, cumulative=True)\n"
   ]
  }
 ],
 "metadata": {
  "interpreter": {
   "hash": "43609d96788f9f207c5e22c650b4a13ebb7a351aa95d515be949d18331f6c071"
  },
  "kernelspec": {
   "display_name": "Python 3 (ipykernel)",
   "language": "python",
   "name": "python3"
  },
  "language_info": {
   "codemirror_mode": {
    "name": "ipython",
    "version": 3
   },
   "file_extension": ".py",
   "mimetype": "text/x-python",
   "name": "python",
   "nbconvert_exporter": "python",
   "pygments_lexer": "ipython3",
   "version": "3.8.16"
  }
 },
 "nbformat": 4,
 "nbformat_minor": 5
}
