{
 "cells": [
  {
   "cell_type": "markdown",
   "id": "b0aa43a3",
   "metadata": {},
   "source": [
    "# Apply Encoder of Transformer Model (Self Attention) to Explore RNA-Protein Binding"
   ]
  },
  {
   "cell_type": "code",
   "execution_count": 25,
   "id": "febe31d0-34ea-4d56-8394-e46f02165475",
   "metadata": {},
   "outputs": [],
   "source": [
    "import pandas as pd\n",
    "import tensorflow as tf\n",
    "from keras import layers\n",
    "import tensorflow_addons as tfa\n",
    "import numpy as np\n",
    "import matplotlib.pyplot as plt\n",
    "import seaborn as sns\n",
    "from sklearn.model_selection import train_test_split\n",
    "from sklearn.preprocessing import MinMaxScaler, Normalizer, KBinsDiscretizer\n",
    "from sklearn.pipeline import Pipeline, make_pipeline\n",
    "import datetime\n",
    "\n",
    "# ignore warnings\n",
    "import warnings\n",
    "warnings.filterwarnings('ignore')\n",
    "tf.get_logger().setLevel('ERROR')"
   ]
  },
  {
   "cell_type": "markdown",
   "id": "33a93be1",
   "metadata": {},
   "source": []
  },
  {
   "cell_type": "markdown",
   "id": "cad2fbca",
   "metadata": {},
   "source": [
    "## Data preparation"
   ]
  },
  {
   "cell_type": "code",
   "execution_count": 26,
   "id": "3f86cc08-c411-4ce1-a04d-c82e7a7558f9",
   "metadata": {},
   "outputs": [
    {
     "data": {
      "text/html": [
       "<div>\n",
       "<style scoped>\n",
       "    .dataframe tbody tr th:only-of-type {\n",
       "        vertical-align: middle;\n",
       "    }\n",
       "\n",
       "    .dataframe tbody tr th {\n",
       "        vertical-align: top;\n",
       "    }\n",
       "\n",
       "    .dataframe thead th {\n",
       "        text-align: right;\n",
       "    }\n",
       "</style>\n",
       "<table border=\"1\" class=\"dataframe\">\n",
       "  <thead>\n",
       "    <tr style=\"text-align: right;\">\n",
       "      <th></th>\n",
       "      <th>Sequence</th>\n",
       "      <th>Structure</th>\n",
       "      <th>MFE</th>\n",
       "      <th>K</th>\n",
       "      <th>KA</th>\n",
       "      <th>RKA</th>\n",
       "      <th>Qc</th>\n",
       "      <th>sevenMer</th>\n",
       "    </tr>\n",
       "  </thead>\n",
       "  <tbody>\n",
       "    <tr>\n",
       "      <th>0</th>\n",
       "      <td>GGAUCCAUUCAAAAAAAGAACGGAUCC</td>\n",
       "      <td>((((((.(((.......))).))))))</td>\n",
       "      <td>-10.5</td>\n",
       "      <td>4.971544</td>\n",
       "      <td>0.201145</td>\n",
       "      <td>0.395847</td>\n",
       "      <td>0</td>\n",
       "      <td>AAAAAAA</td>\n",
       "    </tr>\n",
       "    <tr>\n",
       "      <th>1</th>\n",
       "      <td>GGAUCCAUUCAAAAAACGAACGGAUCC</td>\n",
       "      <td>((((((.(((.......))).))))))</td>\n",
       "      <td>-10.5</td>\n",
       "      <td>4.514383</td>\n",
       "      <td>0.221514</td>\n",
       "      <td>0.435934</td>\n",
       "      <td>0</td>\n",
       "      <td>AAAAAAC</td>\n",
       "    </tr>\n",
       "    <tr>\n",
       "      <th>2</th>\n",
       "      <td>GGAUCCAUUCAAAAAAGGAACGGAUCC</td>\n",
       "      <td>((((((.(((.......))).))))))</td>\n",
       "      <td>-10.4</td>\n",
       "      <td>3.609146</td>\n",
       "      <td>0.277074</td>\n",
       "      <td>0.545273</td>\n",
       "      <td>0</td>\n",
       "      <td>AAAAAAG</td>\n",
       "    </tr>\n",
       "    <tr>\n",
       "      <th>3</th>\n",
       "      <td>GGAUCCAUUCAAAAAAUGAACGGAUCC</td>\n",
       "      <td>((((((.((((.....)))).))))))</td>\n",
       "      <td>-11.7</td>\n",
       "      <td>6.607685</td>\n",
       "      <td>0.151339</td>\n",
       "      <td>0.297831</td>\n",
       "      <td>0</td>\n",
       "      <td>AAAAAAU</td>\n",
       "    </tr>\n",
       "    <tr>\n",
       "      <th>4</th>\n",
       "      <td>GGAUCCAUUCAAAAACAGAACGGAUCC</td>\n",
       "      <td>((((((.(((.......))).))))))</td>\n",
       "      <td>-10.5</td>\n",
       "      <td>3.221327</td>\n",
       "      <td>0.310431</td>\n",
       "      <td>0.610919</td>\n",
       "      <td>0</td>\n",
       "      <td>AAAAACA</td>\n",
       "    </tr>\n",
       "  </tbody>\n",
       "</table>\n",
       "</div>"
      ],
      "text/plain": [
       "                      Sequence                    Structure   MFE         K  \\\n",
       "0  GGAUCCAUUCAAAAAAAGAACGGAUCC  ((((((.(((.......))).)))))) -10.5  4.971544   \n",
       "1  GGAUCCAUUCAAAAAACGAACGGAUCC  ((((((.(((.......))).)))))) -10.5  4.514383   \n",
       "2  GGAUCCAUUCAAAAAAGGAACGGAUCC  ((((((.(((.......))).)))))) -10.4  3.609146   \n",
       "3  GGAUCCAUUCAAAAAAUGAACGGAUCC  ((((((.((((.....)))).)))))) -11.7  6.607685   \n",
       "4  GGAUCCAUUCAAAAACAGAACGGAUCC  ((((((.(((.......))).)))))) -10.5  3.221327   \n",
       "\n",
       "         KA       RKA  Qc sevenMer  \n",
       "0  0.201145  0.395847   0  AAAAAAA  \n",
       "1  0.221514  0.435934   0  AAAAAAC  \n",
       "2  0.277074  0.545273   0  AAAAAAG  \n",
       "3  0.151339  0.297831   0  AAAAAAU  \n",
       "4  0.310431  0.610919   0  AAAAACA  "
      ]
     },
     "execution_count": 26,
     "metadata": {},
     "output_type": "execute_result"
    }
   ],
   "source": [
    "df_preprocess = pd.read_csv(\"data/Result_Structure.csv\")\n",
    "df = df_preprocess[df_preprocess[\"Qc\"]!=1]\n",
    "df.head()"
   ]
  },
  {
   "cell_type": "markdown",
   "id": "6d009b3a",
   "metadata": {},
   "source": [
    "## Set hyper parameters"
   ]
  },
  {
   "cell_type": "code",
   "execution_count": 27,
   "id": "09d15ca1",
   "metadata": {},
   "outputs": [],
   "source": [
    "seq_length=7\n",
    "num_layers=1\n",
    "d_model=9\n",
    "num_heads=3\n",
    "dff=64"
   ]
  },
  {
   "cell_type": "markdown",
   "id": "b5aa0130",
   "metadata": {},
   "source": [
    "## Functions to handle the RNA Inputs"
   ]
  },
  {
   "cell_type": "code",
   "execution_count": 28,
   "id": "6beb6b4e-b7bc-4e30-b047-71a74f098685",
   "metadata": {},
   "outputs": [],
   "source": [
    "def cutWord(x, window=1, length = seq_length):\n",
    "    seq2word = []\n",
    "    for i in range(length):\n",
    "        seq2word.append(x[i*window:i*window+window])\n",
    "    return \" \".join(seq2word)\n",
    "\n",
    "def RKA_bin(x):\n",
    "    if x >= 0.8:\n",
    "        return(1)\n",
    "    else:\n",
    "        return(0)\n",
    "\n",
    "def MFE_bin(x):\n",
    "    if x >= -14.:\n",
    "        return(1)\n",
    "    else:\n",
    "        return(0)"
   ]
  },
  {
   "cell_type": "markdown",
   "id": "2fdcebc1",
   "metadata": {},
   "source": [
    "## Normalization"
   ]
  },
  {
   "cell_type": "code",
   "execution_count": 29,
   "id": "f50dce0e",
   "metadata": {},
   "outputs": [
    {
     "name": "stdout",
     "output_type": "stream",
     "text": [
      "MinMaxScaler()\n"
     ]
    }
   ],
   "source": [
    "from sklearn.preprocessing import MinMaxScaler\n",
    "scaler = MinMaxScaler()\n",
    "print(scaler.fit(df[[\"RKA\"]]))\n",
    "\n",
    "df[\"RKA_norm\"] = scaler.transform(df[[\"RKA\"]])\n",
    "df[[\"RKA_logplus1\"]] = df[[\"RKA\"]].apply(lambda x: np.log(1+x))"
   ]
  },
  {
   "cell_type": "code",
   "execution_count": 30,
   "id": "c20b9904",
   "metadata": {},
   "outputs": [
    {
     "data": {
      "text/plain": [
       "<Axes: ylabel='Count'>"
      ]
     },
     "execution_count": 30,
     "metadata": {},
     "output_type": "execute_result"
    },
    {
     "data": {
      "image/png": "[encoded data removed]",
      "text/plain": [
       "<Figure size 640x480 with 1 Axes>"
      ]
     },
     "metadata": {},
     "output_type": "display_data"
    }
   ],
   "source": [
    "sns.histplot(df[[\"RKA_logplus1\"]])"
   ]
  },
  {
   "cell_type": "markdown",
   "id": "71ae9562",
   "metadata": {},
   "source": [
    "## Create dataset for Tensorflow model"
   ]
  },
  {
   "cell_type": "code",
   "execution_count": 31,
   "id": "18820a02-89ad-45a1-8de1-44bb348c6fdb",
   "metadata": {},
   "outputs": [],
   "source": [
    "df[\"RKA_level\"] = df.RKA.apply(RKA_bin)\n",
    "df[\"MFE_level\"] = df.RKA.apply(RKA_bin)\n",
    "target = df[[\"MFE_level\",\"RKA_level\"]].copy()\n",
    "sequences = df[[\"sevenMer\"]].copy()\n",
    "seq_spaced = sequences.applymap(cutWord)\n",
    "\n",
    "vectorize_layer = tf.keras.layers.TextVectorization(max_tokens=d_model, standardize='lower_and_strip_punctuation', split='whitespace', ngrams=None, output_mode='int')\n",
    "vectorize_layer.adapt(seq_spaced)\n",
    "\n",
    "#Divide to train and test\n",
    "X_train, X_test, y_train, y_test = train_test_split(seq_spaced, df[\"RKA_logplus1\"], test_size=0.33, random_state=42)\n",
    "#vec_seq = vectorize_layer(X_train)\n",
    "#seq_database = v\n",
    "all_vec_seq = vectorize_layer(X_train)\n",
    "all_vec_seq = tf.data.Dataset.from_tensor_slices(all_vec_seq)\n",
    "#target_database = tf.data.Dataset.from_tensor_slices(y_train)\n",
    "target_database = tf.data.Dataset.from_tensor_slices(y_train)\n",
    "x_test_database = vectorize_layer(X_test)\n",
    "x_test_database = tf.data.Dataset.from_tensor_slices(x_test_database)\n",
    "y_test_database = tf.data.Dataset.from_tensor_slices(y_test)\n"
   ]
  },
  {
   "cell_type": "code",
   "execution_count": 32,
   "id": "eeca1ef5",
   "metadata": {},
   "outputs": [],
   "source": [
    "#train_set = tf.data.Dataset.zip((seq_database, target_database))\n",
    "train_set = tf.data.Dataset.zip((all_vec_seq, target_database))\n",
    "test_dataset = tf.data.Dataset.zip((x_test_database, y_test_database))\n",
    "real_train_set = train_set.batch(50).shuffle(50)\n",
    "test_dataset = test_dataset.batch(50)\n",
    "#next(iter(train_set.batch(10)))"
   ]
  },
  {
   "cell_type": "markdown",
   "id": "93c63d37",
   "metadata": {},
   "source": [
    "## Build Encoder of Transformer model\n",
    "\n",
    "### Self attention"
   ]
  },
  {
   "cell_type": "code",
   "execution_count": 33,
   "id": "b7486e47-19c2-4711-b10d-e75ccf19e07a",
   "metadata": {},
   "outputs": [],
   "source": [
    "def scaled_dot_product_attention(q, k, v, mask=None):\n",
    "    matmul_qk = tf.matmul(q, k, transpose_b=True) # Shape = (..., seq_len_q, seq_len_k)\n",
    "    # scale matmul_qk\n",
    "    dk = tf.cast(tf.shape(k)[-1], tf.float32)\n",
    "    scaled_attention_logits = matmul_qk / tf.math.sqrt(dk)\n",
    "\n",
    "    # add the mask to the scaled tensor.\n",
    "    if mask is not None:\n",
    "        scaled_attention_logits += (mask * -1e9)\n",
    "\n",
    "    # softmax is normalized on the last axis (seq_len_k) so that the scores\n",
    "    # add up to 1.\n",
    "    attention_weights = tf.nn.softmax(scaled_attention_logits, axis=-1)  # (..., seq_len_q, seq_len_k)\n",
    "\n",
    "    # calculate matmul_qk_v\n",
    "    output = tf.matmul(attention_weights, v)  # (..., seq_len_q, depth_v)\n",
    "\n",
    "    return output, attention_weights, matmul_qk\n",
    "\n",
    "#create multi-head attention layer\n",
    "class MultiHeadAttention(tf.keras.layers.Layer):\n",
    "    def __init__(self, d_model, num_heads):\n",
    "        super(MultiHeadAttention, self).__init__()\n",
    "        self.num_heads = num_heads\n",
    "        self.d_model = d_model\n",
    "\n",
    "        #Because for multi-head, head number * depth = multi-head\n",
    "        assert d_model % self.num_heads == 0\n",
    "        self.depth = d_model // self.num_heads\n",
    "\n",
    "        #Set layers for q, k, v\n",
    "        self.wq = tf.keras.layers.Dense(d_model)\n",
    "        self.wk = tf.keras.layers.Dense(d_model)\n",
    "        self.wv = tf.keras.layers.Dense(d_model)\n",
    "\n",
    "        self.dense = tf.keras.layers.Dense(d_model)\n",
    "    \n",
    "    def split_heads(self, x, batch_size):\n",
    "        \"\"\"Split the last dimension into (num_heads, depth).\n",
    "        Transpose the result such that the shape is (batch_size, num_heads, seq_len, depth)\n",
    "        \"\"\"\n",
    "        x = tf.reshape(x, (batch_size, -1, self.num_heads, self.depth)) \n",
    "        return tf.transpose(x, perm=[0, 2, 1, 3]) # shape = (batch_size, num_heads, seq_len, depth)\n",
    "\n",
    "    def call(self, v, k, q, mask):\n",
    "        batch_size = tf.shape(q)[0]\n",
    "        q = self.wq(q)  # (batch_size, seq_len, d_model)\n",
    "        k = self.wk(k)  # (batch_size, seq_len, d_model)\n",
    "        v = self.wv(v)  # (batch_size, seq_len, d_model)\n",
    "\n",
    "        q = self.split_heads(q, batch_size)  # (batch_size, num_heads, seq_len_q, depth)\n",
    "        k = self.split_heads(k, batch_size)  # (batch_size, num_heads, seq_len_k, depth)\n",
    "        v = self.split_heads(v, batch_size)  # (batch_size, num_heads, seq_len_v, depth)\n",
    "\n",
    "        # scaled_attention.shape == (batch_size, num_heads, seq_len_q, depth)\n",
    "        # attention_weights.shape == (batch_size, num_heads, seq_len_q, seq_len_k)\n",
    "        scaled_attention, attention_weights, matmul_qk= scaled_dot_product_attention(\n",
    "            q, k, v, mask)\n",
    "\n",
    "        scaled_attention = tf.transpose(scaled_attention, perm=[0, 2, 1, 3])  # (batch_size, seq_len_q, num_heads, depth)\n",
    "\n",
    "        concat_attention = tf.reshape(scaled_attention,\n",
    "                                  (batch_size, -1, self.d_model))  # (batch_size, seq_len_q, d_model)\n",
    "        output = self.dense(concat_attention)  # (batch_size, seq_len_q, d_model)\n",
    "\n",
    "        return output, attention_weights, matmul_qk"
   ]
  },
  {
   "cell_type": "markdown",
   "id": "51930153",
   "metadata": {},
   "source": [
    "### Fully connected layer and Encoder layer"
   ]
  },
  {
   "cell_type": "code",
   "execution_count": 34,
   "id": "fd1738c8-b834-4375-bf81-bbe3f37cb92e",
   "metadata": {},
   "outputs": [],
   "source": [
    "def point_wise_feed_forward_network(d_model, dff):\n",
    "    return tf.keras.Sequential([\n",
    "        tf.keras.layers.Dense(dff, activation='relu'),  # (batch_size, seq_len, dff)\n",
    "        tf.keras.layers.Dense(d_model)  # (batch_size, seq_len, d_model)\n",
    "        ])\n",
    "        \n",
    "class EncoderLayer(tf.keras.layers.Layer):\n",
    "    def __init__(self, d_model, num_heads, dff, rate=0.1):\n",
    "        super(EncoderLayer, self).__init__()\n",
    "\n",
    "        #define layers\n",
    "        self.mha = MultiHeadAttention(d_model, num_heads)\n",
    "        self.ffn = point_wise_feed_forward_network(d_model, dff)\n",
    "\n",
    "        self.layernorm1 = tf.keras.layers.LayerNormalization(epsilon=1e-6)\n",
    "        self.layernorm2 = tf.keras.layers.LayerNormalization(epsilon=1e-6)\n",
    "\n",
    "        self.dropout1 = tf.keras.layers.Dropout(rate)\n",
    "        self.dropout2 = tf.keras.layers.Dropout(rate)\n",
    "\n",
    "    def call(self, x, training, mask=None):\n",
    "\n",
    "        attn_output, attn_weight, matmul_qk = self.mha(x, x, x, mask)  # (batch_size, input_seq_len, d_model)\n",
    "        attn_output = self.dropout1(attn_output, training=training)\n",
    "        out1 = self.layernorm1(x + attn_output)  # (batch_size, input_seq_len, d_model)\n",
    "\n",
    "        ffn_output = self.ffn(out1)  # (batch_size, input_seq_len, d_model)\n",
    "        ffn_output = self.dropout2(ffn_output, training=training)\n",
    "        out2 = self.layernorm2(out1 + ffn_output)  # (batch_size, input_seq_len, d_model)\n",
    "\n",
    "        return out2, attn_weight, matmul_qk\n"
   ]
  },
  {
   "cell_type": "markdown",
   "id": "3a8ab76d",
   "metadata": {},
   "source": [
    "### Position Encoding"
   ]
  },
  {
   "cell_type": "code",
   "execution_count": 35,
   "id": "b327ace7",
   "metadata": {},
   "outputs": [],
   "source": [
    "def get_angles(pos, i, d_model):\n",
    "    angle_rate = 1/np.power(10000, (2*(i/2))/np.float32(d_model))\n",
    "    return pos*angle_rate\n",
    "\n",
    "def positional_encoding(position, d_model):\n",
    "    angle_rads = get_angles(np.arange(position)[:, np.newaxis],\n",
    "                            np.arange(d_model)[np.newaxis, :]\n",
    "                            ,d_model)\n",
    "    # apply sin to even indices in the array; 2i\n",
    "    angle_rads[:, 0::2] = np.sin(angle_rads[:, 0::2])\n",
    "    # apply cos to odd indices in the array; 2i+1\n",
    "    angle_rads[:, 1::2] = np.cos(angle_rads[:, 1::2])\n",
    "    pos_encoding = angle_rads[np.newaxis, ...]\n",
    "    return tf.cast(pos_encoding, dtype=tf.float32)"
   ]
  },
  {
   "cell_type": "code",
   "execution_count": 36,
   "id": "163b9512",
   "metadata": {},
   "outputs": [
    {
     "data": {
      "text/plain": [
       "<tf.Tensor: shape=(1, 1, 9), dtype=float32, numpy=array([[[0., 1., 0., 1., 0., 1., 0., 1., 0.]]], dtype=float32)>"
      ]
     },
     "execution_count": 36,
     "metadata": {},
     "output_type": "execute_result"
    }
   ],
   "source": [
    "positional_encoding(1, 9)"
   ]
  },
  {
   "cell_type": "markdown",
   "id": "c258082e",
   "metadata": {},
   "source": [
    "### Encoder"
   ]
  },
  {
   "cell_type": "code",
   "execution_count": 37,
   "id": "0e4b9d93-4b89-4f58-9b9e-5d2dbaa5164c",
   "metadata": {},
   "outputs": [],
   "source": [
    "class Encoder(tf.keras.layers.Layer):\n",
    "    def __init__(self, num_layers, d_model, num_heads, dff, input_vocab_size,\n",
    "                 maximum_position_encoding, rate=0.1):\n",
    "        super(Encoder, self).__init__()\n",
    "        self.d_model = d_model\n",
    "        self.num_layers = num_layers #how many encoder layers\n",
    "        self.embedding = tf.keras.layers.Embedding(input_vocab_size, d_model)\n",
    "        self.pos_encoding = positional_encoding(maximum_position_encoding, d_model)\n",
    "        self.enc_layers = [EncoderLayer(d_model, num_heads, dff, rate) for _ in range(num_layers)]\n",
    "        self.dropout = tf.keras.layers.Dropout(rate)\n",
    "        self.attention_weights = {}\n",
    "        self.matmul_qks = {}\n",
    "        \n",
    "    def call(self, x, training, mask=None):\n",
    "        #attention_weights = {}\n",
    "        #encoding and position encoding\n",
    "        seq_len = tf.shape(x)[1]\n",
    "        x = self.embedding(x) # (batch_size, input_seq_len, d_model)\n",
    "        x *= tf.math.sqrt(tf.cast(self.d_model, tf.float32))\n",
    "        \n",
    "        \n",
    "        x += self.pos_encoding[:, :seq_len, :]\n",
    "\n",
    "        x = self.dropout(x, training=training)\n",
    "\n",
    "        for i in range(self.num_layers):\n",
    "            x, block, matmul_qk = self.enc_layers[i](x, training, mask)\n",
    "            self.attention_weights[f'attentions_{i+1}'] = block\n",
    "            self.matmul_qks[f'matmul_qk_{i+1}'] = matmul_qk\n",
    "            \n",
    "        #attention_weights[f'decoder_layer{i+1}_block'] = block\n",
    "        return x, block # (batch_size, input_seq_len, d_model)\n",
    "    \n",
    "    def get_attention(self):\n",
    "        return self.attention_weights\n",
    "    def get_matmul_qks(self):\n",
    "        return self.matmul_qks"
   ]
  },
  {
   "cell_type": "markdown",
   "id": "4284c0a5",
   "metadata": {},
   "source": [
    "### Test of Encoder"
   ]
  },
  {
   "cell_type": "code",
   "execution_count": 38,
   "id": "405a68b4-b50a-443a-8a4d-0092b80bfe07",
   "metadata": {},
   "outputs": [
    {
     "data": {
      "text/plain": [
       "TensorShape([7, 7, 5])"
      ]
     },
     "execution_count": 38,
     "metadata": {},
     "output_type": "execute_result"
    }
   ],
   "source": [
    "sample_encoder = Encoder(num_layers=2, d_model=5, num_heads=1,\n",
    "                         dff=dff, input_vocab_size=10,\n",
    "                         maximum_position_encoding=24)\n",
    "temp_input = vectorize_layer(seq_spaced)\n",
    "#temp_input = tf.random.uniform((3, 24), dtype=tf.int64, minval=0, maxval=200)\n",
    "sample_encoder_output = sample_encoder(temp_input[22:29], training=False, mask=None)\n",
    "sample_encoder_output[0].shape"
   ]
  },
  {
   "cell_type": "markdown",
   "id": "f4ced629",
   "metadata": {},
   "source": [
    "## Create model"
   ]
  },
  {
   "cell_type": "code",
   "execution_count": 39,
   "id": "7a21f309-13a3-42f8-9ffb-870055dd21d1",
   "metadata": {},
   "outputs": [],
   "source": [
    "def create_model(seq_length, num_layers, d_model, num_heads, dff, input_vocab_size, maximum_position_encoding, rate=0.1):\n",
    "    input = tf.keras.Input(shape=(seq_length,))\n",
    "    x , aws= Encoder(num_layers, d_model, num_heads, dff,\n",
    "                input_vocab_size, maximum_position_encoding, rate=0.1)(input)\n",
    "    x = tf.keras.layers.Reshape((seq_length*d_model,))(x)\n",
    "    x = tf.keras.layers.Dense(seq_length, activation='relu')(x)\n",
    "    x = tf.keras.layers.Dense(1)(x)\n",
    "    output = tf.squeeze(x)\n",
    "    \n",
    "    return tf.keras.Model(inputs=input, outputs=output)\n",
    "    "
   ]
  },
  {
   "cell_type": "code",
   "execution_count": 40,
   "id": "4ca8b704-a4a7-49be-b52a-bad9eed97073",
   "metadata": {},
   "outputs": [
    {
     "data": {
      "text/plain": [
       "<tf.Tensor: shape=(), dtype=float32, numpy=1.5694194>"
      ]
     },
     "execution_count": 40,
     "metadata": {},
     "output_type": "execute_result"
    }
   ],
   "source": [
    "model = create_model(seq_length=seq_length, num_layers= num_layers, d_model=d_model, num_heads=num_heads,\n",
    "                         dff=dff, input_vocab_size=10,\n",
    "                         maximum_position_encoding=7)\n",
    "p = vectorize_layer(seq_spaced.iloc[17])\n",
    "model(p)"
   ]
  },
  {
   "cell_type": "code",
   "execution_count": 41,
   "id": "7b453f05",
   "metadata": {},
   "outputs": [
    {
     "name": "stdout",
     "output_type": "stream",
     "text": [
      "Model: \"model_1\"\n",
      "_________________________________________________________________\n",
      " Layer (type)                Output Shape              Param #   \n",
      "=================================================================\n",
      " input_2 (InputLayer)        [(None, 7)]               0         \n",
      "                                                                 \n",
      " encoder_3 (Encoder)         ((None, 7, 9),            1711      \n",
      "                              (None, 3, None, None))             \n",
      "                                                                 \n",
      " reshape_1 (Reshape)         (None, 63)                0         \n",
      "                                                                 \n",
      " dense_38 (Dense)            (None, 7)                 448       \n",
      "                                                                 \n",
      " dense_39 (Dense)            (None, 1)                 8         \n",
      "                                                                 \n",
      " tf.compat.v1.squeeze_1 (TFO  None                     0         \n",
      " pLambda)                                                        \n",
      "                                                                 \n",
      "=================================================================\n",
      "Total params: 2,167\n",
      "Trainable params: 2,167\n",
      "Non-trainable params: 0\n",
      "_________________________________________________________________\n"
     ]
    }
   ],
   "source": [
    "model.summary()"
   ]
  },
  {
   "cell_type": "markdown",
   "id": "5367f182",
   "metadata": {},
   "source": [
    "## Test our model to see if it can work and get the attention matrix"
   ]
  },
  {
   "cell_type": "code",
   "execution_count": 42,
   "id": "3ee88c5d-55dc-4a82-94ab-c8c12a161840",
   "metadata": {},
   "outputs": [
    {
     "name": "stderr",
     "output_type": "stream",
     "text": [
      "2023-10-28 22:26:34.700340: I tensorflow/core/common_runtime/executor.cc:1197] [/device:CPU:0] (DEBUG INFO) Executor start aborting (this does not indicate an error and you can ignore this message): INVALID_ARGUMENT: You must feed a value for placeholder tensor 'Placeholder/_2' with dtype double and shape [10354]\n",
      "\t [[{{node Placeholder/_2}}]]\n",
      "2023-10-28 22:26:34.700460: I tensorflow/core/common_runtime/executor.cc:1197] [/device:CPU:0] (DEBUG INFO) Executor start aborting (this does not indicate an error and you can ignore this message): INVALID_ARGUMENT: You must feed a value for placeholder tensor 'Placeholder/_2' with dtype double and shape [10354]\n",
      "\t [[{{node Placeholder/_2}}]]\n"
     ]
    },
    {
     "data": {
      "text/plain": [
       "<Axes: >"
      ]
     },
     "execution_count": 42,
     "metadata": {},
     "output_type": "execute_result"
    },
    {
     "data": {
      "image/png": "[encoded data removed]",
      "text/plain": [
       "<Figure size 640x480 with 2 Axes>"
      ]
     },
     "metadata": {},
     "output_type": "display_data"
    }
   ],
   "source": [
    "for i in real_train_set.take(1):\n",
    "    q = model(i[0])\n",
    "att = model.layers[1].get_attention()['attentions_1']\n",
    "qk = model.layers[1].get_matmul_qks()['matmul_qk_1']\n",
    "#forheat = tf.squeeze(att).numpy()\n",
    "sns.heatmap(qk[(0,0)])"
   ]
  },
  {
   "cell_type": "markdown",
   "id": "bc7cedcf",
   "metadata": {},
   "source": [
    "## Custom Schedule/ Accuracy/ Loss functions"
   ]
  },
  {
   "cell_type": "code",
   "execution_count": 43,
   "id": "29255630",
   "metadata": {},
   "outputs": [],
   "source": [
    "class CustomSchedule(tf.keras.optimizers.schedules.LearningRateSchedule):\n",
    "    def __init__(self, d_model, warmup_steps=4000):\n",
    "        super(CustomSchedule, self).__init__()\n",
    "        self.d_model = d_model\n",
    "        self.d_model = tf.cast(self.d_model, tf.float32)\n",
    "        self.warmup_steps = warmup_steps\n",
    "    \n",
    "    def __call__(self, step):\n",
    "        step = tf.cast(step, tf.float32)\n",
    "        arg1 = tf.math.rsqrt(step)\n",
    "        arg2 = step * (self.warmup_steps ** -1.5)\n",
    "        return tf.math.rsqrt(self.d_model) * tf.math.minimum(arg1, arg2)\n",
    "\n",
    "learning_rate = CustomSchedule(d_model)\n",
    "\n",
    "optimizer = tf.keras.optimizers.Adam(learning_rate, beta_1=0.9, beta_2=0.98,\n",
    "                                     epsilon=1e-9)\n",
    "#optimizer = tf.keras.optimizers.Adam()\n",
    "\n",
    "#loss_object = tf.keras.losses.SparseCategoricalCrossentropy(from_logits=False, reduction='none')\n",
    "loss_object = loss=tf.keras.losses.MeanAbsoluteError()\n",
    "\n",
    "def loss_function(real, pred):\n",
    "    #mask = tf.math.logical_not(tf.math.equal(real, 0))\n",
    "    loss_ = loss_object(real, pred)\n",
    "    #mask = tf.cast(mask, dtype=loss_.dtype)\n",
    "    #loss_ *= mask\n",
    "    #return tf.reduce_sum(loss_)/tf.reduce_sum(mask)\n",
    "    return tf.reduce_sum(loss_)\n",
    "\n",
    "\n",
    "def accuracy_function(real, pred):\n",
    "    accuracies = loss_object(real, pred)\n",
    "    #accuracies = tf.equal(real, tf.argmax(pred, axis=2))\n",
    "    #accuracies = tf.keras.losses.MeanAbsoluteError(real, pred)\n",
    "    #mask = tf.math.logical_not(tf.math.equal(real, 0))\n",
    "    #accuracies = tf.math.logical_and(mask, accuracies)\n",
    "    #accuracies = tf.cast(accuracies, dtype=tf.float32)\n",
    "    #mask = tf.cast(mask, dtype=tf.float32)\n",
    "    #return tf.reduce_sum(accuracies)/tf.reduce_sum(mask)\n",
    "    return tf.reduce_sum(accuracies)\n",
    "\n",
    "train_metric = tfa.metrics.r_square.RSquare()\n",
    "test_metric = tfa.metrics.r_square.RSquare()\n",
    "\n",
    "train_loss = tf.keras.metrics.Mean(name='train_loss')\n",
    "test_loss = tf.keras.metrics.Mean(name='test_loss')\n",
    "train_accuracy = tf.keras.metrics.Mean(name='train_accuracy')\n",
    "test_accuracy = tf.keras.metrics.Mean(name='test_accuracy')"
   ]
  },
  {
   "cell_type": "code",
   "execution_count": 44,
   "id": "d9f60aa4",
   "metadata": {},
   "outputs": [],
   "source": [
    "checkpoint_path = \"./checkpoints_64_21_pos/new\"\n",
    "\n",
    "ckpt = tf.train.Checkpoint(transformer=model,\n",
    "                           optimizer=optimizer)\n",
    "\n",
    "ckpt_manager = tf.train.CheckpointManager(ckpt, checkpoint_path, max_to_keep=5)\n",
    "\n",
    "# if a checkpoint exists, restore the latest checkpoint.\n",
    "if ckpt_manager.latest_checkpoint:\n",
    "  ckpt.restore(ckpt_manager.latest_checkpoint)\n",
    "  print('Latest checkpoint restored!!')"
   ]
  },
  {
   "attachments": {},
   "cell_type": "markdown",
   "id": "80d4085f",
   "metadata": {},
   "source": [
    "## Customized Train/Test steps\n",
    "\n",
    "If you face some type mismatch, please use pip install typeguard==2.13.3.\n",
    "typeguard 3.0.0 version was released recently that's the reason why it's not working.\n",
    "\n",
    "Source: https://stackoverflow.com/questions/75759597/typeerror-isinstance-arg-2-must-be-a-type-or-tuple-of-types-in-tensorflow-add"
   ]
  },
  {
   "cell_type": "code",
   "execution_count": 45,
   "id": "62b97135-299c-4559-8941-40c2c000a158",
   "metadata": {},
   "outputs": [],
   "source": [
    "# The @tf.function trace-compiles train_step into a TF graph for faster\n",
    "# execution. The function specializes to the precise shape of the argument\n",
    "# tensors. To avoid re-tracing due to the variable sequence lengths or variable\n",
    "# batch sizes (the last batch is smaller), use input_signature to specify\n",
    "# more generic shapes.\n",
    "\n",
    "#train_step_signature = [\n",
    "#    tf.TensorSpec(shape=(None, None), dtype=tf.int64),\n",
    "#    tf.TensorSpec(shape=(None), dtype=tf.int64),\n",
    "#]\n",
    "\n",
    "\n",
    "#@tf.function(input_signature=train_step_signature)\n",
    "def train_step(inp, tar):\n",
    "    #inp = inp\n",
    "    target = tar\n",
    "\n",
    "    with tf.GradientTape() as tape:\n",
    "        predictions = model(inp, training = True)\n",
    "        loss = loss_function(target, predictions)\n",
    "\n",
    "    gradients = tape.gradient(loss, model.trainable_variables)\n",
    "    optimizer.apply_gradients(zip(gradients, model.trainable_variables))\n",
    "    \n",
    "    train_loss(loss)\n",
    "\n",
    "    train_metric.update_state(target, predictions)\n",
    "    #result = metric.result()\n",
    "    #train_accuracy(result)\n",
    "    #train_accuracy(accuracy_function(target, predictions))\n",
    "    \n",
    "def test_step(model, inp, tar):\n",
    "    #inp = inp\n",
    "    target = tar\n",
    "    predictions = model(inp)\n",
    "    testloss = loss_function(tar, predictions)\n",
    "    test_loss(testloss)\n",
    "    test_metric.update_state(target, predictions)\n",
    "\n",
    "    #result = metric.result()\n",
    "    #test_accuracy(result)\n",
    "\n",
    "    #train_accuracy(accuracy_function(target, predictions))\n",
    "\n",
    "current_time = datetime.datetime.now().strftime(\"%Y%m%d-%H%M%S\")\n",
    "train_log_dir = 'logs/gradient_tape/' + current_time + '/train'\n",
    "test_log_dir = 'logs/gradient_tape/' + current_time + '/test'\n",
    "train_summary_writer = tf.summary.create_file_writer(train_log_dir)\n",
    "test_summary_writer = tf.summary.create_file_writer(test_log_dir)"
   ]
  },
  {
   "cell_type": "markdown",
   "id": "bc5c7f33",
   "metadata": {},
   "source": [
    "## Train loop"
   ]
  },
  {
   "cell_type": "code",
   "execution_count": 46,
   "id": "c180ff22-68d6-4461-91f9-6a784a977175",
   "metadata": {},
   "outputs": [
    {
     "name": "stderr",
     "output_type": "stream",
     "text": [
      "2023-10-28 22:26:34.808375: I tensorflow/core/common_runtime/executor.cc:1197] [/device:CPU:0] (DEBUG INFO) Executor start aborting (this does not indicate an error and you can ignore this message): INVALID_ARGUMENT: You must feed a value for placeholder tensor 'Placeholder/_2' with dtype double and shape [10354]\n",
      "\t [[{{node Placeholder/_2}}]]\n",
      "2023-10-28 22:26:34.808481: I tensorflow/core/common_runtime/executor.cc:1197] [/device:CPU:0] (DEBUG INFO) Executor start aborting (this does not indicate an error and you can ignore this message): INVALID_ARGUMENT: You must feed a value for placeholder tensor 'Placeholder/_2' with dtype double and shape [10354]\n",
      "\t [[{{node Placeholder/_2}}]]\n",
      "2023-10-28 22:26:34.844082: I tensorflow/compiler/xla/service/service.cc:169] XLA service 0x58f8a3c0 initialized for platform CUDA (this does not guarantee that XLA will be used). Devices:\n",
      "2023-10-28 22:26:34.844098: I tensorflow/compiler/xla/service/service.cc:177]   StreamExecutor device (0): NVIDIA RTX A5000, Compute Capability 8.6\n",
      "2023-10-28 22:26:34.846611: I tensorflow/compiler/mlir/tensorflow/utils/dump_mlir_util.cc:269] disabling MLIR crash reproducer, set env var `MLIR_CRASH_REPRODUCER_DIRECTORY` to enable.\n",
      "2023-10-28 22:26:34.921890: I tensorflow/compiler/xla/stream_executor/cuda/cuda_dnn.cc:424] Loaded cuDNN version 8700\n",
      "2023-10-28 22:26:34.991065: I ./tensorflow/compiler/jit/device_compiler.h:180] Compiled cluster using XLA!  This line is logged at most once for the lifetime of the process.\n"
     ]
    },
    {
     "name": "stdout",
     "output_type": "stream",
     "text": [
      "Epoch 1 Batch 0 Loss 0.9444 Accuracy -59.6927\n"
     ]
    },
    {
     "name": "stderr",
     "output_type": "stream",
     "text": [
      "2023-10-28 22:26:39.901022: I tensorflow/core/common_runtime/executor.cc:1197] [/device:CPU:0] (DEBUG INFO) Executor start aborting (this does not indicate an error and you can ignore this message): INVALID_ARGUMENT: You must feed a value for placeholder tensor 'Placeholder/_2' with dtype double and shape [5100]\n",
      "\t [[{{node Placeholder/_2}}]]\n"
     ]
    },
    {
     "name": "stdout",
     "output_type": "stream",
     "text": [
      "Epoch 1, Loss: 0.5041527152061462, Test Loss: 0.18258114159107208, Test R^2: -1.734424114227295\n",
      "Epoch 2 Batch 0 Loss 0.2390 Accuracy -22.2806\n",
      "Epoch 2, Loss: 0.1694345772266388, Test Loss: 0.1451597809791565, Test R^2: -0.8753006458282471\n",
      "Epoch 3 Batch 0 Loss 0.1230 Accuracy -11.9567\n",
      "Epoch 3, Loss: 0.11510036885738373, Test Loss: 0.1313028782606125, Test R^2: -0.5698368549346924\n",
      "Epoch 4 Batch 0 Loss 0.0881 Accuracy -8.0412\n",
      "Epoch 4, Loss: 0.10593315958976746, Test Loss: 0.12377320230007172, Test R^2: -0.4106006622314453\n",
      "Epoch 5 Batch 0 Loss 0.1123 Accuracy -6.0367\n",
      "Epoch 5, Loss: 0.10129901766777039, Test Loss: 0.11876802146434784, Test R^2: -0.30883312225341797\n",
      "Saving checkpoint for epoch 5 at ./checkpoints_64_21_pos/new/ckpt-1\n",
      "Epoch 5 Loss 0.1013 Accuracy -4.8250\n",
      "Time taken for 1 epoch: 4.29 secs\n",
      "\n",
      "Epoch 6 Batch 0 Loss 0.1077 Accuracy -4.8179\n",
      "Epoch 6, Loss: 0.09954614192247391, Test Loss: 0.11503239721059799, Test R^2: -0.22921538352966309\n",
      "Epoch 7 Batch 0 Loss 0.1213 Accuracy -4.0033\n",
      "Epoch 7, Loss: 0.09717358648777008, Test Loss: 0.11211749166250229, Test R^2: -0.1689680814743042\n",
      "Epoch 8 Batch 0 Loss 0.0905 Accuracy -3.4157\n",
      "Epoch 8, Loss: 0.09516659379005432, Test Loss: 0.10938795655965805, Test R^2: -0.11959528923034668\n",
      "Epoch 9 Batch 0 Loss 0.0818 Accuracy -2.9703\n",
      "Epoch 9, Loss: 0.09336045384407043, Test Loss: 0.10717295855283737, Test R^2: -0.07658052444458008\n",
      "Epoch 10 Batch 0 Loss 0.1054 Accuracy -2.6198\n",
      "Epoch 10, Loss: 0.09114782512187958, Test Loss: 0.10501651465892792, Test R^2: -0.039554476737976074\n",
      "Saving checkpoint for epoch 10 at ./checkpoints_64_21_pos/new/ckpt-2\n",
      "Epoch 10 Loss 0.0911 Accuracy -2.3394\n",
      "Time taken for 1 epoch: 4.24 secs\n",
      "\n",
      "Epoch 11 Batch 0 Loss 0.0966 Accuracy -2.3380\n",
      "Epoch 11, Loss: 0.08931339532136917, Test Loss: 0.1034974455833435, Test R^2: -0.015480875968933105\n",
      "Epoch 12 Batch 0 Loss 0.0882 Accuracy -2.1047\n",
      "Epoch 12, Loss: 0.0880381166934967, Test Loss: 0.10172043740749359, Test R^2: 0.016016364097595215\n",
      "Epoch 13 Batch 0 Loss 0.0764 Accuracy -1.9083\n",
      "Epoch 13, Loss: 0.08635183423757553, Test Loss: 0.10006538033485413, Test R^2: 0.044341444969177246\n",
      "Epoch 14 Batch 0 Loss 0.0943 Accuracy -1.7393\n",
      "Epoch 14, Loss: 0.08563094586133957, Test Loss: 0.0986444503068924, Test R^2: 0.0681910514831543\n",
      "Epoch 15 Batch 0 Loss 0.0866 Accuracy -1.5938\n",
      "Epoch 15, Loss: 0.08419863134622574, Test Loss: 0.09752271324396133, Test R^2: 0.08985000848770142\n",
      "Saving checkpoint for epoch 15 at ./checkpoints_64_21_pos/new/ckpt-3\n",
      "Epoch 15 Loss 0.0842 Accuracy -1.4674\n",
      "Time taken for 1 epoch: 4.27 secs\n",
      "\n",
      "Epoch 16 Batch 0 Loss 0.0782 Accuracy -1.4669\n",
      "Epoch 16, Loss: 0.08312752842903137, Test Loss: 0.09661531448364258, Test R^2: 0.10416430234909058\n",
      "Epoch 17 Batch 0 Loss 0.0964 Accuracy -1.3541\n",
      "Epoch 17, Loss: 0.08205472677946091, Test Loss: 0.09548088163137436, Test R^2: 0.12345016002655029\n",
      "Epoch 18 Batch 0 Loss 0.0746 Accuracy -1.2541\n",
      "Epoch 18, Loss: 0.08250035345554352, Test Loss: 0.09437598288059235, Test R^2: 0.14208859205245972\n",
      "Epoch 19 Batch 0 Loss 0.0882 Accuracy -1.1653\n",
      "Epoch 19, Loss: 0.0808611735701561, Test Loss: 0.09342524409294128, Test R^2: 0.15819978713989258\n",
      "Epoch 20 Batch 0 Loss 0.0685 Accuracy -1.0846\n",
      "Epoch 20, Loss: 0.07986807078123093, Test Loss: 0.09244859963655472, Test R^2: 0.17398488521575928\n",
      "Saving checkpoint for epoch 20 at ./checkpoints_64_21_pos/new/ckpt-4\n",
      "Epoch 20 Loss 0.0799 Accuracy -1.0115\n",
      "Time taken for 1 epoch: 4.35 secs\n",
      "\n",
      "Epoch 21 Batch 0 Loss 0.0910 Accuracy -1.0111\n",
      "Epoch 21, Loss: 0.07864710688591003, Test Loss: 0.09153015166521072, Test R^2: 0.1883031129837036\n",
      "Epoch 22 Batch 0 Loss 0.0790 Accuracy -0.9437\n",
      "Epoch 22, Loss: 0.07815349102020264, Test Loss: 0.09086934477090836, Test R^2: 0.19863617420196533\n",
      "Epoch 23 Batch 0 Loss 0.0944 Accuracy -0.8819\n",
      "Epoch 23, Loss: 0.07809556275606155, Test Loss: 0.0900614783167839, Test R^2: 0.21182787418365479\n",
      "Epoch 24 Batch 0 Loss 0.0745 Accuracy -0.8258\n",
      "Epoch 24, Loss: 0.07793779671192169, Test Loss: 0.0893792062997818, Test R^2: 0.22337210178375244\n",
      "Epoch 25 Batch 0 Loss 0.0893 Accuracy -0.7741\n",
      "Epoch 25, Loss: 0.07616138458251953, Test Loss: 0.08857700973749161, Test R^2: 0.23644137382507324\n",
      "Saving checkpoint for epoch 25 at ./checkpoints_64_21_pos/new/ckpt-5\n",
      "Epoch 25 Loss 0.0762 Accuracy -0.7256\n",
      "Time taken for 1 epoch: 4.27 secs\n",
      "\n",
      "Epoch 26 Batch 0 Loss 0.0684 Accuracy -0.7254\n",
      "Epoch 26, Loss: 0.07577218860387802, Test Loss: 0.08788245171308517, Test R^2: 0.24802327156066895\n",
      "Epoch 27 Batch 0 Loss 0.0744 Accuracy -0.6803\n",
      "Epoch 27, Loss: 0.07452818751335144, Test Loss: 0.08717063069343567, Test R^2: 0.2593510150909424\n",
      "Epoch 28 Batch 0 Loss 0.0853 Accuracy -0.6376\n",
      "Epoch 28, Loss: 0.07420341670513153, Test Loss: 0.0865800678730011, Test R^2: 0.27008122205734253\n",
      "Epoch 29 Batch 0 Loss 0.0638 Accuracy -0.5981\n",
      "Epoch 29, Loss: 0.07418550550937653, Test Loss: 0.08595649898052216, Test R^2: 0.27986037731170654\n",
      "Epoch 30 Batch 0 Loss 0.0736 Accuracy -0.5611\n",
      "Epoch 30, Loss: 0.07401128113269806, Test Loss: 0.08542031794786453, Test R^2: 0.2894055247306824\n",
      "Saving checkpoint for epoch 30 at ./checkpoints_64_21_pos/new/ckpt-6\n",
      "Epoch 30 Loss 0.0740 Accuracy -0.5265\n",
      "Time taken for 1 epoch: 4.26 secs\n",
      "\n",
      "Epoch 31 Batch 0 Loss 0.0654 Accuracy -0.5264\n",
      "Epoch 31, Loss: 0.07300160080194473, Test Loss: 0.08490007370710373, Test R^2: 0.29776573181152344\n",
      "Epoch 32 Batch 0 Loss 0.0925 Accuracy -0.4935\n",
      "Epoch 32, Loss: 0.07404463738203049, Test Loss: 0.08443072438240051, Test R^2: 0.30624109506607056\n",
      "Epoch 33 Batch 0 Loss 0.0902 Accuracy -0.4629\n",
      "Epoch 33, Loss: 0.07265352457761765, Test Loss: 0.08392119407653809, Test R^2: 0.31444835662841797\n",
      "Epoch 34 Batch 0 Loss 0.0741 Accuracy -0.4341\n",
      "Epoch 34, Loss: 0.0724458247423172, Test Loss: 0.08344238996505737, Test R^2: 0.3224601745605469\n",
      "Epoch 35 Batch 0 Loss 0.0759 Accuracy -0.4066\n",
      "Epoch 35, Loss: 0.07239323854446411, Test Loss: 0.0829879641532898, Test R^2: 0.32986027002334595\n",
      "Saving checkpoint for epoch 35 at ./checkpoints_64_21_pos/new/ckpt-7\n",
      "Epoch 35 Loss 0.0724 Accuracy -0.3807\n",
      "Time taken for 1 epoch: 4.25 secs\n",
      "\n",
      "Epoch 36 Batch 0 Loss 0.0790 Accuracy -0.3805\n",
      "Epoch 36, Loss: 0.07176069915294647, Test Loss: 0.08254305273294449, Test R^2: 0.33681076765060425\n",
      "Epoch 37 Batch 0 Loss 0.0649 Accuracy -0.3557\n",
      "Epoch 37, Loss: 0.07158288359642029, Test Loss: 0.0820901170372963, Test R^2: 0.34356337785720825\n",
      "Epoch 38 Batch 0 Loss 0.0914 Accuracy -0.3323\n",
      "Epoch 38, Loss: 0.07151807099580765, Test Loss: 0.08165550976991653, Test R^2: 0.35019606351852417\n",
      "Epoch 39 Batch 0 Loss 0.0772 Accuracy -0.3099\n",
      "Epoch 39, Loss: 0.0708552747964859, Test Loss: 0.08122904598712921, Test R^2: 0.35637205839157104\n",
      "Epoch 40 Batch 0 Loss 0.0634 Accuracy -0.2886\n",
      "Epoch 40, Loss: 0.0700468122959137, Test Loss: 0.08088737726211548, Test R^2: 0.36142897605895996\n",
      "Saving checkpoint for epoch 40 at ./checkpoints_64_21_pos/new/ckpt-8\n",
      "Epoch 40 Loss 0.0700 Accuracy -0.2682\n",
      "Time taken for 1 epoch: 4.45 secs\n",
      "\n",
      "Epoch 41 Batch 0 Loss 0.0752 Accuracy -0.2681\n",
      "Epoch 41, Loss: 0.07036524266004562, Test Loss: 0.0805516168475151, Test R^2: 0.36676138639450073\n",
      "Epoch 42 Batch 0 Loss 0.0567 Accuracy -0.2488\n",
      "Epoch 42, Loss: 0.07079730927944183, Test Loss: 0.0801943838596344, Test R^2: 0.37232571840286255\n",
      "Epoch 43 Batch 0 Loss 0.0765 Accuracy -0.2303\n",
      "Epoch 43, Loss: 0.07013361901044846, Test Loss: 0.07985799759626389, Test R^2: 0.37748265266418457\n",
      "Epoch 44 Batch 0 Loss 0.0564 Accuracy -0.2127\n",
      "Epoch 44, Loss: 0.06989351660013199, Test Loss: 0.07951506227254868, Test R^2: 0.38280725479125977\n",
      "Epoch 45 Batch 0 Loss 0.0633 Accuracy -0.1957\n",
      "Epoch 45, Loss: 0.06923990696668625, Test Loss: 0.07922947406768799, Test R^2: 0.38750380277633667\n",
      "Saving checkpoint for epoch 45 at ./checkpoints_64_21_pos/new/ckpt-9\n",
      "Epoch 45 Loss 0.0692 Accuracy -0.1795\n",
      "Time taken for 1 epoch: 4.48 secs\n",
      "\n",
      "Epoch 46 Batch 0 Loss 0.0617 Accuracy -0.1793\n",
      "Epoch 46, Loss: 0.06855162978172302, Test Loss: 0.07890685647726059, Test R^2: 0.3923969268798828\n",
      "Epoch 47 Batch 0 Loss 0.0815 Accuracy -0.1635\n",
      "Epoch 47, Loss: 0.06857244670391083, Test Loss: 0.07861045747995377, Test R^2: 0.3968226909637451\n",
      "Epoch 48 Batch 0 Loss 0.0967 Accuracy -0.1484\n",
      "Epoch 48, Loss: 0.06827966868877411, Test Loss: 0.07831461727619171, Test R^2: 0.4011189341545105\n",
      "Epoch 49 Batch 0 Loss 0.0532 Accuracy -0.1338\n",
      "Epoch 49, Loss: 0.06755588948726654, Test Loss: 0.07801958918571472, Test R^2: 0.40555524826049805\n",
      "Epoch 50 Batch 0 Loss 0.0672 Accuracy -0.1195\n",
      "Epoch 50, Loss: 0.06735842674970627, Test Loss: 0.07771957665681839, Test R^2: 0.41002053022384644\n",
      "Saving checkpoint for epoch 50 at ./checkpoints_64_21_pos/new/ckpt-10\n",
      "Epoch 50 Loss 0.0674 Accuracy -0.1058\n",
      "Time taken for 1 epoch: 4.26 secs\n",
      "\n",
      "Epoch 51 Batch 0 Loss 0.0825 Accuracy -0.1057\n",
      "Epoch 51, Loss: 0.06666053086519241, Test Loss: 0.0774657353758812, Test R^2: 0.4141138195991516\n",
      "Epoch 52 Batch 0 Loss 0.0715 Accuracy -0.0924\n",
      "Epoch 52, Loss: 0.06706517934799194, Test Loss: 0.07717970013618469, Test R^2: 0.41816598176956177\n",
      "Epoch 53 Batch 0 Loss 0.0632 Accuracy -0.0797\n",
      "Epoch 53, Loss: 0.06676643341779709, Test Loss: 0.07693220674991608, Test R^2: 0.4215148687362671\n",
      "Epoch 54 Batch 0 Loss 0.0627 Accuracy -0.0675\n",
      "Epoch 54, Loss: 0.06670260429382324, Test Loss: 0.07667694240808487, Test R^2: 0.4252774715423584\n",
      "Epoch 55 Batch 0 Loss 0.0771 Accuracy -0.0556\n",
      "Epoch 55, Loss: 0.06673887372016907, Test Loss: 0.07642520219087601, Test R^2: 0.42897480726242065\n",
      "Saving checkpoint for epoch 55 at ./checkpoints_64_21_pos/new/ckpt-11\n",
      "Epoch 55 Loss 0.0667 Accuracy -0.0442\n",
      "Time taken for 1 epoch: 4.24 secs\n",
      "\n",
      "Epoch 56 Batch 0 Loss 0.0497 Accuracy -0.0441\n",
      "Epoch 56, Loss: 0.06586463004350662, Test Loss: 0.07618489861488342, Test R^2: 0.43246251344680786\n",
      "Epoch 57 Batch 0 Loss 0.0710 Accuracy -0.0329\n",
      "Epoch 57, Loss: 0.06610925495624542, Test Loss: 0.07594753801822662, Test R^2: 0.4360191226005554\n",
      "Epoch 58 Batch 0 Loss 0.0671 Accuracy -0.0221\n",
      "Epoch 58, Loss: 0.06637848913669586, Test Loss: 0.07571961730718613, Test R^2: 0.43940967321395874\n",
      "Epoch 59 Batch 0 Loss 0.0568 Accuracy -0.0117\n",
      "Epoch 59, Loss: 0.06605464965105057, Test Loss: 0.0755118802189827, Test R^2: 0.4424169659614563\n",
      "Epoch 60 Batch 0 Loss 0.0558 Accuracy -0.0017\n",
      "Epoch 60, Loss: 0.06557638198137283, Test Loss: 0.07530990242958069, Test R^2: 0.445414662361145\n",
      "Saving checkpoint for epoch 60 at ./checkpoints_64_21_pos/new/ckpt-12\n",
      "Epoch 60 Loss 0.0656 Accuracy 0.0082\n",
      "Time taken for 1 epoch: 4.24 secs\n",
      "\n",
      "Epoch 61 Batch 0 Loss 0.0695 Accuracy 0.0082\n",
      "Epoch 61, Loss: 0.06523846834897995, Test Loss: 0.07509960234165192, Test R^2: 0.4485173225402832\n",
      "Epoch 62 Batch 0 Loss 0.0766 Accuracy 0.0178\n",
      "Epoch 62, Loss: 0.06570032238960266, Test Loss: 0.0749000608921051, Test R^2: 0.4515278935432434\n",
      "Epoch 63 Batch 0 Loss 0.0766 Accuracy 0.0270\n",
      "Epoch 63, Loss: 0.06527535617351532, Test Loss: 0.07470317929983139, Test R^2: 0.4543704390525818\n",
      "Epoch 64 Batch 0 Loss 0.0634 Accuracy 0.0359\n",
      "Epoch 64, Loss: 0.06521417200565338, Test Loss: 0.07451780140399933, Test R^2: 0.4570844769477844\n",
      "Epoch 65 Batch 0 Loss 0.0618 Accuracy 0.0446\n",
      "Epoch 65, Loss: 0.06551343202590942, Test Loss: 0.07433080673217773, Test R^2: 0.4598240256309509\n",
      "Saving checkpoint for epoch 65 at ./checkpoints_64_21_pos/new/ckpt-13\n",
      "Epoch 65 Loss 0.0655 Accuracy 0.0530\n",
      "Time taken for 1 epoch: 4.25 secs\n",
      "\n",
      "Epoch 66 Batch 0 Loss 0.0559 Accuracy 0.0530\n",
      "Epoch 66, Loss: 0.06538324803113937, Test Loss: 0.07417687773704529, Test R^2: 0.46238118410110474\n",
      "Epoch 67 Batch 0 Loss 0.0636 Accuracy 0.0612\n",
      "Epoch 67, Loss: 0.0651295855641365, Test Loss: 0.0739942342042923, Test R^2: 0.4650741219520569\n",
      "Epoch 68 Batch 0 Loss 0.0667 Accuracy 0.0693\n",
      "Epoch 68, Loss: 0.0645558089017868, Test Loss: 0.07381905615329742, Test R^2: 0.4675341248512268\n",
      "Epoch 69 Batch 0 Loss 0.0603 Accuracy 0.0771\n",
      "Epoch 69, Loss: 0.06433764845132828, Test Loss: 0.07365578413009644, Test R^2: 0.46999597549438477\n",
      "Epoch 70 Batch 0 Loss 0.0568 Accuracy 0.0847\n",
      "Epoch 70, Loss: 0.06462191045284271, Test Loss: 0.07351770251989365, Test R^2: 0.47225677967071533\n",
      "Saving checkpoint for epoch 70 at ./checkpoints_64_21_pos/new/ckpt-14\n",
      "Epoch 70 Loss 0.0646 Accuracy 0.0920\n",
      "Time taken for 1 epoch: 4.23 secs\n",
      "\n",
      "Epoch 71 Batch 0 Loss 0.0652 Accuracy 0.0920\n",
      "Epoch 71, Loss: 0.06464477628469467, Test Loss: 0.07342085242271423, Test R^2: 0.4741816520690918\n",
      "Epoch 72 Batch 0 Loss 0.0773 Accuracy 0.0992\n",
      "Epoch 72, Loss: 0.0651700347661972, Test Loss: 0.073269322514534, Test R^2: 0.47640734910964966\n",
      "Epoch 73 Batch 0 Loss 0.0518 Accuracy 0.1061\n",
      "Epoch 73, Loss: 0.06439805775880814, Test Loss: 0.07311031222343445, Test R^2: 0.4786446690559387\n",
      "Epoch 74 Batch 0 Loss 0.0587 Accuracy 0.1128\n",
      "Epoch 74, Loss: 0.0645020380616188, Test Loss: 0.07295514643192291, Test R^2: 0.4808446168899536\n",
      "Epoch 75 Batch 0 Loss 0.0536 Accuracy 0.1195\n",
      "Epoch 75, Loss: 0.06419197469949722, Test Loss: 0.07281451672315598, Test R^2: 0.48288285732269287\n",
      "Saving checkpoint for epoch 75 at ./checkpoints_64_21_pos/new/ckpt-15\n",
      "Epoch 75 Loss 0.0642 Accuracy 0.1259\n",
      "Time taken for 1 epoch: 4.24 secs\n",
      "\n",
      "Epoch 76 Batch 0 Loss 0.0567 Accuracy 0.1259\n",
      "Epoch 76, Loss: 0.06437954306602478, Test Loss: 0.07267412543296814, Test R^2: 0.48484426736831665\n",
      "Epoch 77 Batch 0 Loss 0.0525 Accuracy 0.1322\n",
      "Epoch 77, Loss: 0.06460905820131302, Test Loss: 0.0725410208106041, Test R^2: 0.48679399490356445\n",
      "Epoch 78 Batch 0 Loss 0.0859 Accuracy 0.1383\n",
      "Epoch 78, Loss: 0.06402046978473663, Test Loss: 0.0724143385887146, Test R^2: 0.48868024349212646\n",
      "Epoch 79 Batch 0 Loss 0.0649 Accuracy 0.1444\n",
      "Epoch 79, Loss: 0.06406233459711075, Test Loss: 0.07228107005357742, Test R^2: 0.4906168580055237\n",
      "Epoch 80 Batch 0 Loss 0.0492 Accuracy 0.1502\n",
      "Epoch 80, Loss: 0.0639658123254776, Test Loss: 0.07215423136949539, Test R^2: 0.4924268126487732\n",
      "Saving checkpoint for epoch 80 at ./checkpoints_64_21_pos/new/ckpt-16\n",
      "Epoch 80 Loss 0.0640 Accuracy 0.1560\n",
      "Time taken for 1 epoch: 4.24 secs\n",
      "\n",
      "Epoch 81 Batch 0 Loss 0.0566 Accuracy 0.1560\n",
      "Epoch 81, Loss: 0.06375321745872498, Test Loss: 0.07205083221197128, Test R^2: 0.49386298656463623\n",
      "Epoch 82 Batch 0 Loss 0.0555 Accuracy 0.1616\n",
      "Epoch 82, Loss: 0.06389632076025009, Test Loss: 0.07193030416965485, Test R^2: 0.4957044720649719\n",
      "Epoch 83 Batch 0 Loss 0.0549 Accuracy 0.1670\n",
      "Epoch 83, Loss: 0.0641019269824028, Test Loss: 0.07181446254253387, Test R^2: 0.4974403381347656\n",
      "Epoch 84 Batch 0 Loss 0.0530 Accuracy 0.1723\n",
      "Epoch 84, Loss: 0.0642535611987114, Test Loss: 0.07169907540082932, Test R^2: 0.4991540312767029\n",
      "Epoch 85 Batch 0 Loss 0.0605 Accuracy 0.1775\n",
      "Epoch 85, Loss: 0.06336028128862381, Test Loss: 0.07159683108329773, Test R^2: 0.5006228685379028\n",
      "Saving checkpoint for epoch 85 at ./checkpoints_64_21_pos/new/ckpt-17\n",
      "Epoch 85 Loss 0.0634 Accuracy 0.1826\n",
      "Time taken for 1 epoch: 4.27 secs\n",
      "\n",
      "Epoch 86 Batch 0 Loss 0.0545 Accuracy 0.1827\n",
      "Epoch 86, Loss: 0.06356150656938553, Test Loss: 0.07147901505231857, Test R^2: 0.5023181438446045\n",
      "Epoch 87 Batch 0 Loss 0.0512 Accuracy 0.1876\n",
      "Epoch 87, Loss: 0.06354357302188873, Test Loss: 0.07136640697717667, Test R^2: 0.5039547681808472\n",
      "Epoch 88 Batch 0 Loss 0.0620 Accuracy 0.1925\n",
      "Epoch 88, Loss: 0.06368701159954071, Test Loss: 0.07125570625066757, Test R^2: 0.5055502653121948\n",
      "Epoch 89 Batch 0 Loss 0.0600 Accuracy 0.1974\n",
      "Epoch 89, Loss: 0.06392091512680054, Test Loss: 0.07114861160516739, Test R^2: 0.5071526169776917\n",
      "Epoch 90 Batch 0 Loss 0.0526 Accuracy 0.2020\n",
      "Epoch 90, Loss: 0.06334080547094345, Test Loss: 0.07104708254337311, Test R^2: 0.5086499452590942\n",
      "Saving checkpoint for epoch 90 at ./checkpoints_64_21_pos/new/ckpt-18\n",
      "Epoch 90 Loss 0.0633 Accuracy 0.2066\n",
      "Time taken for 1 epoch: 4.34 secs\n",
      "\n",
      "Epoch 91 Batch 0 Loss 0.0616 Accuracy 0.2066\n",
      "Epoch 91, Loss: 0.06381145119667053, Test Loss: 0.07096053659915924, Test R^2: 0.5098658800125122\n",
      "Epoch 92 Batch 0 Loss 0.0590 Accuracy 0.2111\n",
      "Epoch 92, Loss: 0.06345202773809433, Test Loss: 0.07085391134023666, Test R^2: 0.5113488435745239\n",
      "Epoch 93 Batch 0 Loss 0.0562 Accuracy 0.2154\n",
      "Epoch 93, Loss: 0.06290830671787262, Test Loss: 0.07075521349906921, Test R^2: 0.5127942562103271\n",
      "Epoch 94 Batch 0 Loss 0.0683 Accuracy 0.2198\n",
      "Epoch 94, Loss: 0.06386138498783112, Test Loss: 0.07066360861063004, Test R^2: 0.5141180753707886\n",
      "Epoch 95 Batch 0 Loss 0.0578 Accuracy 0.2240\n",
      "Epoch 95, Loss: 0.06312981247901917, Test Loss: 0.07058535516262054, Test R^2: 0.5154168605804443\n",
      "Saving checkpoint for epoch 95 at ./checkpoints_64_21_pos/new/ckpt-19\n",
      "Epoch 95 Loss 0.0631 Accuracy 0.2281\n",
      "Time taken for 1 epoch: 4.25 secs\n",
      "\n",
      "Epoch 96 Batch 0 Loss 0.0552 Accuracy 0.2282\n",
      "Epoch 96, Loss: 0.06289663910865784, Test Loss: 0.07048675417900085, Test R^2: 0.5167931318283081\n",
      "Epoch 97 Batch 0 Loss 0.0616 Accuracy 0.2322\n",
      "Epoch 97, Loss: 0.06271039694547653, Test Loss: 0.07039361447095871, Test R^2: 0.5181154012680054\n",
      "Epoch 98 Batch 0 Loss 0.0646 Accuracy 0.2363\n",
      "Epoch 98, Loss: 0.06333434581756592, Test Loss: 0.07030153274536133, Test R^2: 0.5194500088691711\n",
      "Epoch 99 Batch 0 Loss 0.0708 Accuracy 0.2402\n",
      "Epoch 99, Loss: 0.0632142648100853, Test Loss: 0.07021842151880264, Test R^2: 0.5207324624061584\n",
      "Epoch 100 Batch 0 Loss 0.0630 Accuracy 0.2440\n",
      "Epoch 100, Loss: 0.06382445991039276, Test Loss: 0.07013355195522308, Test R^2: 0.5219389796257019\n",
      "Saving checkpoint for epoch 100 at ./checkpoints_64_21_pos/new/ckpt-20\n",
      "Epoch 100 Loss 0.0638 Accuracy 0.2477\n",
      "Time taken for 1 epoch: 4.25 secs\n",
      "\n"
     ]
    }
   ],
   "source": [
    "import time\n",
    "EPOCHS=100\n",
    "for epoch in range(EPOCHS):\n",
    "  start = time.time()\n",
    "\n",
    "  train_loss.reset_states()\n",
    "  train_accuracy.reset_states()\n",
    "\n",
    "\n",
    "  for (batch, (inp, tar)) in enumerate(real_train_set):\n",
    "    train_step(inp, tar)\n",
    "    if batch % 300 == 0:\n",
    "      print(f'Epoch {epoch + 1} Batch {batch} Loss {train_loss.result():.4f} Accuracy {train_metric.result():.4f}')\n",
    "\n",
    "  with train_summary_writer.as_default():\n",
    "    tf.summary.scalar('loss', train_loss.result(), step=epoch)\n",
    "    tf.summary.scalar('accuracy', train_metric.result(), step=epoch)\n",
    "\n",
    "  for (batch, (inp, tar)) in enumerate(test_dataset):\n",
    "    test_step(model, inp, tar)\n",
    "\n",
    "  with test_summary_writer.as_default():\n",
    "    #tf.summary.scalar('loss', test_loss.result(), step=epoch)\n",
    "    tf.summary.scalar('accuracy', test_metric.result(), step=epoch)\n",
    "\n",
    "  template = 'Epoch {}, Loss: {}, Test Loss: {}, Test R^2: {}'\n",
    "  print (template.format(epoch+1,\n",
    "                         train_loss.result(),\n",
    "                         test_loss.result(),\n",
    "                         test_metric.result()\n",
    "                         ))\n",
    "  #Print out information\n",
    " \n",
    "\n",
    "  if (epoch + 1) % 5 == 0:\n",
    "    ckpt_save_path = ckpt_manager.save()\n",
    "    print(f'Saving checkpoint for epoch {epoch+1} at {ckpt_save_path}')\n",
    "    print(f'Epoch {epoch + 1} Loss {train_loss.result():.4f} Accuracy {train_metric.result():.4f}')\n",
    "    print(f'Time taken for 1 epoch: {time.time() - start:.2f} secs\\n')"
   ]
  },
  {
   "cell_type": "markdown",
   "id": "ddbb1e38",
   "metadata": {},
   "source": [
    "## Visualize attentions"
   ]
  },
  {
   "cell_type": "code",
   "execution_count": 47,
   "id": "1537784c",
   "metadata": {},
   "outputs": [],
   "source": [
    "df[\"seq_spaced\"] = seq_spaced\n",
    "def visualize_attention(heads, labels, attention):\n",
    "    plt.rcParams[\"figure.figsize\"] = (20,5)\n",
    "    fig, axs = plt.subplots(1,heads)\n",
    "    plt.set_cmap('bwr')\n",
    "    for i in range(heads):\n",
    "        ax = axs[i]\n",
    "        cax = ax.matshow(attention[i])\n",
    "        ax.set_xticks(range(len(labels)))\n",
    "        ax.set_yticks(range(len(labels)))\n",
    "        #labels = [label for label in R.to_numpy()[0]]\n",
    "        ax.set_xticklabels(labels, rotation=90)\n",
    "        #labels = [label for label in R.to_numpy()[0]]\n",
    "        ax.set_yticklabels(labels)\n",
    "        print(f\"head{i}: {tf.reduce_max(attention[i])}\")\n",
    "        print(f\"head{i}: {tf.reduce_min(attention[i])}\")\n",
    "    cbar = fig.colorbar(cax)\n",
    "\n",
    "def plot_attention_head(sequence, attention, heads):\n",
    "    # The plot is of the attention when a token was generated.\n",
    "    # # The model didn't generate `<START>` in the output. Skip it.\n",
    "    labels = [label for label in sequence.to_numpy()[0]]\n",
    "    #translated_tokens = translated_tokens[1:]\n",
    "    #ax = plt.gca()\n",
    "    visualize_attention(heads = heads, labels=labels, attention=attention)\n",
    "    \n",
    "   "
   ]
  },
  {
   "cell_type": "markdown",
   "id": "db8e11ed",
   "metadata": {},
   "source": [
    "## Test individual sequence"
   ]
  },
  {
   "cell_type": "code",
   "execution_count": 48,
   "id": "8f4b2d8c",
   "metadata": {},
   "outputs": [
    {
     "name": "stdout",
     "output_type": "stream",
     "text": [
      "head0: 3.1803781986236572\n",
      "head0: -4.424685478210449\n",
      "head1: 9.652772903442383\n",
      "head1: -8.575675964355469\n",
      "head2: 5.864165306091309\n",
      "head2: -11.110296249389648\n",
      "sequence:  ['U A G U A G U']\n",
      "predicted RKA: 0.5630788803100586, real RKA 13003    0.782336\n",
      "Name: RKA_logplus1, dtype: float64\n"
     ]
    },
    {
     "data": {
      "image/png": "[encoded data removed]",
      "text/plain": [
       "<Figure size 2000x500 with 4 Axes>"
      ]
     },
     "metadata": {},
     "output_type": "display_data"
    }
   ],
   "source": [
    "seq = 'UAGUAGU'\n",
    "sequence_demo = df[df.sevenMer == seq].seq_spaced\n",
    "rka_for_show = df[df.sevenMer == seq].RKA_logplus1\n",
    "p = vectorize_layer(sequence_demo)\n",
    "result = model(p)\n",
    "att = model.layers[1].get_attention()['attentions_1'][0]\n",
    "matmul_qk_s = model.layers[1].get_matmul_qks()['matmul_qk_1'][0]\n",
    "R = sequence_demo.str.split(\" \")\n",
    "\n",
    "plot_attention_head(R,matmul_qk_s, num_heads)\n",
    "print('sequence: ', sequence_demo.to_numpy())\n",
    "print(f'predicted RKA: {result.numpy()}, real RKA {rka_for_show}')\n"
   ]
  },
  {
   "cell_type": "code",
   "execution_count": 49,
   "id": "c609e6a6",
   "metadata": {},
   "outputs": [
    {
     "name": "stdout",
     "output_type": "stream",
     "text": [
      "head0: 0.5049428343772888\n",
      "head0: 0.0071404059417545795\n",
      "head1: 0.9092442393302917\n",
      "head1: 0.00020627157937269658\n",
      "head2: 0.9612133502960205\n",
      "head2: 5.328962652129121e-05\n",
      "sequence:  ['U A G U A G U']\n",
      "predicted RKA: 0.5630788803100586, real RKA 13003    0.782336\n",
      "Name: RKA_logplus1, dtype: float64\n"
     ]
    },
    {
     "data": {
      "image/png": "[encoded data removed]",
      "text/plain": [
       "<Figure size 2000x500 with 4 Axes>"
      ]
     },
     "metadata": {},
     "output_type": "display_data"
    }
   ],
   "source": [
    "seq = 'UAGUAGU'\n",
    "sequence_demo = df[df.sevenMer == seq].seq_spaced\n",
    "rka_for_show = df[df.sevenMer == seq].RKA_logplus1\n",
    "p = vectorize_layer(sequence_demo)\n",
    "result = model(p)\n",
    "att = model.layers[1].get_attention()['attentions_1'][0]\n",
    "R = sequence_demo.str.split(\" \")\n",
    "\n",
    "plot_attention_head(R,att, num_heads)\n",
    "print('sequence: ', sequence_demo.to_numpy())\n",
    "print(f'predicted RKA: {result.numpy()}, real RKA {rka_for_show}')"
   ]
  },
  {
   "cell_type": "markdown",
   "id": "36b54b3d",
   "metadata": {},
   "source": [
    "## Verify the predicted result"
   ]
  },
  {
   "cell_type": "code",
   "execution_count": 50,
   "id": "585e15f1",
   "metadata": {},
   "outputs": [
    {
     "name": "stdout",
     "output_type": "stream",
     "text": [
      "51/51 [==============================] - 0s 1ms/step\n"
     ]
    },
    {
     "name": "stderr",
     "output_type": "stream",
     "text": [
      "2023-10-28 22:33:43.889901: I tensorflow/core/common_runtime/executor.cc:1197] [/device:CPU:0] (DEBUG INFO) Executor start aborting (this does not indicate an error and you can ignore this message): INVALID_ARGUMENT: You must feed a value for placeholder tensor 'Placeholder/_0' with dtype int64 and shape [5100,7]\n",
      "\t [[{{node Placeholder/_0}}]]\n"
     ]
    },
    {
     "data": {
      "text/plain": [
       "(5100,)"
      ]
     },
     "execution_count": 50,
     "metadata": {},
     "output_type": "execute_result"
    }
   ],
   "source": [
    "result = model.predict(x_test_database.batch(100))\n",
    "result.shape"
   ]
  },
  {
   "cell_type": "code",
   "execution_count": 51,
   "id": "bfc33748",
   "metadata": {},
   "outputs": [
    {
     "data": {
      "text/plain": [
       "<Axes: xlabel='RKA_logplus1'>"
      ]
     },
     "execution_count": 51,
     "metadata": {},
     "output_type": "execute_result"
    },
    {
     "data": {
      "image/png": "[encoded data removed]",
      "text/plain": [
       "<Figure size 600x500 with 1 Axes>"
      ]
     },
     "metadata": {},
     "output_type": "display_data"
    }
   ],
   "source": [
    "plt.rcParams[\"figure.figsize\"] = (6,5)\n",
    "sns.scatterplot(x=y_test, y=result)"
   ]
  },
  {
   "cell_type": "code",
   "execution_count": 52,
   "id": "07484671",
   "metadata": {},
   "outputs": [
    {
     "data": {
      "text/plain": [
       "0.6413234846945735"
      ]
     },
     "execution_count": 52,
     "metadata": {},
     "output_type": "execute_result"
    }
   ],
   "source": [
    "# Calculate R^2\n",
    "from sklearn.metrics import r2_score\n",
    "r2_score(y_test, result)"
   ]
  },
  {
   "cell_type": "code",
   "execution_count": 53,
   "id": "45e4ab20",
   "metadata": {},
   "outputs": [
    {
     "data": {
      "text/plain": [
       "<Axes: xlabel='RKA_logplus1', ylabel='Count'>"
      ]
     },
     "execution_count": 53,
     "metadata": {},
     "output_type": "execute_result"
    },
    {
     "data": {
      "image/png": "[encoded data removed]",
      "text/plain": [
       "<Figure size 600x500 with 1 Axes>"
      ]
     },
     "metadata": {},
     "output_type": "display_data"
    }
   ],
   "source": [
    "sns.histplot(y_test, color = \"orange\")\n",
    "sns.histplot(result, color = \"blue\")\n",
    "# # 绘制y_test和result的cdf曲线图\n",
    "# sns.kdeplot(y_test, cumulative=True)\n",
    "# sns.kdeplot(result, cumulative=True)\n"
   ]
  }
 ],
 "metadata": {
  "interpreter": {
   "hash": "43609d96788f9f207c5e22c650b4a13ebb7a351aa95d515be949d18331f6c071"
  },
  "kernelspec": {
   "display_name": "Python 3 (ipykernel)",
   "language": "python",
   "name": "python3"
  },
  "language_info": {
   "codemirror_mode": {
    "name": "ipython",
    "version": 3
   },
   "file_extension": ".py",
   "mimetype": "text/x-python",
   "name": "python",
   "nbconvert_exporter": "python",
   "pygments_lexer": "ipython3",
   "version": "3.8.16"
  }
 },
 "nbformat": 4,
 "nbformat_minor": 5
}
